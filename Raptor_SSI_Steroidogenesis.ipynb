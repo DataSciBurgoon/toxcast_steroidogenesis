{
 "cells": [
  {
   "cell_type": "markdown",
   "id": "7fd665fa-40cf-4daf-b1ed-506c6fe26cd8",
   "metadata": {},
   "source": [
    "# Analysis of ToxCast Data Used by the Silent Spring Institute's EHP Paper ([Cardona and Rudel, 2021](https://ehp.niehs.nih.gov/doi/10.1289/EHP8608))\n",
    "\n",
    "Date: 10/5/2021\n",
    "\n",
    "Author: Lyle D. Burgoon, Ph.D.\n",
    "\n",
    "# Background\n",
    "\n",
    "Cardona and Rudel (2021) published a study where they purport to identify chemicals that increase estrogen or progesterone levels in a ToxCast assay. They generated two lists of chemicals -- one for chemicals that increase estrogen levels, and one that increase progesterone levels.\n",
    "\n",
    "# Purpose\n",
    "\n",
    "The purpose of this analysis is to identify if the chemicals identified in Cardona and Rudel (2021) are actually changing the levels of estrogen or progesterone as measured in the high throughput H295R ToxCast assay. Part of this analysis will focus on data quality, while the other part will focus on a statistical analysis. \n",
    "\n",
    "We are going to query our local copy of the invitroDB -- the database that contains the ToxCast data. We downloaded [invitroDBv3.3](https://gaftp.epa.gov/COMPTOX/High_Throughput_Screening_Data/InVitroDB_V3.3/MySQL_Data/INVITRODB_V3_3_MYSQL.zip) from the [US EPA's ToxCast Download page](https://www.epa.gov/chemical-research/exploring-toxcast-data-downloadable-data).\n",
    "\n",
    "We used [MySQL 5.7.35 Community Server](https://dev.mysql.com/downloads/mysql/5.7.html) to ensure we were using the same version of MySQL that invitroDB was built on.\n",
    "\n",
    "# Database Queries\n",
    "\n",
    "For various reasons, security being chief among them, I'm running my database queries outside of this Jupyter notebook, and exporting the results to text files. I'm then reading the text files into this notebook for further analysis and visualization. However, I will include the SQL code in this notebook so you can see what queries I ran to get the data being used.\n",
    "\n",
    "Note: I also added 2 new tables to invitroDB to capture the chemicals identified by the silent_spring_institute: the estrogen up chemicals are in the table \"chemicals_silent_spring_identified\" which consists of a primary key, a column called chemical_name, and a column called casn for the CASRN.. The progesterone up chemicals are in the table \"chemicals_silent_spring_identified_p4\" which consists of a primary key, a column called chemical_name, and a column called casn for the CASRN.\n",
    "\n",
    "# Initialize R Environment"
   ]
  },
  {
   "cell_type": "code",
   "execution_count": 1,
   "id": "eb9516f8-5f0b-4c47-bf6a-f966cd41d66f",
   "metadata": {},
   "outputs": [
    {
     "name": "stderr",
     "output_type": "stream",
     "text": [
      "\n",
      "Attaching package: 'dplyr'\n",
      "\n",
      "\n",
      "The following objects are masked from 'package:stats':\n",
      "\n",
      "    filter, lag\n",
      "\n",
      "\n",
      "The following objects are masked from 'package:base':\n",
      "\n",
      "    intersect, setdiff, setequal, union\n",
      "\n",
      "\n",
      "Loading required package: StanHeaders\n",
      "\n",
      "rstan (Version 2.21.2, GitRev: 2e1f913d3ca3)\n",
      "\n",
      "For execution on a local, multicore CPU with excess RAM we recommend calling\n",
      "options(mc.cores = parallel::detectCores()).\n",
      "To avoid recompilation of unchanged Stan programs, we recommend calling\n",
      "rstan_options(auto_write = TRUE)\n",
      "\n",
      "Do not specify '-march=native' in 'LOCAL_CPPFLAGS' or a Makevars file\n",
      "\n",
      "This is bayesplot version 1.8.1\n",
      "\n",
      "- Online documentation and vignettes at mc-stan.org/bayesplot\n",
      "\n",
      "- bayesplot theme set to bayesplot::theme_default()\n",
      "\n",
      "   * Does _not_ affect other ggplot2 plots\n",
      "\n",
      "   * See ?bayesplot_theme_set for details on theme setting\n",
      "\n"
     ]
    }
   ],
   "source": [
    "library(ggplot2)\n",
    "library(dplyr)\n",
    "library(rstan)\n",
    "library(bayesplot)\n",
    "library(stringr)\n",
    "\n",
    "options(mc.cores = parallel::detectCores())\n",
    "rstan_options(auto_write = TRUE)\n",
    "\n",
    "set.seed(530727)"
   ]
  },
  {
   "cell_type": "markdown",
   "id": "703376bf-4902-4831-ba22-536d383a19cd",
   "metadata": {},
   "source": [
    "# Challenge 1: Low Number of Replicates\n",
    "\n",
    "The US EPA has always been very careful about how they talk about ToxCast, and they have been clear that they tend to use a smaller number of replicates per concentration so that they could screen more chemicals. We are going to look at the distribution of number of samples used in the dataset reported by Cardona and Rudel, 2021.\n",
    "\n",
    "Note: All of the hormones are being measured simultaneously. What this means is that the number of replicates per chemical concentration is the same across all hormones. Thus, we only need to run one query for estrogen increase and one for progesterone increase to get accurate counts of replicates per chemical concentration.\n",
    "\n",
    "## Estrogen Increase\n",
    "\n",
    "For the estrogen increase dataset, I ran the following SQL query:\n",
    "\n",
    "11-deoxycortisol:\n",
    "\n",
    "```\n",
    "select assay_component.assay_component_name, assay_component.technological_target_type_sub, chemical.chnm, mc0.conc, count(*)\n",
    "from mc0 \n",
    "JOIN sample ON mc0.spid = sample.spid \n",
    "JOIN chemical ON sample.chid = chemical.chid \n",
    "JOIN chemicals_silent_spring_identified on chemicals_silent_spring_identified.casn = chemical.casn \n",
    "JOIN assay_component on assay_component.acid = mc0.acid \n",
    "WHERE mc0.acid = 594\n",
    "GROUP BY assay_component.assay_component_name, assay_component.technological_target_type_sub, chnm, mc0.conc \n",
    "ORDER BY chnm, conc;\n",
    "```\n",
    "\n",
    "I output this data into the this file:./invitrodb_queries/estrogen_up_queries_and_data/estrogen_assay_counts.txt\n",
    "\n",
    "Let's look at the distribution of samples or replicates per chemical concentration:"
   ]
  },
  {
   "cell_type": "code",
   "execution_count": 2,
   "id": "ac91e6d9-02cb-4cfb-8e40-35f57d6a5723",
   "metadata": {},
   "outputs": [
    {
     "name": "stderr",
     "output_type": "stream",
     "text": [
      "Warning message:\n",
      "\"Removed 37 rows containing missing values (geom_violin).\"\n"
     ]
    },
    {
     "data": {
      "image/png": "[encoded data removed]",
      "text/plain": [
       "plot without title"
      ]
     },
     "metadata": {
      "image/png": {
       "height": 420,
       "width": 420
      }
     },
     "output_type": "display_data"
    }
   ],
   "source": [
    "chem_conc_count <- read.table(file = \"./invitrodb_queries/estrogen_up_queries_and_data/estrogen_assay_counts.txt\", sep=\"\\t\", header=TRUE)\n",
    "ggplot(chem_conc_count, aes(x=assay_component_name, y=count...)) +\n",
    "    geom_violin(trim=FALSE) +\n",
    "    ylim(c(0,max(chem_conc_count$count...))) +\n",
    "    ylab(\"count\")\n"
   ]
  },
  {
   "cell_type": "markdown",
   "id": "dd944e63-90e8-44a3-be42-bd8f2f9edf52",
   "metadata": {},
   "source": [
    "This next block will write out the histogram to file"
   ]
  },
  {
   "cell_type": "code",
   "execution_count": 3,
   "id": "6039e12e-d00b-4fa8-8be5-811bde0344d5",
   "metadata": {},
   "outputs": [
    {
     "name": "stderr",
     "output_type": "stream",
     "text": [
      "Warning message:\n",
      "\"Removed 37 rows containing missing values (geom_violin).\"\n"
     ]
    },
    {
     "data": {
      "text/html": [
       "<strong>png:</strong> 2"
      ],
      "text/latex": [
       "\\textbf{png:} 2"
      ],
      "text/markdown": [
       "**png:** 2"
      ],
      "text/plain": [
       "png \n",
       "  2 "
      ]
     },
     "metadata": {},
     "output_type": "display_data"
    }
   ],
   "source": [
    "png(\"estrogen_conc_count.png\", width=5000, height=5000, res=600)\n",
    "ggplot(chem_conc_count, aes(x=assay_component_name, y=count...)) +\n",
    "    geom_violin(trim=FALSE) +\n",
    "    ylim(c(0,max(chem_conc_count$count...))) +\n",
    "    ylab(\"count\")\n",
    "dev.off()"
   ]
  },
  {
   "cell_type": "markdown",
   "id": "4b964343-3bc1-46b2-b73b-05dd12e651a1",
   "metadata": {},
   "source": [
    "It's clear -- most chemical concentrations only have 2 samples. A far smaller number have 4. And a very small number have 3, 6 or 8. How does this all breakdown?"
   ]
  },
  {
   "cell_type": "code",
   "execution_count": 4,
   "id": "6e1d77b9-bd24-44f5-b3d3-e4ccd11cc705",
   "metadata": {},
   "outputs": [
    {
     "data": {
      "text/html": [
       "<table class=\"dataframe\">\n",
       "<caption>A data.frame: 8 × 3</caption>\n",
       "<thead>\n",
       "\t<tr><th scope=col>number_replicates</th><th scope=col>count</th><th scope=col>percentage</th></tr>\n",
       "\t<tr><th scope=col>&lt;dbl&gt;</th><th scope=col>&lt;int&gt;</th><th scope=col>&lt;dbl&gt;</th></tr>\n",
       "</thead>\n",
       "<tbody>\n",
       "\t<tr><td>1</td><td>  2</td><td>0.001968504</td></tr>\n",
       "\t<tr><td>2</td><td>862</td><td>0.848425197</td></tr>\n",
       "\t<tr><td>3</td><td>  6</td><td>0.005905512</td></tr>\n",
       "\t<tr><td>4</td><td>134</td><td>0.131889764</td></tr>\n",
       "\t<tr><td>5</td><td>  0</td><td>0.000000000</td></tr>\n",
       "\t<tr><td>6</td><td>  6</td><td>0.005905512</td></tr>\n",
       "\t<tr><td>7</td><td>  1</td><td>0.000984252</td></tr>\n",
       "\t<tr><td>8</td><td>  5</td><td>0.004921260</td></tr>\n",
       "</tbody>\n",
       "</table>\n"
      ],
      "text/latex": [
       "A data.frame: 8 × 3\n",
       "\\begin{tabular}{lll}\n",
       " number\\_replicates & count & percentage\\\\\n",
       " <dbl> & <int> & <dbl>\\\\\n",
       "\\hline\n",
       "\t 1 &   2 & 0.001968504\\\\\n",
       "\t 2 & 862 & 0.848425197\\\\\n",
       "\t 3 &   6 & 0.005905512\\\\\n",
       "\t 4 & 134 & 0.131889764\\\\\n",
       "\t 5 &   0 & 0.000000000\\\\\n",
       "\t 6 &   6 & 0.005905512\\\\\n",
       "\t 7 &   1 & 0.000984252\\\\\n",
       "\t 8 &   5 & 0.004921260\\\\\n",
       "\\end{tabular}\n"
      ],
      "text/markdown": [
       "\n",
       "A data.frame: 8 × 3\n",
       "\n",
       "| number_replicates &lt;dbl&gt; | count &lt;int&gt; | percentage &lt;dbl&gt; |\n",
       "|---|---|---|\n",
       "| 1 |   2 | 0.001968504 |\n",
       "| 2 | 862 | 0.848425197 |\n",
       "| 3 |   6 | 0.005905512 |\n",
       "| 4 | 134 | 0.131889764 |\n",
       "| 5 |   0 | 0.000000000 |\n",
       "| 6 |   6 | 0.005905512 |\n",
       "| 7 |   1 | 0.000984252 |\n",
       "| 8 |   5 | 0.004921260 |\n",
       "\n"
      ],
      "text/plain": [
       "  number_replicates count percentage \n",
       "1 1                   2   0.001968504\n",
       "2 2                 862   0.848425197\n",
       "3 3                   6   0.005905512\n",
       "4 4                 134   0.131889764\n",
       "5 5                   0   0.000000000\n",
       "6 6                   6   0.005905512\n",
       "7 7                   1   0.000984252\n",
       "8 8                   5   0.004921260"
      ]
     },
     "metadata": {},
     "output_type": "display_data"
    },
    {
     "data": {
      "text/html": [
       "1016"
      ],
      "text/latex": [
       "1016"
      ],
      "text/markdown": [
       "1016"
      ],
      "text/plain": [
       "[1] 1016"
      ]
     },
     "metadata": {},
     "output_type": "display_data"
    }
   ],
   "source": [
    "x_total <- length(chem_conc_count$count...)\n",
    "x_1 <- length(which(chem_conc_count$count... == 1))\n",
    "x_2 <- length(which(chem_conc_count$count... == 2))\n",
    "x_3 <- length(which(chem_conc_count$count... == 3))\n",
    "x_4 <- length(which(chem_conc_count$count... == 4))\n",
    "x_5 <- length(which(chem_conc_count$count... == 5))\n",
    "x_6 <- length(which(chem_conc_count$count... == 6))\n",
    "x_7 <- length(which(chem_conc_count$count... == 7))\n",
    "x_8 <- length(which(chem_conc_count$count... == 8))\n",
    "\n",
    "x_df <- data.frame(number_replicates = c(1, 2,3,4,5,6,7,8),\n",
    "          count = c(x_1, x_2, x_3, x_4, x_5, x_6, x_7, x_8),\n",
    "          percentage = c(x_1/x_total, x_2/x_total, x_3/x_total, x_4/x_total, x_5/x_total, x_6/x_total, x_7/x_total, x_8/x_total))\n",
    "x_df\n",
    "x_total"
   ]
  },
  {
   "cell_type": "markdown",
   "id": "d3efe0cd-9a4d-478a-91f6-e4f42a961d75",
   "metadata": {},
   "source": [
    "## Progesterone Increase\n",
    "\n",
    "For the progesterone increase dataset, I ran the following SQL query:\n",
    "\n",
    "11-deoxycortisol:\n",
    "\n",
    "```\n",
    "select assay_component.assay_component_name, assay_component.technological_target_type_sub, chemical.chnm, mc0.conc, count(*)\n",
    "from mc0 \n",
    "JOIN sample ON mc0.spid = sample.spid \n",
    "JOIN chemical ON sample.chid = chemical.chid \n",
    "JOIN chemicals_silent_spring_identified_p4 on chemicals_silent_spring_identified_p4.casn = chemical.casn\n",
    "JOIN assay_component on assay_component.acid = mc0.acid \n",
    "WHERE mc0.acid = 597\n",
    "GROUP BY assay_component.assay_component_name, assay_component.technological_target_type_sub, chnm, mc0.conc \n",
    "ORDER BY chnm, conc;\n",
    "```\n",
    "\n",
    "I output this data into the this file:./invitrodb_queries/progesterone_up_queries_and_data/progesterone_assay_counts.txt\n",
    "\n",
    "Let's look at the distribution of samples or replicates per chemical concentration:"
   ]
  },
  {
   "cell_type": "code",
   "execution_count": 5,
   "id": "3a7d6c8a-c2cd-482d-bf00-702386c085fe",
   "metadata": {},
   "outputs": [
    {
     "name": "stderr",
     "output_type": "stream",
     "text": [
      "Warning message in scan(file = file, what = what, sep = sep, quote = quote, dec = dec, :\n",
      "\"EOF within quoted string\"\n",
      "Warning message in scan(file = file, what = what, sep = sep, quote = quote, dec = dec, :\n",
      "\"number of items read is not a multiple of the number of columns\"\n",
      "Warning message:\n",
      "\"Removed 1 rows containing non-finite values (stat_ydensity).\"\n"
     ]
    },
    {
     "data": {
      "image/png": "[encoded data removed]",
      "text/plain": [
       "plot without title"
      ]
     },
     "metadata": {
      "image/png": {
       "height": 420,
       "width": 420
      }
     },
     "output_type": "display_data"
    }
   ],
   "source": [
    "chem_conc_count <- read.table(file = \"./invitrodb_queries/progesterone_up_queries_and_data/progesterone_assay_counts.txt\", sep=\"\\t\", header=TRUE)\n",
    "ggplot(chem_conc_count, aes(x=assay_component_name, y=count...)) +\n",
    "    geom_violin(trim=FALSE) +\n",
    "    ylim(c(0,max(chem_conc_count$count...))) +\n",
    "    ylab(\"count\")"
   ]
  },
  {
   "cell_type": "markdown",
   "id": "cdafcbfa-9214-4eb1-9615-987f0014a690",
   "metadata": {},
   "source": [
    "This next block will write out the histogram to file"
   ]
  },
  {
   "cell_type": "code",
   "execution_count": 6,
   "id": "c6f343f8-775d-4a73-a355-2e5a4369faa1",
   "metadata": {},
   "outputs": [
    {
     "name": "stderr",
     "output_type": "stream",
     "text": [
      "Warning message:\n",
      "\"Removed 1 rows containing non-finite values (stat_ydensity).\"\n"
     ]
    },
    {
     "data": {
      "text/html": [
       "<strong>png:</strong> 2"
      ],
      "text/latex": [
       "\\textbf{png:} 2"
      ],
      "text/markdown": [
       "**png:** 2"
      ],
      "text/plain": [
       "png \n",
       "  2 "
      ]
     },
     "metadata": {},
     "output_type": "display_data"
    }
   ],
   "source": [
    "png(\"progesterone_conc_count_progesterone.png\", width=5000, height=5000, res=600)\n",
    "ggplot(chem_conc_count, aes(x=assay_component_name, y=count...)) +\n",
    "    geom_violin(trim=FALSE) +\n",
    "    ylim(c(0,max(chem_conc_count$count...))) +\n",
    "    ylab(\"count\")\n",
    "dev.off()"
   ]
  },
  {
   "cell_type": "markdown",
   "id": "8ad0cb97-a9f9-453a-8669-cca1ccf7e54e",
   "metadata": {},
   "source": [
    "It's clear -- most chemical concentrations only have 2 samples. A far smaller number have 4. How does this all breakdown?"
   ]
  },
  {
   "cell_type": "code",
   "execution_count": 7,
   "id": "924f231a-e020-42a2-aa61-23d2a63f65d1",
   "metadata": {},
   "outputs": [
    {
     "data": {
      "text/html": [
       "<table class=\"dataframe\">\n",
       "<caption>A data.frame: 8 × 3</caption>\n",
       "<thead>\n",
       "\t<tr><th scope=col>number_replicates</th><th scope=col>count</th><th scope=col>percentage</th></tr>\n",
       "\t<tr><th scope=col>&lt;dbl&gt;</th><th scope=col>&lt;int&gt;</th><th scope=col>&lt;dbl&gt;</th></tr>\n",
       "</thead>\n",
       "<tbody>\n",
       "\t<tr><td>1</td><td>  0</td><td>0.0000000</td></tr>\n",
       "\t<tr><td>2</td><td>244</td><td>0.8079470</td></tr>\n",
       "\t<tr><td>3</td><td>  0</td><td>0.0000000</td></tr>\n",
       "\t<tr><td>4</td><td> 57</td><td>0.1887417</td></tr>\n",
       "\t<tr><td>5</td><td>  0</td><td>0.0000000</td></tr>\n",
       "\t<tr><td>6</td><td>  0</td><td>0.0000000</td></tr>\n",
       "\t<tr><td>7</td><td>  0</td><td>0.0000000</td></tr>\n",
       "\t<tr><td>8</td><td>  0</td><td>0.0000000</td></tr>\n",
       "</tbody>\n",
       "</table>\n"
      ],
      "text/latex": [
       "A data.frame: 8 × 3\n",
       "\\begin{tabular}{lll}\n",
       " number\\_replicates & count & percentage\\\\\n",
       " <dbl> & <int> & <dbl>\\\\\n",
       "\\hline\n",
       "\t 1 &   0 & 0.0000000\\\\\n",
       "\t 2 & 244 & 0.8079470\\\\\n",
       "\t 3 &   0 & 0.0000000\\\\\n",
       "\t 4 &  57 & 0.1887417\\\\\n",
       "\t 5 &   0 & 0.0000000\\\\\n",
       "\t 6 &   0 & 0.0000000\\\\\n",
       "\t 7 &   0 & 0.0000000\\\\\n",
       "\t 8 &   0 & 0.0000000\\\\\n",
       "\\end{tabular}\n"
      ],
      "text/markdown": [
       "\n",
       "A data.frame: 8 × 3\n",
       "\n",
       "| number_replicates &lt;dbl&gt; | count &lt;int&gt; | percentage &lt;dbl&gt; |\n",
       "|---|---|---|\n",
       "| 1 |   0 | 0.0000000 |\n",
       "| 2 | 244 | 0.8079470 |\n",
       "| 3 |   0 | 0.0000000 |\n",
       "| 4 |  57 | 0.1887417 |\n",
       "| 5 |   0 | 0.0000000 |\n",
       "| 6 |   0 | 0.0000000 |\n",
       "| 7 |   0 | 0.0000000 |\n",
       "| 8 |   0 | 0.0000000 |\n",
       "\n"
      ],
      "text/plain": [
       "  number_replicates count percentage\n",
       "1 1                   0   0.0000000 \n",
       "2 2                 244   0.8079470 \n",
       "3 3                   0   0.0000000 \n",
       "4 4                  57   0.1887417 \n",
       "5 5                   0   0.0000000 \n",
       "6 6                   0   0.0000000 \n",
       "7 7                   0   0.0000000 \n",
       "8 8                   0   0.0000000 "
      ]
     },
     "metadata": {},
     "output_type": "display_data"
    }
   ],
   "source": [
    "x_total <- length(chem_conc_count$count...)\n",
    "x_1 <- length(which(chem_conc_count$count... == 1))\n",
    "x_2 <- length(which(chem_conc_count$count... == 2))\n",
    "x_3 <- length(which(chem_conc_count$count... == 3))\n",
    "x_4 <- length(which(chem_conc_count$count... == 4))\n",
    "x_5 <- length(which(chem_conc_count$count... == 5))\n",
    "x_6 <- length(which(chem_conc_count$count... == 6))\n",
    "x_7 <- length(which(chem_conc_count$count... == 7))\n",
    "x_8 <- length(which(chem_conc_count$count... == 8))\n",
    "\n",
    "x_df <- data.frame(number_replicates = c(1, 2,3,4,5,6,7,8),\n",
    "          count = c(x_1, x_2, x_3, x_4, x_5, x_6, x_7, x_8),\n",
    "          percentage = c(x_1/x_total, x_2/x_total, x_3/x_total, x_4/x_total, x_5/x_total, x_6/x_total, x_7/x_total, x_8/x_total))\n",
    "\n",
    "x_df"
   ]
  },
  {
   "cell_type": "markdown",
   "id": "c75cfcce-c32d-44ae-8a32-9b78bacbdbfc",
   "metadata": {},
   "source": [
    "This makes it clear -- there are very few replicates per concentration overall within the chemicals used for the progesterone increase dataset. This is not at all surprising, in fact, it is by design. However, what this means is that the data are at a very high risk of bias due to sampling error. Keep in mind, ToxCast was intended to be used for chemical screening and it is fit for purpose for hypothesis generation. However, scientists and regulators must not draw definitive conclusions based on data from ToxCast."
   ]
  },
  {
   "cell_type": "markdown",
   "id": "6a54e31d-9f82-4a8b-9cff-35f8892dd9e8",
   "metadata": {},
   "source": [
    "# Challenge 2: Statistical Analysis\n",
    "\n",
    "Having so few replicates makes it challenging to identify if there is a treatment effect. The reason why is because small numbers of replicates drives sampling bias, which tends to favor false positive effects. In addition, we lack a biological significance level for this assay. \n",
    "\n",
    "## Example: Coumaphos\n",
    "\n",
    "Coumaphos was identified by Cardona and Rudel as significantly driving estrogen production levels by about 4x. But is this real? Let's check it out.\n",
    "\n",
    "I'm going to start by looking at the DMSO data. Fortunately, we have a lot of DMSO data. Given that we have technical replicates on each plate for DMSO, we have a lot of exchangeable data. I'm interested in trying to model the plate effects, with the understanding that it may not be as successful as I would like, given the fact we have so few replicates per plate. However, here's a start:\n",
    "\n",
    "### 1. DMSO: Build the dataset\n",
    "\n",
    "I'm going to read in the data from ToxCast (invitroDB), and then I'm going to summarize this information.\n",
    "\n",
    "Here's the SQL:\n",
    "```\n",
    "select mc0.spid, mc0.apid, mc0.rowi, mc0.coli, mc0.wllt, mc0.wllq, mc0.conc, mc0.rval\n",
    "from mc0  \n",
    "WHERE mc0.spid = \"DMSO\"\n",
    "AND mc0.acid = 594\n",
    "LIMIT 0, 1000\n",
    "```\n"
   ]
  },
  {
   "cell_type": "code",
   "execution_count": 8,
   "id": "47627bea-ade2-4409-a01a-dbee8e0a5908",
   "metadata": {},
   "outputs": [],
   "source": [
    "dmso_estrogen <- as_tibble(read.table(file = \"./invitrodb_queries/estrogen_up_queries_and_data/dmso_estradiol_levels.txt\", sep=\"\\t\", header=TRUE))\n",
    "dmso_estrogen_summary <- dmso_estrogen %>% group_by(apid) %>% summarize(mean=mean(rval), se=sd(rval)/sqrt(n()))"
   ]
  },
  {
   "cell_type": "code",
   "execution_count": 9,
   "id": "dd1ed6a3-ee01-4a23-900b-d97bdc80c11b",
   "metadata": {},
   "outputs": [
    {
     "data": {
      "text/html": [
       "<table class=\"dataframe\">\n",
       "<caption>A tibble: 6 × 3</caption>\n",
       "<thead>\n",
       "\t<tr><th scope=col>apid</th><th scope=col>mean</th><th scope=col>se</th></tr>\n",
       "\t<tr><th scope=col>&lt;chr&gt;</th><th scope=col>&lt;dbl&gt;</th><th scope=col>&lt;dbl&gt;</th></tr>\n",
       "</thead>\n",
       "<tbody>\n",
       "\t<tr><td>02Apr14.Plate.2   </td><td>0.570</td><td>0.010</td></tr>\n",
       "\t<tr><td>02Apr2014.Plate.1 </td><td>0.495</td><td>0.035</td></tr>\n",
       "\t<tr><td>02Apr2014.Plate.10</td><td>0.565</td><td>0.005</td></tr>\n",
       "\t<tr><td>02Apr2014.Plate.11</td><td>0.650</td><td>0.020</td></tr>\n",
       "\t<tr><td>02Apr2014.Plate.12</td><td>0.550</td><td>0.010</td></tr>\n",
       "\t<tr><td>02Apr2014.Plate.13</td><td>0.655</td><td>0.005</td></tr>\n",
       "</tbody>\n",
       "</table>\n"
      ],
      "text/latex": [
       "A tibble: 6 × 3\n",
       "\\begin{tabular}{lll}\n",
       " apid & mean & se\\\\\n",
       " <chr> & <dbl> & <dbl>\\\\\n",
       "\\hline\n",
       "\t 02Apr14.Plate.2    & 0.570 & 0.010\\\\\n",
       "\t 02Apr2014.Plate.1  & 0.495 & 0.035\\\\\n",
       "\t 02Apr2014.Plate.10 & 0.565 & 0.005\\\\\n",
       "\t 02Apr2014.Plate.11 & 0.650 & 0.020\\\\\n",
       "\t 02Apr2014.Plate.12 & 0.550 & 0.010\\\\\n",
       "\t 02Apr2014.Plate.13 & 0.655 & 0.005\\\\\n",
       "\\end{tabular}\n"
      ],
      "text/markdown": [
       "\n",
       "A tibble: 6 × 3\n",
       "\n",
       "| apid &lt;chr&gt; | mean &lt;dbl&gt; | se &lt;dbl&gt; |\n",
       "|---|---|---|\n",
       "| 02Apr14.Plate.2    | 0.570 | 0.010 |\n",
       "| 02Apr2014.Plate.1  | 0.495 | 0.035 |\n",
       "| 02Apr2014.Plate.10 | 0.565 | 0.005 |\n",
       "| 02Apr2014.Plate.11 | 0.650 | 0.020 |\n",
       "| 02Apr2014.Plate.12 | 0.550 | 0.010 |\n",
       "| 02Apr2014.Plate.13 | 0.655 | 0.005 |\n",
       "\n"
      ],
      "text/plain": [
       "  apid               mean  se   \n",
       "1 02Apr14.Plate.2    0.570 0.010\n",
       "2 02Apr2014.Plate.1  0.495 0.035\n",
       "3 02Apr2014.Plate.10 0.565 0.005\n",
       "4 02Apr2014.Plate.11 0.650 0.020\n",
       "5 02Apr2014.Plate.12 0.550 0.010\n",
       "6 02Apr2014.Plate.13 0.655 0.005"
      ]
     },
     "metadata": {},
     "output_type": "display_data"
    }
   ],
   "source": [
    "head(dmso_estrogen_summary)"
   ]
  },
  {
   "cell_type": "markdown",
   "id": "00a5f82a-fe19-4c90-9117-750c359d07fe",
   "metadata": {},
   "source": [
    "There are some NAs in the dataset that need to reckoned with. These happen when there is only one replicate on the plate. I'm going to substitute the mean of the standard errors for the NA values. In addition, there are a few 0's in the standard error column -- that's also not possible, so I'm giving them the mean value."
   ]
  },
  {
   "cell_type": "code",
   "execution_count": 10,
   "id": "25caaef5-30f4-442a-9c97-031aa806ec37",
   "metadata": {},
   "outputs": [
    {
     "data": {
      "text/html": [],
      "text/latex": [],
      "text/markdown": [],
      "text/plain": [
       "integer(0)"
      ]
     },
     "metadata": {},
     "output_type": "display_data"
    }
   ],
   "source": [
    "dmso_estrogen_summary[which(is.na(dmso_estrogen_summary$se)), 3] <- mean(dmso_estrogen_summary$se, na.rm=TRUE)\n",
    "dmso_estrogen_summary[which(dmso_estrogen_summary$se == 0), 3] <- mean(dmso_estrogen_summary$se, na.rm=TRUE)\n",
    "which(is.na(dmso_estrogen_summary$se))"
   ]
  },
  {
   "cell_type": "markdown",
   "id": "dc282633-9c45-4bfd-9e24-6a130536f51a",
   "metadata": {},
   "source": [
    "### 2. DMSO: Build the Hierarchical Model\n",
    "\n",
    "This is going to be a relatively straightforward hierarchical model. It's based on the Eight Schools example that's common when learning Stan. Basically, instead of schools, I have plates. And what we're trying to figure out is that mean DMSO effect on estrogen levels. And we'll be able to see what the plate effect is, too.\n",
    "\n",
    "The Stan code is in dmso.stan."
   ]
  },
  {
   "cell_type": "markdown",
   "id": "148adf11-3689-4a6c-be87-fd01d75bb3b1",
   "metadata": {},
   "source": [
    "### 3. DMSO: Prepare the data\n",
    "\n",
    "Put the information together into a list (that's how Stan prefers things).\n"
   ]
  },
  {
   "cell_type": "code",
   "execution_count": 11,
   "id": "d9518497-fb39-4c84-bd8d-cd6a1b164e28",
   "metadata": {},
   "outputs": [],
   "source": [
    "dmso_data <- list(J = nrow(dmso_estrogen_summary),\n",
    "                  y = dmso_estrogen_summary$mean,\n",
    "                  sigma = dmso_estrogen_summary$se)"
   ]
  },
  {
   "cell_type": "markdown",
   "id": "561793f2-0ba3-408a-876b-4b5051f75c53",
   "metadata": {},
   "source": [
    "### 4. DMSO: Run the model"
   ]
  },
  {
   "cell_type": "code",
   "execution_count": 12,
   "id": "406e34b6-d63a-4b0a-9733-ff3b70ae809a",
   "metadata": {},
   "outputs": [],
   "source": [
    "#dmso_fit <- stan(\n",
    "#                file = \"dmso_ncp.stan\",\n",
    "#                data = dmso_data,\n",
    "#                chains = 3,\n",
    "#                warmup = 10000,\n",
    "#                iter = 15000,\n",
    "#                control = list(max_treedepth = 15))\n",
    "\n",
    "#dmso_mod_ncp <- stan_model(\"dmso_ncp.stan\")\n",
    "dmso_mod_cp <- stan_model(\"dmso.stan\")\n",
    "dmso_fit <- sampling(\n",
    "                dmso_mod_cp,\n",
    "                data = dmso_data,\n",
    "                chains = 3,\n",
    "                warmup = 10000,\n",
    "                iter = 15000,\n",
    "                control = list(max_treedepth = 15))"
   ]
  },
  {
   "cell_type": "markdown",
   "id": "5b68c953-4c60-48d6-8357-0f36a4684f06",
   "metadata": {},
   "source": [
    "I ran both the ncp and the cp (ncp is non-centered model and cp is the centered model; they're alternative parameterizations of the same model). The NCP model ended up giving a ton of ESS issues, so I decided to go with CP. What this means is that CP ended up yielding a better exploration of the posterior space."
   ]
  },
  {
   "cell_type": "code",
   "execution_count": 13,
   "id": "2fe63596-06a7-45e0-a928-c975b369c470",
   "metadata": {},
   "outputs": [
    {
     "data": {
      "text/plain": [
       "Inference for Stan model: dmso.\n",
       "3 chains, each with iter=15000; warmup=10000; thin=1; \n",
       "post-warmup draws per chain=5000, total post-warmup draws=15000.\n",
       "\n",
       "            mean se_mean   sd   2.5%    25%   50%   75% 97.5% n_eff Rhat\n",
       "mu          0.44    0.00 0.03   0.39   0.42  0.44  0.46  0.50 33484    1\n",
       "tau         0.38    0.00 0.02   0.34   0.37  0.38  0.40  0.43 30065    1\n",
       "theta[1]    0.57    0.00 0.01   0.55   0.56  0.57  0.58  0.59 35602    1\n",
       "theta[2]    0.49    0.00 0.03   0.43   0.47  0.49  0.52  0.56 34565    1\n",
       "theta[3]    0.56    0.00 0.01   0.55   0.56  0.56  0.57  0.57 33922    1\n",
       "theta[4]    0.65    0.00 0.02   0.61   0.64  0.65  0.66  0.69 33048    1\n",
       "theta[5]    0.55    0.00 0.01   0.53   0.54  0.55  0.56  0.57 34945    1\n",
       "theta[6]    0.65    0.00 0.01   0.65   0.65  0.65  0.66  0.66 35643    1\n",
       "theta[7]    0.68    0.00 0.00   0.68   0.68  0.68  0.69  0.69 34109    1\n",
       "theta[8]    0.63    0.00 0.02   0.59   0.62  0.63  0.65  0.68 35575    1\n",
       "theta[9]    0.60    0.00 0.03   0.55   0.59  0.60  0.62  0.65 35504    1\n",
       "theta[10]   0.75    0.00 0.03   0.69   0.73  0.75  0.77  0.81 34275    1\n",
       "theta[11]   0.69    0.00 0.03   0.63   0.67  0.69  0.71  0.75 36043    1\n",
       "theta[12]   0.69    0.00 0.04   0.60   0.66  0.69  0.72  0.78 36620    1\n",
       "theta[13]   0.68    0.00 0.01   0.68   0.68  0.68  0.69  0.69 32616    1\n",
       "theta[14]   0.53    0.00 0.03   0.47   0.51  0.53  0.55  0.59 39250    1\n",
       "theta[15]   0.60    0.00 0.02   0.56   0.59  0.60  0.61  0.64 38376    1\n",
       "theta[16]   0.55    0.00 0.08   0.40   0.50  0.55  0.61  0.71 34713    1\n",
       "theta[17]   0.52    0.00 0.02   0.48   0.51  0.52  0.54  0.57 36113    1\n",
       "theta[18]   0.66    0.00 0.03   0.61   0.65  0.66  0.68  0.71 36473    1\n",
       "theta[19]   0.51    0.00 0.16   0.20   0.40  0.51  0.62  0.82 35001    1\n",
       "theta[20]   0.61    0.00 0.05   0.52   0.58  0.61  0.64  0.70 37468    1\n",
       "theta[21]   0.63    0.00 0.04   0.54   0.60  0.63  0.66  0.72 36031    1\n",
       "theta[22]   0.72    0.00 0.02   0.70   0.71  0.72  0.73  0.75 33631    1\n",
       "theta[23]   0.70    0.00 0.03   0.64   0.68  0.70  0.73  0.77 33728    1\n",
       "theta[24]   0.60    0.00 0.01   0.58   0.59  0.60  0.62  0.63 36525    1\n",
       "theta[25]   0.72    0.00 0.01   0.70   0.71  0.72  0.73  0.74 33746    1\n",
       "theta[26]   0.78    0.00 0.03   0.73   0.77  0.78  0.80  0.83 34556    1\n",
       "theta[27]   0.38    0.00 0.05   0.29   0.35  0.38  0.41  0.46 34335    1\n",
       "theta[28]   0.46    0.00 0.13   0.20   0.37  0.46  0.54  0.71 35992    1\n",
       "theta[29]   0.60    0.00 0.03   0.54   0.58  0.60  0.63  0.67 32979    1\n",
       "theta[30]   0.56    0.00 0.02   0.52   0.55  0.56  0.58  0.61 31960    1\n",
       "theta[31]   0.57    0.00 0.00   0.57   0.57  0.57  0.58  0.58 38411    1\n",
       "theta[32]   0.57    0.00 0.00   0.57   0.57  0.57  0.58  0.58 37409    1\n",
       "theta[33]   1.25    0.00 0.09   1.08   1.20  1.26  1.32  1.42 35506    1\n",
       "theta[34]   1.02    0.00 0.20   0.64   0.89  1.02  1.16  1.41 34764    1\n",
       "theta[35]   1.35    0.00 0.11   1.12   1.27  1.35  1.43  1.58 34437    1\n",
       "theta[36]   1.25    0.00 0.01   1.24   1.25  1.25  1.26  1.26 33529    1\n",
       "theta[37]   1.19    0.00 0.06   1.07   1.15  1.19  1.24  1.32 37357    1\n",
       "theta[38]   1.15    0.00 0.08   1.00   1.09  1.15  1.20  1.30 39020    1\n",
       "theta[39]   1.13    0.00 0.06   1.01   1.09  1.14  1.18  1.26 33528    1\n",
       "theta[40]   1.23    0.00 0.01   1.20   1.22  1.23  1.24  1.26 31282    1\n",
       "theta[41]   1.17    0.00 0.02   1.12   1.15  1.17  1.19  1.22 35989    1\n",
       "theta[42]   1.19    0.00 0.13   0.93   1.10  1.19  1.28  1.45 35516    1\n",
       "theta[43]   1.28    0.00 0.04   1.20   1.25  1.28  1.31  1.36 36272    1\n",
       "theta[44]   1.22    0.00 0.10   1.02   1.16  1.23  1.29  1.43 33305    1\n",
       "theta[45]   1.23    0.00 0.06   1.11   1.19  1.23  1.28  1.36 35352    1\n",
       "theta[46]   1.25    0.00 0.05   1.15   1.21  1.25  1.28  1.34 33701    1\n",
       "theta[47]   1.22    0.00 0.02   1.17   1.20  1.22  1.24  1.27 35036    1\n",
       "theta[48]   1.35    0.00 0.09   1.18   1.29  1.35  1.41  1.52 33096    1\n",
       "theta[49]   1.34    0.00 0.04   1.26   1.31  1.34  1.37  1.42 35802    1\n",
       "theta[50]   1.32    0.00 0.09   1.13   1.26  1.32  1.38  1.50 35656    1\n",
       "theta[51]   1.48    0.00 0.05   1.39   1.45  1.48  1.52  1.58 32117    1\n",
       "theta[52]   1.24    0.00 0.05   1.13   1.20  1.24  1.28  1.35 37231    1\n",
       "theta[53]   1.43    0.00 0.05   1.33   1.40  1.43  1.47  1.53 33068    1\n",
       "theta[54]   1.29    0.00 0.06   1.17   1.25  1.29  1.33  1.40 32921    1\n",
       "theta[55]   0.43    0.00 0.04   0.34   0.40  0.43  0.45  0.51 37687    1\n",
       "theta[56]   0.67    0.00 0.04   0.58   0.64  0.67  0.70  0.76 33376    1\n",
       "theta[57]   0.59    0.00 0.11   0.38   0.51  0.59  0.66  0.80 34291    1\n",
       "theta[58]   0.71    0.00 0.10   0.51   0.64  0.71  0.77  0.91 37143    1\n",
       "theta[59]   0.53    0.00 0.06   0.41   0.49  0.53  0.57  0.65 36701    1\n",
       "theta[60]   0.53    0.00 0.06   0.41   0.49  0.53  0.57  0.66 33258    1\n",
       "theta[61]   0.57    0.00 0.05   0.47   0.54  0.57  0.60  0.66 34537    1\n",
       "theta[62]   0.51    0.00 0.07   0.37   0.46  0.51  0.56  0.66 34616    1\n",
       "theta[63]   0.53    0.00 0.05   0.43   0.50  0.53  0.57  0.64 33595    1\n",
       "theta[64]   0.60    0.00 0.12   0.36   0.52  0.60  0.68  0.84 34952    1\n",
       "theta[65]   0.57    0.00 0.10   0.38   0.51  0.57  0.64  0.76 34725    1\n",
       "theta[66]   0.43    0.00 0.04   0.34   0.40  0.43  0.45  0.51 33845    1\n",
       "theta[67]   0.59    0.00 0.04   0.52   0.57  0.59  0.62  0.66 31144    1\n",
       "theta[68]   0.41    0.00 0.05   0.31   0.38  0.41  0.44  0.51 36099    1\n",
       "theta[69]   0.42    0.00 0.05   0.32   0.39  0.42  0.45  0.52 33503    1\n",
       "theta[70]   0.49    0.00 0.04   0.41   0.46  0.49  0.52  0.58 38859    1\n",
       "theta[71]   0.36    0.00 0.04   0.28   0.33  0.36  0.39  0.44 33811    1\n",
       "theta[72]   0.55    0.00 0.01   0.53   0.54  0.55  0.56  0.57 35585    1\n",
       "theta[73]   0.56    0.00 0.03   0.50   0.54  0.56  0.59  0.63 34368    1\n",
       "theta[74]   0.46    0.00 0.01   0.44   0.45  0.46  0.47  0.49 35706    1\n",
       "theta[75]   0.54    0.00 0.10   0.34   0.47  0.54  0.61  0.75 33589    1\n",
       "theta[76]   0.49    0.00 0.02   0.46   0.47  0.48  0.49  0.51 36168    1\n",
       "theta[77]   0.47    0.00 0.02   0.43   0.46  0.47  0.48  0.51 36824    1\n",
       "theta[78]   0.46    0.00 0.01   0.44   0.45  0.46  0.47  0.48 34717    1\n",
       "theta[79]   0.49    0.00 0.06   0.39   0.46  0.49  0.53  0.60 33625    1\n",
       "theta[80]   0.48    0.00 0.04   0.40   0.45  0.48  0.51  0.57 33664    1\n",
       "theta[81]   0.55    0.00 0.03   0.49   0.53  0.55  0.57  0.61 35605    1\n",
       "theta[82]   0.42    0.00 0.05   0.31   0.38  0.42  0.45  0.52 31816    1\n",
       "theta[83]   0.50    0.00 0.02   0.46   0.49  0.50  0.52  0.55 36586    1\n",
       "theta[84]   0.54    0.00 0.04   0.46   0.51  0.54  0.57  0.62 35596    1\n",
       "theta[85]   0.60    0.00 0.03   0.54   0.58  0.60  0.62  0.66 35776    1\n",
       "theta[86]   0.56    0.00 0.06   0.44   0.52  0.56  0.60  0.67 36028    1\n",
       "theta[87]   0.53    0.00 0.06   0.41   0.49  0.53  0.57  0.66 36180    1\n",
       "theta[88]   0.66    0.00 0.01   0.64   0.65  0.66  0.67  0.68 34255    1\n",
       "theta[89]   0.12    0.00 0.03   0.06   0.10  0.12  0.14  0.18 36177    1\n",
       "theta[90]   0.12    0.00 0.01   0.10   0.11  0.12  0.13  0.14 33032    1\n",
       "theta[91]   0.10    0.00 0.01   0.08   0.09  0.10  0.11  0.12 33302    1\n",
       "theta[92]   0.11    0.00 0.01   0.09   0.10  0.11  0.12  0.13 34130    1\n",
       "theta[93]   0.10    0.00 0.03   0.04   0.08  0.10  0.12  0.16 33151    1\n",
       "theta[94]   0.10    0.00 0.03   0.04   0.08  0.10  0.12  0.16 34111    1\n",
       "theta[95]   0.14    0.00 0.03   0.08   0.12  0.14  0.16  0.20 39870    1\n",
       "theta[96]   0.11    0.00 0.01   0.09   0.10  0.11  0.12  0.13 36736    1\n",
       "theta[97]   0.13    0.00 0.03   0.07   0.11  0.13  0.15  0.19 37832    1\n",
       "theta[98]   0.15    0.00 0.01   0.13   0.14  0.15  0.16  0.17 34962    1\n",
       "theta[99]   0.14    0.00 0.01   0.13   0.13  0.14  0.14  0.14 35703    1\n",
       "theta[100]  0.13    0.00 0.01   0.13   0.13  0.13  0.14  0.14 34551    1\n",
       "theta[101]  0.08    0.00 0.03   0.02   0.06  0.08  0.10  0.14 36270    1\n",
       "theta[102]  0.12    0.00 0.01   0.10   0.11  0.12  0.13  0.14 34828    1\n",
       "theta[103]  0.15    0.00 0.00   0.14   0.14  0.15  0.15  0.15 32717    1\n",
       "theta[104]  0.09    0.00 0.00   0.08   0.08  0.09  0.09  0.09 37671    1\n",
       "theta[105]  0.15    0.00 0.01   0.12   0.14  0.15  0.16  0.17 36508    1\n",
       "theta[106]  0.15    0.00 0.01   0.13   0.14  0.15  0.16  0.17 38833    1\n",
       "theta[107]  0.16    0.00 0.01   0.15   0.15  0.16  0.16  0.16 38944    1\n",
       "theta[108]  0.15    0.00 0.02   0.11   0.14  0.15  0.16  0.19 34070    1\n",
       "theta[109]  0.17    0.00 0.02   0.13   0.16  0.17  0.18  0.21 31952    1\n",
       "theta[110]  0.10    0.00 0.01   0.09   0.09  0.10  0.10  0.11 37305    1\n",
       "theta[111]  0.16    0.00 0.02   0.12   0.15  0.16  0.17  0.20 35756    1\n",
       "theta[112]  0.15    0.00 0.03   0.09   0.13  0.15  0.17  0.21 34427    1\n",
       "theta[113]  0.10    0.00 0.00   0.09   0.09  0.10  0.10  0.10 33228    1\n",
       "theta[114]  0.13    0.00 0.02   0.10   0.12  0.13  0.14  0.15 35650    1\n",
       "theta[115]  0.14    0.00 0.01   0.12   0.13  0.14  0.15  0.16 34562    1\n",
       "theta[116]  0.15    0.00 0.01   0.13   0.14  0.15  0.16  0.17 33684    1\n",
       "theta[117]  0.17    0.00 0.02   0.13   0.16  0.17  0.18  0.21 33431    1\n",
       "theta[118]  0.15    0.00 0.01   0.13   0.14  0.15  0.16  0.17 32458    1\n",
       "theta[119]  0.16    0.00 0.02   0.12   0.15  0.16  0.17  0.20 31781    1\n",
       "theta[120]  0.15    0.00 0.00   0.14   0.14  0.15  0.15  0.15 32448    1\n",
       "theta[121]  0.12    0.00 0.00   0.11   0.11  0.12  0.12  0.12 32701    1\n",
       "theta[122]  0.15    0.00 0.05   0.05   0.11  0.15  0.18  0.24 34577    1\n",
       "theta[123]  0.18    0.00 0.03   0.12   0.16  0.18  0.20  0.24 39732    1\n",
       "theta[124]  0.14    0.00 0.03   0.08   0.12  0.14  0.16  0.20 34385    1\n",
       "theta[125]  0.09    0.00 0.03   0.03   0.07  0.09  0.11  0.15 36270    1\n",
       "theta[126]  0.12    0.00 0.01   0.11   0.11  0.12  0.12  0.12 34946    1\n",
       "theta[127]  0.11    0.00 0.02   0.08   0.10  0.11  0.12  0.14 36100    1\n",
       "theta[128]  0.10    0.00 0.03   0.04   0.08  0.10  0.12  0.16 35872    1\n",
       "theta[129]  0.13    0.00 0.03   0.07   0.11  0.13  0.15  0.19 36722    1\n",
       "theta[130]  0.10    0.00 0.01   0.09   0.10  0.10  0.10  0.11 33931    1\n",
       "theta[131]  0.13    0.00 0.01   0.12   0.13  0.13  0.13  0.14 38630    1\n",
       "theta[132]  0.14    0.00 0.01   0.13   0.14  0.14  0.14  0.15 34999    1\n",
       "theta[133]  0.15    0.00 0.01   0.13   0.14  0.15  0.15  0.16 34493    1\n",
       "theta[134]  0.14    0.00 0.01   0.12   0.13  0.14  0.15  0.16 35576    1\n",
       "theta[135]  0.12    0.00 0.01   0.11   0.11  0.12  0.12  0.13 32964    1\n",
       "theta[136]  0.13    0.00 0.01   0.11   0.12  0.13  0.14  0.15 32554    1\n",
       "theta[137]  0.11    0.00 0.01   0.08   0.10  0.11  0.12  0.13 33014    1\n",
       "theta[138]  0.11    0.00 0.01   0.09   0.11  0.11  0.12  0.13 31711    1\n",
       "theta[139]  0.09    0.00 0.00   0.09   0.09  0.09  0.09  0.09 21286    1\n",
       "theta[140]  0.09    0.00 0.01   0.07   0.08  0.09  0.09  0.10 32799    1\n",
       "theta[141]  0.08    0.00 0.01   0.05   0.07  0.08  0.08  0.10 34425    1\n",
       "theta[142]  0.13    0.00 0.01   0.10   0.12  0.13  0.14  0.15 35277    1\n",
       "theta[143]  0.14    0.00 0.01   0.11   0.13  0.14  0.15  0.16 38503    1\n",
       "theta[144]  0.11    0.00 0.01   0.10   0.11  0.11  0.12  0.12 36372    1\n",
       "theta[145]  0.36    0.00 0.02   0.32   0.35  0.36  0.38  0.40 33685    1\n",
       "theta[146]  0.41    0.00 0.02   0.38   0.40  0.41  0.42  0.44 36434    1\n",
       "theta[147]  0.38    0.00 0.01   0.35   0.37  0.38  0.39  0.41 32222    1\n",
       "theta[148]  0.40    0.00 0.03   0.35   0.38  0.40  0.42  0.45 33309    1\n",
       "theta[149]  0.37    0.00 0.02   0.34   0.36  0.37  0.39  0.41 38415    1\n",
       "theta[150]  0.36    0.00 0.01   0.33   0.35  0.36  0.37  0.38 35351    1\n",
       "theta[151]  0.32    0.00 0.01   0.30   0.31  0.32  0.33  0.35 34468    1\n",
       "theta[152]  0.36    0.00 0.02   0.32   0.35  0.36  0.38  0.41 35776    1\n",
       "theta[153]  0.37    0.00 0.01   0.34   0.36  0.37  0.38  0.39 34233    1\n",
       "theta[154]  0.11    0.00 0.01   0.10   0.10  0.11  0.11  0.11 34146    1\n",
       "theta[155]  0.10    0.00 0.01   0.09   0.09  0.10  0.10  0.10 38643    1\n",
       "theta[156]  0.09    0.00 0.01   0.06   0.08  0.09  0.10  0.11 35812    1\n",
       "theta[157]  0.10    0.00 0.03   0.04   0.08  0.10  0.12  0.16 36955    1\n",
       "theta[158]  0.11    0.00 0.01   0.09   0.10  0.11  0.12  0.13 36503    1\n",
       "theta[159]  0.10    0.00 0.01   0.08   0.09  0.10  0.11  0.12 33486    1\n",
       "theta[160]  0.11    0.00 0.01   0.09   0.10  0.11  0.12  0.13 34011    1\n",
       "theta[161]  0.09    0.00 0.03   0.03   0.07  0.09  0.11  0.15 36644    1\n",
       "theta[162]  0.12    0.00 0.01   0.09   0.11  0.12  0.13  0.14 36616    1\n",
       "theta[163]  0.08    0.00 0.00   0.07   0.07  0.08  0.08  0.08 33574    1\n",
       "theta[164]  0.09    0.00 0.02   0.06   0.08  0.09  0.10  0.11 35197    1\n",
       "theta[165]  0.10    0.00 0.01   0.08   0.09  0.10  0.11  0.12 36835    1\n",
       "theta[166]  0.09    0.00 0.00   0.08   0.08  0.09  0.09  0.09 36831    1\n",
       "theta[167]  0.09    0.00 0.02   0.05   0.08  0.09  0.10  0.13 35317    1\n",
       "theta[168]  0.08    0.00 0.00   0.08   0.08  0.09  0.09  0.09 34105    1\n",
       "theta[169]  0.09    0.00 0.03   0.03   0.07  0.09  0.11  0.15 37030    1\n",
       "theta[170]  0.09    0.00 0.03   0.03   0.07  0.09  0.11  0.15 33553    1\n",
       "theta[171]  0.11    0.00 0.02   0.08   0.10  0.11  0.12  0.13 34830    1\n",
       "theta[172]  0.08    0.00 0.03   0.02   0.06  0.08  0.10  0.14 36855    1\n",
       "theta[173]  0.04    0.00 0.03  -0.01   0.02  0.04  0.06  0.10 33441    1\n",
       "theta[174]  0.09    0.00 0.01   0.07   0.08  0.09  0.10  0.11 35086    1\n",
       "lp__       -8.00    0.14 9.41 -27.49 -14.22 -7.61 -1.42  9.22  4803    1\n",
       "\n",
       "Samples were drawn using NUTS(diag_e) at Tue Oct 26 13:25:09 2021.\n",
       "For each parameter, n_eff is a crude measure of effective sample size,\n",
       "and Rhat is the potential scale reduction factor on split chains (at \n",
       "convergence, Rhat=1)."
      ]
     },
     "metadata": {},
     "output_type": "display_data"
    }
   ],
   "source": [
    "posterior_cp <- as.array(dmso_fit)\n",
    "np_cp <- nuts_params(dmso_fit)\n",
    "dmso_fit"
   ]
  },
  {
   "cell_type": "markdown",
   "id": "262face8-49c6-4e37-a474-1c6ed5c2912a",
   "metadata": {},
   "source": [
    "Next, I'm going to run a diagnostic plot, just to see how things are going. Based on what I'm seeing above, I'm really comfortable with this parameterization of the hierarchical model. Basically, I have my overall treatment effect, and I have a good idea of what the different plate effects are. \n",
    "\n",
    "Keep in mind mu, $\\mu$, is the treatment mean, tau, $\\tau$, is the treatment standard deviation, and each of the thetas, $\\theta [i]$, are the individual plate effects."
   ]
  },
  {
   "cell_type": "code",
   "execution_count": 14,
   "id": "27cdf429-d2a4-41ae-a997-1580d316ef11",
   "metadata": {},
   "outputs": [
    {
     "data": {
      "image/png": "[encoded data removed]",
      "text/plain": [
       "plot without title"
      ]
     },
     "metadata": {
      "image/png": {
       "height": 420,
       "width": 420
      }
     },
     "output_type": "display_data"
    }
   ],
   "source": [
    "mcmc_pairs(posterior_cp, np = np_cp, pars = c(\"mu\",\"tau\",\"theta[1]\"),\n",
    "           off_diag_args = list(size = 0.75))"
   ]
  },
  {
   "cell_type": "markdown",
   "id": "5301e84d-260e-4022-bcbb-93b2d419baa9",
   "metadata": {},
   "source": [
    "The diagnostic plots here are looking good. This is what I'd expect given there were no issues/warnings thrown by Stan.\n",
    "\n",
    "So, we have a treatment mean of 0.44 and a standard deviation of 0.38. \n",
    "\n",
    "Out of curiosity, I'm wondering what the pooled mean and standard deviation would have been (simple average and standard deviation without doing the hierarchical modeling). Let's see:"
   ]
  },
  {
   "cell_type": "code",
   "execution_count": 15,
   "id": "48782d8f-eb37-4dbf-b1e7-2faef0e8a943",
   "metadata": {},
   "outputs": [
    {
     "data": {
      "text/html": [
       "<table class=\"dataframe\">\n",
       "<caption>A tibble: 1 × 2</caption>\n",
       "<thead>\n",
       "\t<tr><th scope=col>mean</th><th scope=col>sd</th></tr>\n",
       "\t<tr><th scope=col>&lt;dbl&gt;</th><th scope=col>&lt;dbl&gt;</th></tr>\n",
       "</thead>\n",
       "<tbody>\n",
       "\t<tr><td>0.4235394</td><td>0.37649</td></tr>\n",
       "</tbody>\n",
       "</table>\n"
      ],
      "text/latex": [
       "A tibble: 1 × 2\n",
       "\\begin{tabular}{ll}\n",
       " mean & sd\\\\\n",
       " <dbl> & <dbl>\\\\\n",
       "\\hline\n",
       "\t 0.4235394 & 0.37649\\\\\n",
       "\\end{tabular}\n"
      ],
      "text/markdown": [
       "\n",
       "A tibble: 1 × 2\n",
       "\n",
       "| mean &lt;dbl&gt; | sd &lt;dbl&gt; |\n",
       "|---|---|\n",
       "| 0.4235394 | 0.37649 |\n",
       "\n"
      ],
      "text/plain": [
       "  mean      sd     \n",
       "1 0.4235394 0.37649"
      ]
     },
     "metadata": {},
     "output_type": "display_data"
    }
   ],
   "source": [
    "dmso_estrogen %>% summarize(mean=mean(rval), sd=sd(rval))"
   ]
  },
  {
   "cell_type": "markdown",
   "id": "3b684419-0b71-436c-bf49-18f0ea7726de",
   "metadata": {},
   "source": [
    "Kinda cool that really, at the end of the day, the mean from the hierarchical model is pretty close to the simple pooled mean and standard deviation of 0.42 and 0.38. This means that the plate effects aren't really all that much. It also means that the distribution is actually relatively flat.\n",
    "\n",
    "I'm going to use the hierarchical model mean and standard deviation going forward. And here's what the histogram looks like:"
   ]
  },
  {
   "cell_type": "code",
   "execution_count": 16,
   "id": "0a8f8e4d-c7f1-4d54-a929-e04aa5662ec9",
   "metadata": {},
   "outputs": [
    {
     "name": "stderr",
     "output_type": "stream",
     "text": [
      "`stat_bin()` using `bins = 30`. Pick better value with `binwidth`.\n",
      "\n",
      "`stat_bin()` using `bins = 30`. Pick better value with `binwidth`.\n",
      "\n"
     ]
    },
    {
     "data": {
      "image/png": "[encoded data removed]",
      "text/plain": [
       "plot without title"
      ]
     },
     "metadata": {
      "image/png": {
       "height": 420,
       "width": 420
      }
     },
     "output_type": "display_data"
    },
    {
     "data": {
      "text/html": [
       "<style>\n",
       ".dl-inline {width: auto; margin:0; padding: 0}\n",
       ".dl-inline>dt, .dl-inline>dd {float: none; width: auto; display: inline-block}\n",
       ".dl-inline>dt::after {content: \":\\0020\"; padding-right: .5ex}\n",
       ".dl-inline>dt:not(:first-of-type) {padding-left: .5ex}\n",
       "</style><dl class=dl-inline><dt>2.5%</dt><dd>0.387195803436244</dd><dt>50%</dt><dd>0.444673533276511</dd><dt>97.5%</dt><dd>0.502314599073612</dd></dl>\n"
      ],
      "text/latex": [
       "\\begin{description*}\n",
       "\\item[2.5\\textbackslash{}\\%] 0.387195803436244\n",
       "\\item[50\\textbackslash{}\\%] 0.444673533276511\n",
       "\\item[97.5\\textbackslash{}\\%] 0.502314599073612\n",
       "\\end{description*}\n"
      ],
      "text/markdown": [
       "2.5%\n",
       ":   0.38719580343624450%\n",
       ":   0.44467353327651197.5%\n",
       ":   0.502314599073612\n",
       "\n"
      ],
      "text/plain": [
       "     2.5%       50%     97.5% \n",
       "0.3871958 0.4446735 0.5023146 "
      ]
     },
     "metadata": {},
     "output_type": "display_data"
    },
    {
     "data": {
      "image/png": "[encoded data removed]",
      "text/plain": [
       "plot without title"
      ]
     },
     "metadata": {
      "image/png": {
       "height": 420,
       "width": 420
      }
     },
     "output_type": "display_data"
    }
   ],
   "source": [
    "dmso_mean_distro <- extract(dmso_fit)$mu\n",
    "dmso_sd_distro <- extract(dmso_fit)$tau\n",
    "\n",
    "dmso_mean_sd_distro_df <- data.frame(mean = dmso_mean_distro, sd = dmso_sd_distro)\n",
    "\n",
    "ggplot(dmso_mean_sd_distro_df, aes(x=mean)) +\n",
    "    geom_histogram()\n",
    "\n",
    "ggplot(dmso_mean_sd_distro_df, aes(x=sd)) +\n",
    "    geom_histogram()\n",
    "\n",
    "quantile(dmso_mean_distro, c(0.025, 0.5, 0.975))"
   ]
  },
  {
   "cell_type": "markdown",
   "id": "7c9aad01-063f-497a-8930-c75c78502475",
   "metadata": {},
   "source": [
    "So we can see that the mean has a median of 0.44 and a Bayesian interval of [0.39, 0.50]. Thus, the mean and median are likely within that range.\n",
    "\n",
    "### 5. Coumaphos: Build the dataset\n",
    "\n",
    "I queried the invitroDB to obtain the coumaphos data:\n",
    "\n",
    "```\n",
    "select assay_component.assay_component_name, assay_component.technological_target_type_sub, chemical.chnm, chemical.casn, sample.stkc, sample.stkc_unit, mc0.apid, mc0.rowi, mc0.coli, mc0.wllt, mc0.wllq, mc0.conc, mc0.rval\n",
    "from mc0\n",
    "JOIN sample ON mc0.spid = sample.spid\n",
    "JOIN chemical ON sample.chid = chemical.chid\n",
    "JOIN chemicals_silent_spring_identified on chemicals_silent_spring_identified.casn = chemical.casn\n",
    "JOIN assay_component on assay_component.acid = mc0.acid\n",
    "AND mc0.acid = 594\n",
    "AND chnm = \"Coumaphos\"  \n",
    "ORDER BY chnm, conc;\n",
    "```\n",
    "\n",
    "The 10$\\mu$M coumaphos concentration had the highest amount of estrogen at 0.256$\\mu$g/L and 0.35$\\mu$g/L. If we divide those values by 272.4g/mol we can get the concentration in $\\mu$M: "
   ]
  },
  {
   "cell_type": "code",
   "execution_count": 17,
   "id": "675b25e7-1d02-446d-8941-c825122c0ce2",
   "metadata": {},
   "outputs": [
    {
     "data": {
      "text/html": [
       "0.000939794419970631"
      ],
      "text/latex": [
       "0.000939794419970631"
      ],
      "text/markdown": [
       "0.000939794419970631"
      ],
      "text/plain": [
       "[1] 0.0009397944"
      ]
     },
     "metadata": {},
     "output_type": "display_data"
    },
    {
     "data": {
      "text/html": [
       "0.0012848751835536"
      ],
      "text/latex": [
       "0.0012848751835536"
      ],
      "text/markdown": [
       "0.0012848751835536"
      ],
      "text/plain": [
       "[1] 0.001284875"
      ]
     },
     "metadata": {},
     "output_type": "display_data"
    }
   ],
   "source": [
    "0.256/272.4\n",
    "0.350/272.4"
   ]
  },
  {
   "cell_type": "markdown",
   "id": "2a088e66-2fba-4f57-b30f-23a6e61f0f7a",
   "metadata": {},
   "source": [
    "10$\\mu$M coumaphos resulted in 0.000939 $\\mu$M and 0.00128 $\\mu$M estrogen being produced. But we're going to do our analysis using the $\\mu$g/L values to keep things simple.\n",
    "\n",
    "### 6. Coumaphos: Build the Model\n",
    "\n",
    "In this case we don't have enough information to build a hierarchical model. We are actually kinda stuck. Most toxcast chemical concentrations are run on only one plate. So we can't model out a plate effect to get a treatment effect, like we did for DMSO.\n",
    "\n",
    "In some ways, the ToxCast design is similar to what we have with microarrays. With microarrays we have a lot of glass slides, or sections of glass slides, that are in some ways analogous to the plates. There, we would normalize across the microarrays because we know there are microarray effects that we need to separate from the treatment effects. However, with the ToxCast data we lack the replicate plates -- so we can't just normalize our way out. Also, with microarrays we know why we have microarray level effects, and for that reason, we know that those effects are going to impact both color channels (when using 2-color arrays) equally. With the ToxCast data, we do not know that the plate level effects seen in DMSO will be the same as the plate-level effects we see with the chemical of interest. Thus, we can't just assume that by \"adjusting\" the signal for a chemical of interest to the same degree we would need to adjust the DMSO would actually make the right kind of difference.\n",
    "\n",
    "Instead, I'm going to assume that the mean from the replicates at a single concentration is the same as the mean for the population. I know it's not. But I don't have many other options. I am also going to assume that the distribution has the same standard deviation as the model-level standard deviation. What this will get me is a rough estimate of the population distribution across multiple plates, assuming the mean I have is an accurate representation of the actual mean (which I honestly don't believe it is, but this is the best I can do). \n",
    "\n",
    "I will use the model-based information to estimate the DMSO estrogen level distribution. Since I cannot estimate what the means are for the chemical of interest, here it is coumaphos, I will perform the comparison based on the model-derived mean and model level standard deviation. I will then compare the coumaphos and DMSO distributions to see if they are different or similar.\n",
    "\n",
    "### 7. Coumaphos: Prepare the data\n",
    "\n",
    "I'm going to build the coumaphos distribution as described above. Note that I can't have negative estrogen values. So I'm going to use the ```repeat``` function. What this function will do is to repeat the code block it's fed until the ```break``` condition is met. So here, if the value from ```rnorm``` is negative, then repeat is going to repeat the ```rnorm``` until it gets a positve value."
   ]
  },
  {
   "cell_type": "code",
   "execution_count": 18,
   "id": "19cb8cef-442e-47d5-b00e-ab1db38950ab",
   "metadata": {},
   "outputs": [
    {
     "data": {
      "image/png": "[encoded data removed]",
      "text/plain": [
       "Plot with title \"Histogram of coumaphos_distro\""
      ]
     },
     "metadata": {
      "image/png": {
       "height": 420,
       "width": 420
      }
     },
     "output_type": "display_data"
    }
   ],
   "source": [
    "coumaphos_distro <- vector(mode=\"double\", length = 10000)\n",
    "for(i in 1:10000){\n",
    "    repeat{\n",
    "        coumaphos_distro[i] <- rnorm(1, (0.256+0.350)/2, dmso_sd_distro[i])\n",
    "        if(length(which(coumaphos_distro < 0)) == 0){break}\n",
    "    }\n",
    "}\n",
    "hist(coumaphos_distro)"
   ]
  },
  {
   "cell_type": "code",
   "execution_count": 19,
   "id": "b5ff6520-22d4-455c-be5d-8f4080165658",
   "metadata": {},
   "outputs": [
    {
     "data": {
      "text/html": [
       "<strong>png:</strong> 2"
      ],
      "text/latex": [
       "\\textbf{png:} 2"
      ],
      "text/markdown": [
       "**png:** 2"
      ],
      "text/plain": [
       "png \n",
       "  2 "
      ]
     },
     "metadata": {},
     "output_type": "display_data"
    }
   ],
   "source": [
    "png(\"coumaphos_distro.png\", width=5000, height=5000, res=600)\n",
    "hist(coumaphos_distro)\n",
    "dev.off()"
   ]
  },
  {
   "cell_type": "markdown",
   "id": "17663381-e04b-42a1-966b-343531f77252",
   "metadata": {},
   "source": [
    "To get the DMSO distribution, I'm going to do something similar."
   ]
  },
  {
   "cell_type": "code",
   "execution_count": 20,
   "id": "00abeed3-3fec-4c13-9783-cfeef2c0984d",
   "metadata": {},
   "outputs": [
    {
     "data": {
      "image/png": "[encoded data removed]",
      "text/plain": [
       "Plot with title \"Histogram of dmso_pred_distro\""
      ]
     },
     "metadata": {
      "image/png": {
       "height": 420,
       "width": 420
      }
     },
     "output_type": "display_data"
    }
   ],
   "source": [
    "dmso_pred_distro <- vector(mode=\"double\", length = 10000)\n",
    "for(i in 1:10000){\n",
    "    repeat{\n",
    "        dmso_pred_distro[i] <- rnorm(1, dmso_mean_distro[i], dmso_sd_distro[i])\n",
    "        if(length(which(dmso_pred_distro < 0)) == 0){break}\n",
    "    }\n",
    "}\n",
    "hist(dmso_pred_distro)"
   ]
  },
  {
   "cell_type": "code",
   "execution_count": 21,
   "id": "cdd3028d-89a4-4def-8c99-296e6286b63e",
   "metadata": {},
   "outputs": [
    {
     "data": {
      "text/html": [
       "<strong>png:</strong> 2"
      ],
      "text/latex": [
       "\\textbf{png:} 2"
      ],
      "text/markdown": [
       "**png:** 2"
      ],
      "text/plain": [
       "png \n",
       "  2 "
      ]
     },
     "metadata": {},
     "output_type": "display_data"
    }
   ],
   "source": [
    "png(\"dmso_pred_distro.png\", width=5000, height=5000, res=600)\n",
    "hist(dmso_pred_distro)\n",
    "dev.off()"
   ]
  },
  {
   "cell_type": "markdown",
   "id": "0d632f9b-37c3-42b1-aecc-bf365e6cf88e",
   "metadata": {},
   "source": [
    "### 8. Coumaphos: Run the Model\n",
    "\n",
    "I'm going to calculate the difference distribution, and analyze that. The 95% highest density interval of the difference distro needs to be at least 200pg/mL to be considered biologically relevant. This value is based on levels seen during the preovulatory LH surge of 200-500pg/mL."
   ]
  },
  {
   "cell_type": "code",
   "execution_count": 22,
   "id": "220045df-5328-4b36-8678-e1fa400574a6",
   "metadata": {},
   "outputs": [
    {
     "name": "stderr",
     "output_type": "stream",
     "text": [
      "`stat_bin()` using `bins = 30`. Pick better value with `binwidth`.\n",
      "\n"
     ]
    },
    {
     "data": {
      "image/png": "[encoded data removed]",
      "text/plain": [
       "plot without title"
      ]
     },
     "metadata": {
      "image/png": {
       "height": 420,
       "width": 420
      }
     },
     "output_type": "display_data"
    }
   ],
   "source": [
    "diff_distro <- coumaphos_distro - dmso_pred_distro\n",
    "diff_distro_df <- data.frame(difference = diff_distro)\n",
    "ggplot(diff_distro_df, aes(x=diff_distro)) +\n",
    "    geom_histogram()"
   ]
  },
  {
   "cell_type": "code",
   "execution_count": 23,
   "id": "9e305ef2-d948-4f24-b3a9-3fd6615c9c6a",
   "metadata": {},
   "outputs": [
    {
     "name": "stderr",
     "output_type": "stream",
     "text": [
      "`stat_bin()` using `bins = 30`. Pick better value with `binwidth`.\n",
      "\n"
     ]
    },
    {
     "data": {
      "text/html": [
       "<strong>png:</strong> 2"
      ],
      "text/latex": [
       "\\textbf{png:} 2"
      ],
      "text/markdown": [
       "**png:** 2"
      ],
      "text/plain": [
       "png \n",
       "  2 "
      ]
     },
     "metadata": {},
     "output_type": "display_data"
    }
   ],
   "source": [
    "png(\"diff_distro.png\", width=5000, height=5000, res=600)\n",
    "ggplot(diff_distro_df, aes(x=diff_distro)) +\n",
    "    geom_histogram()\n",
    "dev.off()"
   ]
  },
  {
   "cell_type": "markdown",
   "id": "32dd3f16-466a-459d-8d09-c75f64f26bf5",
   "metadata": {},
   "source": [
    "The histogram shows quite clearly that there is not much of a difference between the two distributions. In other words, contrary to the finding in Cardona and Rudel (2021), coumaphos is not actually increasing estrogen levels.\n",
    "\n",
    "So what happened? Cardona and Rudel (2021) reported a fold change of 4.058, and here we are seeing that a fold change of 1.0 is a highly likely value. \n",
    "\n",
    "For starters, Cardona and Rudel (2021) did not look at the DMSO values as a distribution. Instead, they looked at the DMSO values on the same plate as the chemical. In other words, Cardona and Rudel ignored the fact that there can be plate-to-plate variance, and they ignored the fact that we need to treat the data as a distribution instead of just point estimates.\n",
    "\n",
    "Coumaphos is on 20130320.Plate.6. As mentioned previously, coumaphos at the 10$\\mu$M concentration had a mean estrogen production of 0.303$\\mu$g/L. There were 3 DMSO replicates on that plate. They had values of 0.061, 0.066, and 0.097$\\mu$g/L. Let's see where that lines up on the DMSO histogram"
   ]
  },
  {
   "cell_type": "code",
   "execution_count": 24,
   "id": "ea156da7-f5b6-4db0-b6e0-6bc5401e1e76",
   "metadata": {},
   "outputs": [
    {
     "name": "stderr",
     "output_type": "stream",
     "text": [
      "`stat_bin()` using `bins = 30`. Pick better value with `binwidth`.\n",
      "\n"
     ]
    },
    {
     "data": {
      "image/png": "[encoded data removed]",
      "text/plain": [
       "plot without title"
      ]
     },
     "metadata": {
      "image/png": {
       "height": 420,
       "width": 420
      }
     },
     "output_type": "display_data"
    }
   ],
   "source": [
    "dmso_pred_distro_df <- data.frame(dmso = dmso_pred_distro)\n",
    "\n",
    "ggplot(dmso_pred_distro_df, aes(x=dmso)) +\n",
    "    geom_histogram() +\n",
    "    geom_vline(xintercept = 0.061) +\n",
    "    geom_vline(xintercept = 0.066) +\n",
    "    geom_vline(xintercept = 0.087)"
   ]
  },
  {
   "cell_type": "code",
   "execution_count": 25,
   "id": "42d61dab-173b-458f-a69e-d398975ceaea",
   "metadata": {},
   "outputs": [
    {
     "name": "stderr",
     "output_type": "stream",
     "text": [
      "`stat_bin()` using `bins = 30`. Pick better value with `binwidth`.\n",
      "\n"
     ]
    },
    {
     "data": {
      "text/html": [
       "<strong>png:</strong> 2"
      ],
      "text/latex": [
       "\\textbf{png:} 2"
      ],
      "text/markdown": [
       "**png:** 2"
      ],
      "text/plain": [
       "png \n",
       "  2 "
      ]
     },
     "metadata": {},
     "output_type": "display_data"
    }
   ],
   "source": [
    "png(\"diff_distro_labeled.png\", width=5000, height=5000, res=600)\n",
    "ggplot(dmso_pred_distro_df, aes(x=dmso)) +\n",
    "    geom_histogram() +\n",
    "    geom_vline(xintercept = 0.061) +\n",
    "    geom_vline(xintercept = 0.066) +\n",
    "    geom_vline(xintercept = 0.087)\n",
    "dev.off()"
   ]
  },
  {
   "cell_type": "markdown",
   "id": "3063f2eb-4848-48f9-88b1-49c139801fc2",
   "metadata": {},
   "source": [
    "We can see that the DMSO induced estrogen levels are on the extreme lower end of the distribution. In other words, what Cardona and Rudel (2021) are seeing for coumaphos is a very clear false positive result.\n",
    "\n",
    "## Challenge 3: Deeper Dive -- Estrogen\n",
    "\n",
    "We've seen for coumaphos that the reason it was flagged as increasing estrogen was because it was a false positive due to the DMSO levels on the plate being exceedingly low. \n",
    "\n",
    "My next question is -- how often do the chemicals identified by Cardona and Rudel come up as changed because they are in the lower part of the distribution?\n",
    "\n",
    "### 1. Build the dataset\n",
    "\n",
    "I already have the DMSO data ready to go. So now I just need to get the data for all of the rest of the chemicals. To do that I ran this query:\n",
    "\n",
    "```\n",
    "SELECT assay_component.assay_component_name, assay_component.technological_target_type_sub, chemical.chnm, chemical.casn, sample.stkc, sample.stkc_unit, mc0.apid, mc0.rowi, mc0.coli, mc0.wllt, mc0.wllq, mc0.conc, mc0.rval, srcf \n",
    "FROM mc0 \n",
    "JOIN sample ON mc0.spid = sample.spid \n",
    "JOIN chemical ON sample.chid = chemical.chid \n",
    "JOIN chemicals_silent_spring_identified ON chemicals_silent_spring_identified.casn = chemical.casn \n",
    "JOIN assay_component ON assay_component.acid = mc0.acid \n",
    "WHERE mc0.acid = 594 \n",
    "ORDER BY chnm, conc\n",
    "```\n",
    "\n",
    "I output that data into the ```all_chems_estradiol_levels.txt``` file.\n",
    "\n",
    "Given this data should be monotonic, my guess is that the highest concentration should be the one where the largest fold change is -- that means that highest concentration should be the one that Cardona and Rudel used for calculating the fold change.\n",
    "\n",
    "This next code block is going to read in the data and keep only the highest concentration for further analysis:"
   ]
  },
  {
   "cell_type": "code",
   "execution_count": 26,
   "id": "01414e47-7bc9-4a0c-a7ad-c30d7e4a697c",
   "metadata": {},
   "outputs": [
    {
     "data": {
      "text/html": [
       "<table class=\"dataframe\">\n",
       "<caption>A grouped_df: 6 × 14</caption>\n",
       "<thead>\n",
       "\t<tr><th scope=col>assay_component_name</th><th scope=col>technological_target_type_sub</th><th scope=col>chnm</th><th scope=col>casn</th><th scope=col>stkc</th><th scope=col>stkc_unit</th><th scope=col>apid</th><th scope=col>rowi</th><th scope=col>coli</th><th scope=col>wllt</th><th scope=col>wllq</th><th scope=col>conc</th><th scope=col>rval</th><th scope=col>srcf</th></tr>\n",
       "\t<tr><th scope=col>&lt;chr&gt;</th><th scope=col>&lt;chr&gt;</th><th scope=col>&lt;chr&gt;</th><th scope=col>&lt;chr&gt;</th><th scope=col>&lt;dbl&gt;</th><th scope=col>&lt;chr&gt;</th><th scope=col>&lt;chr&gt;</th><th scope=col>&lt;int&gt;</th><th scope=col>&lt;int&gt;</th><th scope=col>&lt;chr&gt;</th><th scope=col>&lt;int&gt;</th><th scope=col>&lt;dbl&gt;</th><th scope=col>&lt;dbl&gt;</th><th scope=col>&lt;chr&gt;</th></tr>\n",
       "</thead>\n",
       "<tbody>\n",
       "\t<tr><td>CEETOX_H295R_ESTRADIOL</td><td>Estradiol</td><td>1-(Bromomethyl)-3-phenoxybenzene</td><td>51632-16-7</td><td>100.0</td><td>mM</td><td>09Apr2014.Plate.26</td><td>2</td><td>10</td><td>t</td><td>1</td><td>100.0</td><td>1.44</td><td>2900-100644 TO3 DR 09Apr2014 Plate 26_Cyprotex.csv           </td></tr>\n",
       "\t<tr><td>CEETOX_H295R_ESTRADIOL</td><td>Estradiol</td><td>1-(Bromomethyl)-3-phenoxybenzene</td><td>51632-16-7</td><td>100.0</td><td>mM</td><td>09Apr2014.Plate.26</td><td>2</td><td>11</td><td>t</td><td>1</td><td>100.0</td><td>1.43</td><td>2900-100644 TO3 DR 09Apr2014 Plate 26_Cyprotex.csv           </td></tr>\n",
       "\t<tr><td>CEETOX_H295R_ESTRADIOL</td><td>Estradiol</td><td>1-Chloroanthraquinone           </td><td>82-44-0   </td><td> 10.7</td><td>mM</td><td>03Sep2014.Plate.1 </td><td>2</td><td> 7</td><td>t</td><td>1</td><td> 10.7</td><td>2.20</td><td>2900-TO3 PhIII E1K Set 2 86 DR 03Sep2014 Plate 1_Cyprotex.csv</td></tr>\n",
       "\t<tr><td>CEETOX_H295R_ESTRADIOL</td><td>Estradiol</td><td>1-Chloroanthraquinone           </td><td>82-44-0   </td><td> 10.7</td><td>mM</td><td>03Sep2014.Plate.1 </td><td>2</td><td> 6</td><td>t</td><td>1</td><td> 10.7</td><td>2.55</td><td>2900-TO3 PhIII E1K Set 2 86 DR 03Sep2014 Plate 1_Cyprotex.csv</td></tr>\n",
       "\t<tr><td>CEETOX_H295R_ESTRADIOL</td><td>Estradiol</td><td>1-Chloroanthraquinone           </td><td>82-44-0   </td><td> 10.7</td><td>mM</td><td>10Jun2015.Plate.20</td><td>2</td><td> 9</td><td>t</td><td>1</td><td> 10.7</td><td>0.16</td><td>2900-TO3 165 DR 10Jun2015 Plate 20A.csv                      </td></tr>\n",
       "\t<tr><td>CEETOX_H295R_ESTRADIOL</td><td>Estradiol</td><td>1-Chloroanthraquinone           </td><td>82-44-0   </td><td> 10.7</td><td>mM</td><td>10Jun2015.Plate.20</td><td>2</td><td> 8</td><td>t</td><td>1</td><td> 10.7</td><td>0.18</td><td>2900-TO3 165 DR 10Jun2015 Plate 20A.csv                      </td></tr>\n",
       "</tbody>\n",
       "</table>\n"
      ],
      "text/latex": [
       "A grouped\\_df: 6 × 14\n",
       "\\begin{tabular}{llllllllllllll}\n",
       " assay\\_component\\_name & technological\\_target\\_type\\_sub & chnm & casn & stkc & stkc\\_unit & apid & rowi & coli & wllt & wllq & conc & rval & srcf\\\\\n",
       " <chr> & <chr> & <chr> & <chr> & <dbl> & <chr> & <chr> & <int> & <int> & <chr> & <int> & <dbl> & <dbl> & <chr>\\\\\n",
       "\\hline\n",
       "\t CEETOX\\_H295R\\_ESTRADIOL & Estradiol & 1-(Bromomethyl)-3-phenoxybenzene & 51632-16-7 & 100.0 & mM & 09Apr2014.Plate.26 & 2 & 10 & t & 1 & 100.0 & 1.44 & 2900-100644 TO3 DR 09Apr2014 Plate 26\\_Cyprotex.csv           \\\\\n",
       "\t CEETOX\\_H295R\\_ESTRADIOL & Estradiol & 1-(Bromomethyl)-3-phenoxybenzene & 51632-16-7 & 100.0 & mM & 09Apr2014.Plate.26 & 2 & 11 & t & 1 & 100.0 & 1.43 & 2900-100644 TO3 DR 09Apr2014 Plate 26\\_Cyprotex.csv           \\\\\n",
       "\t CEETOX\\_H295R\\_ESTRADIOL & Estradiol & 1-Chloroanthraquinone            & 82-44-0    &  10.7 & mM & 03Sep2014.Plate.1  & 2 &  7 & t & 1 &  10.7 & 2.20 & 2900-TO3 PhIII E1K Set 2 86 DR 03Sep2014 Plate 1\\_Cyprotex.csv\\\\\n",
       "\t CEETOX\\_H295R\\_ESTRADIOL & Estradiol & 1-Chloroanthraquinone            & 82-44-0    &  10.7 & mM & 03Sep2014.Plate.1  & 2 &  6 & t & 1 &  10.7 & 2.55 & 2900-TO3 PhIII E1K Set 2 86 DR 03Sep2014 Plate 1\\_Cyprotex.csv\\\\\n",
       "\t CEETOX\\_H295R\\_ESTRADIOL & Estradiol & 1-Chloroanthraquinone            & 82-44-0    &  10.7 & mM & 10Jun2015.Plate.20 & 2 &  9 & t & 1 &  10.7 & 0.16 & 2900-TO3 165 DR 10Jun2015 Plate 20A.csv                      \\\\\n",
       "\t CEETOX\\_H295R\\_ESTRADIOL & Estradiol & 1-Chloroanthraquinone            & 82-44-0    &  10.7 & mM & 10Jun2015.Plate.20 & 2 &  8 & t & 1 &  10.7 & 0.18 & 2900-TO3 165 DR 10Jun2015 Plate 20A.csv                      \\\\\n",
       "\\end{tabular}\n"
      ],
      "text/markdown": [
       "\n",
       "A grouped_df: 6 × 14\n",
       "\n",
       "| assay_component_name &lt;chr&gt; | technological_target_type_sub &lt;chr&gt; | chnm &lt;chr&gt; | casn &lt;chr&gt; | stkc &lt;dbl&gt; | stkc_unit &lt;chr&gt; | apid &lt;chr&gt; | rowi &lt;int&gt; | coli &lt;int&gt; | wllt &lt;chr&gt; | wllq &lt;int&gt; | conc &lt;dbl&gt; | rval &lt;dbl&gt; | srcf &lt;chr&gt; |\n",
       "|---|---|---|---|---|---|---|---|---|---|---|---|---|---|\n",
       "| CEETOX_H295R_ESTRADIOL | Estradiol | 1-(Bromomethyl)-3-phenoxybenzene | 51632-16-7 | 100.0 | mM | 09Apr2014.Plate.26 | 2 | 10 | t | 1 | 100.0 | 1.44 | 2900-100644 TO3 DR 09Apr2014 Plate 26_Cyprotex.csv            |\n",
       "| CEETOX_H295R_ESTRADIOL | Estradiol | 1-(Bromomethyl)-3-phenoxybenzene | 51632-16-7 | 100.0 | mM | 09Apr2014.Plate.26 | 2 | 11 | t | 1 | 100.0 | 1.43 | 2900-100644 TO3 DR 09Apr2014 Plate 26_Cyprotex.csv            |\n",
       "| CEETOX_H295R_ESTRADIOL | Estradiol | 1-Chloroanthraquinone            | 82-44-0    |  10.7 | mM | 03Sep2014.Plate.1  | 2 |  7 | t | 1 |  10.7 | 2.20 | 2900-TO3 PhIII E1K Set 2 86 DR 03Sep2014 Plate 1_Cyprotex.csv |\n",
       "| CEETOX_H295R_ESTRADIOL | Estradiol | 1-Chloroanthraquinone            | 82-44-0    |  10.7 | mM | 03Sep2014.Plate.1  | 2 |  6 | t | 1 |  10.7 | 2.55 | 2900-TO3 PhIII E1K Set 2 86 DR 03Sep2014 Plate 1_Cyprotex.csv |\n",
       "| CEETOX_H295R_ESTRADIOL | Estradiol | 1-Chloroanthraquinone            | 82-44-0    |  10.7 | mM | 10Jun2015.Plate.20 | 2 |  9 | t | 1 |  10.7 | 0.16 | 2900-TO3 165 DR 10Jun2015 Plate 20A.csv                       |\n",
       "| CEETOX_H295R_ESTRADIOL | Estradiol | 1-Chloroanthraquinone            | 82-44-0    |  10.7 | mM | 10Jun2015.Plate.20 | 2 |  8 | t | 1 |  10.7 | 0.18 | 2900-TO3 165 DR 10Jun2015 Plate 20A.csv                       |\n",
       "\n"
      ],
      "text/plain": [
       "  assay_component_name   technological_target_type_sub\n",
       "1 CEETOX_H295R_ESTRADIOL Estradiol                    \n",
       "2 CEETOX_H295R_ESTRADIOL Estradiol                    \n",
       "3 CEETOX_H295R_ESTRADIOL Estradiol                    \n",
       "4 CEETOX_H295R_ESTRADIOL Estradiol                    \n",
       "5 CEETOX_H295R_ESTRADIOL Estradiol                    \n",
       "6 CEETOX_H295R_ESTRADIOL Estradiol                    \n",
       "  chnm                             casn       stkc  stkc_unit\n",
       "1 1-(Bromomethyl)-3-phenoxybenzene 51632-16-7 100.0 mM       \n",
       "2 1-(Bromomethyl)-3-phenoxybenzene 51632-16-7 100.0 mM       \n",
       "3 1-Chloroanthraquinone            82-44-0     10.7 mM       \n",
       "4 1-Chloroanthraquinone            82-44-0     10.7 mM       \n",
       "5 1-Chloroanthraquinone            82-44-0     10.7 mM       \n",
       "6 1-Chloroanthraquinone            82-44-0     10.7 mM       \n",
       "  apid               rowi coli wllt wllq conc  rval\n",
       "1 09Apr2014.Plate.26 2    10   t    1    100.0 1.44\n",
       "2 09Apr2014.Plate.26 2    11   t    1    100.0 1.43\n",
       "3 03Sep2014.Plate.1  2     7   t    1     10.7 2.20\n",
       "4 03Sep2014.Plate.1  2     6   t    1     10.7 2.55\n",
       "5 10Jun2015.Plate.20 2     9   t    1     10.7 0.16\n",
       "6 10Jun2015.Plate.20 2     8   t    1     10.7 0.18\n",
       "  srcf                                                         \n",
       "1 2900-100644 TO3 DR 09Apr2014 Plate 26_Cyprotex.csv           \n",
       "2 2900-100644 TO3 DR 09Apr2014 Plate 26_Cyprotex.csv           \n",
       "3 2900-TO3 PhIII E1K Set 2 86 DR 03Sep2014 Plate 1_Cyprotex.csv\n",
       "4 2900-TO3 PhIII E1K Set 2 86 DR 03Sep2014 Plate 1_Cyprotex.csv\n",
       "5 2900-TO3 165 DR 10Jun2015 Plate 20A.csv                      \n",
       "6 2900-TO3 165 DR 10Jun2015 Plate 20A.csv                      "
      ]
     },
     "metadata": {},
     "output_type": "display_data"
    },
    {
     "data": {
      "text/html": [
       "<table class=\"dataframe\">\n",
       "<caption>A grouped_df: 4 × 14</caption>\n",
       "<thead>\n",
       "\t<tr><th scope=col>assay_component_name</th><th scope=col>technological_target_type_sub</th><th scope=col>chnm</th><th scope=col>casn</th><th scope=col>stkc</th><th scope=col>stkc_unit</th><th scope=col>apid</th><th scope=col>rowi</th><th scope=col>coli</th><th scope=col>wllt</th><th scope=col>wllq</th><th scope=col>conc</th><th scope=col>rval</th><th scope=col>srcf</th></tr>\n",
       "\t<tr><th scope=col>&lt;chr&gt;</th><th scope=col>&lt;chr&gt;</th><th scope=col>&lt;chr&gt;</th><th scope=col>&lt;chr&gt;</th><th scope=col>&lt;dbl&gt;</th><th scope=col>&lt;chr&gt;</th><th scope=col>&lt;chr&gt;</th><th scope=col>&lt;int&gt;</th><th scope=col>&lt;int&gt;</th><th scope=col>&lt;chr&gt;</th><th scope=col>&lt;int&gt;</th><th scope=col>&lt;dbl&gt;</th><th scope=col>&lt;dbl&gt;</th><th scope=col>&lt;chr&gt;</th></tr>\n",
       "</thead>\n",
       "<tbody>\n",
       "\t<tr><td>CEETOX_H295R_ESTRADIOL</td><td>Estradiol</td><td>4'-Acetylbiphenyl</td><td>92-91-1</td><td>100</td><td>mM</td><td>03Sep2014.Plate.3 </td><td>2</td><td>5</td><td>t</td><td>1</td><td>100</td><td>1.91</td><td>2900-TO3 PhIII E1K Set 2 86 DR 03Sep2014 Plate 3_Cyprotex.csv</td></tr>\n",
       "\t<tr><td>CEETOX_H295R_ESTRADIOL</td><td>Estradiol</td><td>4'-Acetylbiphenyl</td><td>92-91-1</td><td>100</td><td>mM</td><td>10Jun2015.Plate.22</td><td>2</td><td>7</td><td>t</td><td>1</td><td>100</td><td>0.12</td><td>2900-TO3 165 DR 10Jun2015 Plate 22B.csv                      </td></tr>\n",
       "\t<tr><td>CEETOX_H295R_ESTRADIOL</td><td>Estradiol</td><td>4'-Acetylbiphenyl</td><td>92-91-1</td><td>100</td><td>mM</td><td>03Sep2014.Plate.3 </td><td>2</td><td>4</td><td>t</td><td>1</td><td>100</td><td>2.02</td><td>2900-TO3 PhIII E1K Set 2 86 DR 03Sep2014 Plate 3_Cyprotex.csv</td></tr>\n",
       "\t<tr><td>CEETOX_H295R_ESTRADIOL</td><td>Estradiol</td><td>4'-Acetylbiphenyl</td><td>92-91-1</td><td>100</td><td>mM</td><td>10Jun2015.Plate.22</td><td>2</td><td>6</td><td>t</td><td>1</td><td>100</td><td>0.12</td><td>2900-TO3 165 DR 10Jun2015 Plate 22B.csv                      </td></tr>\n",
       "</tbody>\n",
       "</table>\n"
      ],
      "text/latex": [
       "A grouped\\_df: 4 × 14\n",
       "\\begin{tabular}{llllllllllllll}\n",
       " assay\\_component\\_name & technological\\_target\\_type\\_sub & chnm & casn & stkc & stkc\\_unit & apid & rowi & coli & wllt & wllq & conc & rval & srcf\\\\\n",
       " <chr> & <chr> & <chr> & <chr> & <dbl> & <chr> & <chr> & <int> & <int> & <chr> & <int> & <dbl> & <dbl> & <chr>\\\\\n",
       "\\hline\n",
       "\t CEETOX\\_H295R\\_ESTRADIOL & Estradiol & 4'-Acetylbiphenyl & 92-91-1 & 100 & mM & 03Sep2014.Plate.3  & 2 & 5 & t & 1 & 100 & 1.91 & 2900-TO3 PhIII E1K Set 2 86 DR 03Sep2014 Plate 3\\_Cyprotex.csv\\\\\n",
       "\t CEETOX\\_H295R\\_ESTRADIOL & Estradiol & 4'-Acetylbiphenyl & 92-91-1 & 100 & mM & 10Jun2015.Plate.22 & 2 & 7 & t & 1 & 100 & 0.12 & 2900-TO3 165 DR 10Jun2015 Plate 22B.csv                      \\\\\n",
       "\t CEETOX\\_H295R\\_ESTRADIOL & Estradiol & 4'-Acetylbiphenyl & 92-91-1 & 100 & mM & 03Sep2014.Plate.3  & 2 & 4 & t & 1 & 100 & 2.02 & 2900-TO3 PhIII E1K Set 2 86 DR 03Sep2014 Plate 3\\_Cyprotex.csv\\\\\n",
       "\t CEETOX\\_H295R\\_ESTRADIOL & Estradiol & 4'-Acetylbiphenyl & 92-91-1 & 100 & mM & 10Jun2015.Plate.22 & 2 & 6 & t & 1 & 100 & 0.12 & 2900-TO3 165 DR 10Jun2015 Plate 22B.csv                      \\\\\n",
       "\\end{tabular}\n"
      ],
      "text/markdown": [
       "\n",
       "A grouped_df: 4 × 14\n",
       "\n",
       "| assay_component_name &lt;chr&gt; | technological_target_type_sub &lt;chr&gt; | chnm &lt;chr&gt; | casn &lt;chr&gt; | stkc &lt;dbl&gt; | stkc_unit &lt;chr&gt; | apid &lt;chr&gt; | rowi &lt;int&gt; | coli &lt;int&gt; | wllt &lt;chr&gt; | wllq &lt;int&gt; | conc &lt;dbl&gt; | rval &lt;dbl&gt; | srcf &lt;chr&gt; |\n",
       "|---|---|---|---|---|---|---|---|---|---|---|---|---|---|\n",
       "| CEETOX_H295R_ESTRADIOL | Estradiol | 4'-Acetylbiphenyl | 92-91-1 | 100 | mM | 03Sep2014.Plate.3  | 2 | 5 | t | 1 | 100 | 1.91 | 2900-TO3 PhIII E1K Set 2 86 DR 03Sep2014 Plate 3_Cyprotex.csv |\n",
       "| CEETOX_H295R_ESTRADIOL | Estradiol | 4'-Acetylbiphenyl | 92-91-1 | 100 | mM | 10Jun2015.Plate.22 | 2 | 7 | t | 1 | 100 | 0.12 | 2900-TO3 165 DR 10Jun2015 Plate 22B.csv                       |\n",
       "| CEETOX_H295R_ESTRADIOL | Estradiol | 4'-Acetylbiphenyl | 92-91-1 | 100 | mM | 03Sep2014.Plate.3  | 2 | 4 | t | 1 | 100 | 2.02 | 2900-TO3 PhIII E1K Set 2 86 DR 03Sep2014 Plate 3_Cyprotex.csv |\n",
       "| CEETOX_H295R_ESTRADIOL | Estradiol | 4'-Acetylbiphenyl | 92-91-1 | 100 | mM | 10Jun2015.Plate.22 | 2 | 6 | t | 1 | 100 | 0.12 | 2900-TO3 165 DR 10Jun2015 Plate 22B.csv                       |\n",
       "\n"
      ],
      "text/plain": [
       "  assay_component_name   technological_target_type_sub chnm             \n",
       "1 CEETOX_H295R_ESTRADIOL Estradiol                     4'-Acetylbiphenyl\n",
       "2 CEETOX_H295R_ESTRADIOL Estradiol                     4'-Acetylbiphenyl\n",
       "3 CEETOX_H295R_ESTRADIOL Estradiol                     4'-Acetylbiphenyl\n",
       "4 CEETOX_H295R_ESTRADIOL Estradiol                     4'-Acetylbiphenyl\n",
       "  casn    stkc stkc_unit apid               rowi coli wllt wllq conc rval\n",
       "1 92-91-1 100  mM        03Sep2014.Plate.3  2    5    t    1    100  1.91\n",
       "2 92-91-1 100  mM        10Jun2015.Plate.22 2    7    t    1    100  0.12\n",
       "3 92-91-1 100  mM        03Sep2014.Plate.3  2    4    t    1    100  2.02\n",
       "4 92-91-1 100  mM        10Jun2015.Plate.22 2    6    t    1    100  0.12\n",
       "  srcf                                                         \n",
       "1 2900-TO3 PhIII E1K Set 2 86 DR 03Sep2014 Plate 3_Cyprotex.csv\n",
       "2 2900-TO3 165 DR 10Jun2015 Plate 22B.csv                      \n",
       "3 2900-TO3 PhIII E1K Set 2 86 DR 03Sep2014 Plate 3_Cyprotex.csv\n",
       "4 2900-TO3 165 DR 10Jun2015 Plate 22B.csv                      "
      ]
     },
     "metadata": {},
     "output_type": "display_data"
    }
   ],
   "source": [
    "all_chems_estrogen <- as_tibble(read.table(file = \"./invitrodb_queries/estrogen_up_queries_and_data/all_chems_estradiol_levels.txt\", sep=\"\\t\", header=TRUE, quote=\"\\\"\"))\n",
    "all_chems_estrogen_summary <- all_chems_estrogen %>% \n",
    "                                group_by(chnm) %>% \n",
    "                                filter(conc == max(conc)) %>%\n",
    "                                arrange(chnm, conc)\n",
    "head(all_chems_estrogen_summary)\n",
    "\n",
    "all_chems_estrogen_summary[which(all_chems_estrogen_summary$chnm == \"4'-Acetylbiphenyl\"), ]"
   ]
  },
  {
   "cell_type": "markdown",
   "id": "326ce88d-38f7-4d03-9fcd-1100f694e975",
   "metadata": {},
   "source": [
    "The analysis I'm going to do is rather straightforward, so I don't need to build a hierarchical model. That also means I don't need to run a hierarhical model.\n",
    "\n",
    "So my next step is to build the function that will perform the analysis. For each group I will use the mean of the DMSO response for the plate, found in ```dmso_estrogen_summary```, and then calculate where that value sits on the DMSO distribution I modeled earlier. I will also calculate if the difference between the chemical and DMSO is outside the region of practical equivalence (ROPE). For these purposes, I will define the ROPE such that we only care about differences where the chemical is greater than DMSO, and the ROPE boundary is at a difference of 1$\\mu$M, or 272.4$\\mu$g; I will also look at 0.2$\\mu$g/L.\n",
    "\n",
    "That 2724$\\mu$g is based on the following:\n",
    "\n",
    "```(1e-6g)(1mol/272.4g)(1e6umol) = 0.00376umol per 1 ug```\n",
    "\n",
    "For 10$\\mu$mol, it would take ```(1ug/0.003umol) = (x/1umol)```\n",
    "\n",
    "```1ug x 1umol = x * 0.00376umol```\n",
    "\n",
    "```x = 1ug x 272.4```\n",
    "\n",
    "```x = 272.4ug```\n",
    "\n",
    "To be very clear, at 0.44$\\mu$g/L of estrogen in DMSO, even a 4x change would be 1.76$\\mu$g/L. That would be a difference of:\n",
    "\n",
    "```(1.76ug * 0.00376umol/ug) - (0.44ug * 0.00376umol/ug)```\n",
    "\n",
    "```0.0066176 - 0.0016544 = 0.0049632 ```\n",
    "\n",
    "0.0049632$\\mu$M.\n",
    "\n",
    "That is barely a spit in the ocean of a difference biologically speaking. It is 4.96nM difference. In other words, the fold changes that were observed in Cardona and Rudel (2021) are not biologically relevant at all. \n",
    "\n",
    "To demonstrate this point, following is a Michaelis-Menten example. I'm going to calculate the fractional occupancy at the estrogen receptor for 0.44$\\mu$g/L of estrogen and at 4x change which would be 1.76$\\mu$g/L.\n"
   ]
  },
  {
   "cell_type": "code",
   "execution_count": 27,
   "id": "7055668d-7645-496f-b5ea-fe96ff5b0d4d",
   "metadata": {},
   "outputs": [
    {
     "data": {
      "text/html": [
       "0.97"
      ],
      "text/latex": [
       "0.97"
      ],
      "text/markdown": [
       "0.97"
      ],
      "text/plain": [
       "[1] 0.97"
      ]
     },
     "metadata": {},
     "output_type": "display_data"
    },
    {
     "data": {
      "text/html": [
       "0.99"
      ],
      "text/latex": [
       "0.99"
      ],
      "text/markdown": [
       "0.99"
      ],
      "text/plain": [
       "[1] 0.99"
      ]
     },
     "metadata": {},
     "output_type": "display_data"
    },
    {
     "data": {
      "text/html": [
       "0.02"
      ],
      "text/latex": [
       "0.02"
      ],
      "text/markdown": [
       "0.02"
      ],
      "text/plain": [
       "[1] 0.02"
      ]
     },
     "metadata": {},
     "output_type": "display_data"
    },
    {
     "data": {
      "text/html": [
       "0.07"
      ],
      "text/latex": [
       "0.07"
      ],
      "text/markdown": [
       "0.07"
      ],
      "text/plain": [
       "[1] 0.07"
      ]
     },
     "metadata": {},
     "output_type": "display_data"
    }
   ],
   "source": [
    "# Michaelis-Menten equation\n",
    "fractional_occupancy_fxn <- function(chem1_conc, kd1){\n",
    "  fo2 <- chem1_conc / (chem1_conc + kd1)\n",
    "  return(fo2)\n",
    "}\n",
    "\n",
    "# bring the ug/L values into M\n",
    "chem_conc_1 <- (0.44/272.4) * 1e-6\n",
    "chem_conc_2 <- (0.44*4/272.4) * 1e-6\n",
    "\n",
    "chem_conc_3 <- 1e-12\n",
    "chem_conc_4 <- 4e-12\n",
    "\n",
    "#Using equation 4 from Craig 1993: https://www.sciencedirect.com/science/article/pii/016561479390070Z\n",
    "e2_ic50 <- 5.9e-9\n",
    "e2_conc <- 2e-9\n",
    "e2_ec50 <- 17.6e-12\n",
    "e2_pillon_kd <- e2_ic50 / (1+(e2_conc/e2_ec50)) \n",
    "\n",
    "fo_c1 <- fractional_occupancy_fxn(chem_conc_1, e2_pillon_kd)\n",
    "fo_c2 <- fractional_occupancy_fxn(chem_conc_2, e2_pillon_kd)\n",
    "fo_c3 <- fractional_occupancy_fxn(chem_conc_3, e2_pillon_kd)\n",
    "fo_c4 <- fractional_occupancy_fxn(chem_conc_4, e2_pillon_kd)\n",
    "\n",
    "round(fo_c1, 2)\n",
    "round(fo_c2, 2)\n",
    "round(fo_c3, 2)\n",
    "round(fo_c4, 2)"
   ]
  },
  {
   "cell_type": "markdown",
   "id": "519c6833-a454-4609-8269-641c44876766",
   "metadata": {},
   "source": [
    "To be clear, if you're at the lower asymptote or the upper asymptote, a 4x change will not make a difference. If you are in the middle of the curve, a 4x change may lead to a drastic increase in fractional occupancy, but it will not lead to a significant increase in biological activity of the estrogen receptor.\n",
    "\n",
    "Next we are going to see what the fractional occupancy of estradiol looks like at its peak during the menstrual cycle, where E2 peaks at 200pg/mL to 500pg/mL (https://www.sciencedirect.com/topics/biochemistry-genetics-and-molecular-biology/estradiol-blood-level). "
   ]
  },
  {
   "cell_type": "code",
   "execution_count": 28,
   "id": "d4974890-8693-4f54-8d84-3bc30982d518",
   "metadata": {},
   "outputs": [
    {
     "data": {
      "text/html": [
       "0.934493696354615"
      ],
      "text/latex": [
       "0.934493696354615"
      ],
      "text/markdown": [
       "0.934493696354615"
      ],
      "text/plain": [
       "[1] 0.9344937"
      ]
     },
     "metadata": {},
     "output_type": "display_data"
    },
    {
     "data": {
      "text/html": [
       "0.972725487024598"
      ],
      "text/latex": [
       "0.972725487024598"
      ],
      "text/markdown": [
       "0.972725487024598"
      ],
      "text/plain": [
       "[1] 0.9727255"
      ]
     },
     "metadata": {},
     "output_type": "display_data"
    }
   ],
   "source": [
    "# the following converts from pg/mL to M\n",
    "fractional_occupancy_fxn((200e-12 * 1000) / 272.4, e2_pillon_kd)\n",
    "fractional_occupancy_fxn((500e-12 * 1000) / 272.4, e2_pillon_kd)"
   ]
  },
  {
   "cell_type": "markdown",
   "id": "203cf756-87ae-42a3-aef7-d1634b90c8a2",
   "metadata": {},
   "source": [
    "In cycling females, E2 tends to reach fractional occupancy levels of 93-97% in order to have generate a surge of GnRH from the hypothalamus to stimulate the LH surge from the pituitary. Thus, these values reflect the appoximate biological values required for ovulation, and thus, a true endocrine response.\n",
    "\n",
    "Keep in mind that this means that the vehicle is already causing the generation of extremely high levels of estradiol in this model system -- to the order of 97% receptor occupancy. That means, by default, unless the test chemical is somehow an antagonist, any level of estradiol being generated is extremely high already. That is not necessarily a fault, but it is something to keep in mind, as it means that we cannot directly compare the estrogen production levels in this assay with estrogen production levels in vivo.\n",
    "\n",
    "This brings me back to a critical point, though -- at what level do I say that estrogen production is biologically meaningfully different from 0 difference compared to DMSO? Naively I might say that we need to take DMSO as a baseline value, and then we would say 0.2$\\mu$g/L or 73.4nM (that is 200pg/mL, the amount of estrogen that results in 93% receptor occupancy) is the critical difference. However, that is not necessarily getting us at the point we are trying to make, as the in vitro model is vastly different from the in vivo situation, not only in the cells that are being used, especially the lineage of the in vitro cells, but also the numbers of cells that may be participating in the production, and the prediliction of those cells for producing certain products. \n",
    "\n",
    "In fact, one concern that I have is that the system may be taxed by DMSO, and perhaps the system is not as sensitive as it should be. Alternatively, DMSO could also be priming the system for producing even more E2 than it normally would be.\n",
    "\n",
    "However, in the absence of good alternatives, I will settle on using a difference of 0.2$\\mu$g/L and 1.0$\\mu$g/L as the boundary level. What this means is that the 95% highest density interval for the difference must be greater than 0.2$\\mu$g/L in one case, and 1.0$\\mu$g/L in another case, to be considered different.\n",
    "\n",
    "Next, I'm going to calculate the analysis results across all of the chemicals. This will include the DMSO values, the percentage locations of the DMSO values on the DMSO distribution, and the percentage of the difference greater than 0.2$\\mu$g/L."
   ]
  },
  {
   "cell_type": "code",
   "execution_count": 29,
   "id": "1621dd18-ff9d-4d12-9c32-3f92869f7047",
   "metadata": {},
   "outputs": [],
   "source": [
    "dmso_quantile <- function(plate_id, dmso_distro, dmso_estrogen_summary){\n",
    "    dmso_plate_data <- dmso_estrogen_summary[which(dmso_estrogen_summary$apid == plate_id), 2]\n",
    "    dmso_quantile <- length(which(dmso_distro < pull(dmso_plate_data, mean))) / length(dmso_distro)\n",
    "    return(dmso_quantile)\n",
    "}\n",
    "\n",
    "diff_quant <- function(chem_data, dmso_distro, dmso_sd_distro, threshold=0.2){\n",
    "    chemical_distro <- vector(mode=\"double\", length = 10000)\n",
    "    for(i in 1:10000){\n",
    "        repeat{\n",
    "            chemical_distro[i] <- rnorm(1, chem_data, dmso_sd_distro[i])\n",
    "            if(length(which(chemical_distro < 0)) == 0){break}\n",
    "        }\n",
    "    }\n",
    "    diff_distro <- chemical_distro - dmso_distro\n",
    "    crit <- length(which(diff_distro > threshold))/length(diff_distro)\n",
    "    return(crit)\n",
    "}"
   ]
  },
  {
   "cell_type": "code",
   "execution_count": 30,
   "id": "e1c670b0-e0e7-4ad7-abd2-ee1e0300aec4",
   "metadata": {},
   "outputs": [
    {
     "data": {
      "text/html": [
       "<table class=\"dataframe\">\n",
       "<caption>A tibble: 6 × 2</caption>\n",
       "<thead>\n",
       "\t<tr><th scope=col>chnm</th><th scope=col>mean</th></tr>\n",
       "\t<tr><th scope=col>&lt;chr&gt;</th><th scope=col>&lt;dbl&gt;</th></tr>\n",
       "</thead>\n",
       "<tbody>\n",
       "\t<tr><td>1-(Bromomethyl)-3-phenoxybenzene                                                 </td><td>1.4350</td></tr>\n",
       "\t<tr><td>1-Chloroanthraquinone                                                            </td><td>1.2725</td></tr>\n",
       "\t<tr><td>1-Methyl-3-phenyl-5-(3-(trifluoromethyl)phenyl)-4-pyridone                       </td><td>0.1750</td></tr>\n",
       "\t<tr><td>1,2-Phenylenediamine                                                             </td><td>0.8650</td></tr>\n",
       "\t<tr><td>1,3-Dichloro-6,7,8,9,10,12-hexahydroazepino[2,1-b]quinazoline hydrochloride (1:1)</td><td>0.1750</td></tr>\n",
       "\t<tr><td>1,4-Benzenediamine                                                               </td><td>0.3350</td></tr>\n",
       "</tbody>\n",
       "</table>\n"
      ],
      "text/latex": [
       "A tibble: 6 × 2\n",
       "\\begin{tabular}{ll}\n",
       " chnm & mean\\\\\n",
       " <chr> & <dbl>\\\\\n",
       "\\hline\n",
       "\t 1-(Bromomethyl)-3-phenoxybenzene                                                  & 1.4350\\\\\n",
       "\t 1-Chloroanthraquinone                                                             & 1.2725\\\\\n",
       "\t 1-Methyl-3-phenyl-5-(3-(trifluoromethyl)phenyl)-4-pyridone                        & 0.1750\\\\\n",
       "\t 1,2-Phenylenediamine                                                              & 0.8650\\\\\n",
       "\t 1,3-Dichloro-6,7,8,9,10,12-hexahydroazepino{[}2,1-b{]}quinazoline hydrochloride (1:1) & 0.1750\\\\\n",
       "\t 1,4-Benzenediamine                                                                & 0.3350\\\\\n",
       "\\end{tabular}\n"
      ],
      "text/markdown": [
       "\n",
       "A tibble: 6 × 2\n",
       "\n",
       "| chnm &lt;chr&gt; | mean &lt;dbl&gt; |\n",
       "|---|---|\n",
       "| 1-(Bromomethyl)-3-phenoxybenzene                                                  | 1.4350 |\n",
       "| 1-Chloroanthraquinone                                                             | 1.2725 |\n",
       "| 1-Methyl-3-phenyl-5-(3-(trifluoromethyl)phenyl)-4-pyridone                        | 0.1750 |\n",
       "| 1,2-Phenylenediamine                                                              | 0.8650 |\n",
       "| 1,3-Dichloro-6,7,8,9,10,12-hexahydroazepino[2,1-b]quinazoline hydrochloride (1:1) | 0.1750 |\n",
       "| 1,4-Benzenediamine                                                                | 0.3350 |\n",
       "\n"
      ],
      "text/plain": [
       "  chnm                                                                             \n",
       "1 1-(Bromomethyl)-3-phenoxybenzene                                                 \n",
       "2 1-Chloroanthraquinone                                                            \n",
       "3 1-Methyl-3-phenyl-5-(3-(trifluoromethyl)phenyl)-4-pyridone                       \n",
       "4 1,2-Phenylenediamine                                                             \n",
       "5 1,3-Dichloro-6,7,8,9,10,12-hexahydroazepino[2,1-b]quinazoline hydrochloride (1:1)\n",
       "6 1,4-Benzenediamine                                                               \n",
       "  mean  \n",
       "1 1.4350\n",
       "2 1.2725\n",
       "3 0.1750\n",
       "4 0.8650\n",
       "5 0.1750\n",
       "6 0.3350"
      ]
     },
     "metadata": {},
     "output_type": "display_data"
    }
   ],
   "source": [
    "all_chems_estrogen_trim <- all_chems_estrogen_summary[, c(3, 12, 13)]\n",
    "\n",
    "all_chems_estrogen_max_mean <- all_chems_estrogen_trim %>% \n",
    "                                group_by(chnm) %>% \n",
    "                                filter(conc == max(conc)) %>%\n",
    "                                arrange(chnm, conc) %>%\n",
    "                                summarize(mean = mean(rval))\n",
    "head(all_chems_estrogen_max_mean)"
   ]
  },
  {
   "cell_type": "code",
   "execution_count": 31,
   "id": "c78a4cab-0490-405b-9576-2a8da9b58daa",
   "metadata": {},
   "outputs": [
    {
     "data": {
      "text/html": [
       "<table class=\"dataframe\">\n",
       "<caption>A grouped_df: 6 × 2</caption>\n",
       "<thead>\n",
       "\t<tr><th scope=col>chnm</th><th scope=col>apid</th></tr>\n",
       "\t<tr><th scope=col>&lt;chr&gt;</th><th scope=col>&lt;chr&gt;</th></tr>\n",
       "</thead>\n",
       "<tbody>\n",
       "\t<tr><td>1-(Bromomethyl)-3-phenoxybenzene                                                 </td><td>09Apr2014.Plate.26</td></tr>\n",
       "\t<tr><td>1-Chloroanthraquinone                                                            </td><td>03Sep2014.Plate.1 </td></tr>\n",
       "\t<tr><td>1-Chloroanthraquinone                                                            </td><td>10Jun2015.Plate.20</td></tr>\n",
       "\t<tr><td>1-Methyl-3-phenyl-5-(3-(trifluoromethyl)phenyl)-4-pyridone                       </td><td>10Jun2015.Plate.11</td></tr>\n",
       "\t<tr><td>1,2-Phenylenediamine                                                             </td><td>02Apr2014.Plate.10</td></tr>\n",
       "\t<tr><td>1,3-Dichloro-6,7,8,9,10,12-hexahydroazepino[2,1-b]quinazoline hydrochloride (1:1)</td><td>26Mar2014.Plate.18</td></tr>\n",
       "</tbody>\n",
       "</table>\n"
      ],
      "text/latex": [
       "A grouped\\_df: 6 × 2\n",
       "\\begin{tabular}{ll}\n",
       " chnm & apid\\\\\n",
       " <chr> & <chr>\\\\\n",
       "\\hline\n",
       "\t 1-(Bromomethyl)-3-phenoxybenzene                                                  & 09Apr2014.Plate.26\\\\\n",
       "\t 1-Chloroanthraquinone                                                             & 03Sep2014.Plate.1 \\\\\n",
       "\t 1-Chloroanthraquinone                                                             & 10Jun2015.Plate.20\\\\\n",
       "\t 1-Methyl-3-phenyl-5-(3-(trifluoromethyl)phenyl)-4-pyridone                        & 10Jun2015.Plate.11\\\\\n",
       "\t 1,2-Phenylenediamine                                                              & 02Apr2014.Plate.10\\\\\n",
       "\t 1,3-Dichloro-6,7,8,9,10,12-hexahydroazepino{[}2,1-b{]}quinazoline hydrochloride (1:1) & 26Mar2014.Plate.18\\\\\n",
       "\\end{tabular}\n"
      ],
      "text/markdown": [
       "\n",
       "A grouped_df: 6 × 2\n",
       "\n",
       "| chnm &lt;chr&gt; | apid &lt;chr&gt; |\n",
       "|---|---|\n",
       "| 1-(Bromomethyl)-3-phenoxybenzene                                                  | 09Apr2014.Plate.26 |\n",
       "| 1-Chloroanthraquinone                                                             | 03Sep2014.Plate.1  |\n",
       "| 1-Chloroanthraquinone                                                             | 10Jun2015.Plate.20 |\n",
       "| 1-Methyl-3-phenyl-5-(3-(trifluoromethyl)phenyl)-4-pyridone                        | 10Jun2015.Plate.11 |\n",
       "| 1,2-Phenylenediamine                                                              | 02Apr2014.Plate.10 |\n",
       "| 1,3-Dichloro-6,7,8,9,10,12-hexahydroazepino[2,1-b]quinazoline hydrochloride (1:1) | 26Mar2014.Plate.18 |\n",
       "\n"
      ],
      "text/plain": [
       "  chnm                                                                             \n",
       "1 1-(Bromomethyl)-3-phenoxybenzene                                                 \n",
       "2 1-Chloroanthraquinone                                                            \n",
       "3 1-Chloroanthraquinone                                                            \n",
       "4 1-Methyl-3-phenyl-5-(3-(trifluoromethyl)phenyl)-4-pyridone                       \n",
       "5 1,2-Phenylenediamine                                                             \n",
       "6 1,3-Dichloro-6,7,8,9,10,12-hexahydroazepino[2,1-b]quinazoline hydrochloride (1:1)\n",
       "  apid              \n",
       "1 09Apr2014.Plate.26\n",
       "2 03Sep2014.Plate.1 \n",
       "3 10Jun2015.Plate.20\n",
       "4 10Jun2015.Plate.11\n",
       "5 02Apr2014.Plate.10\n",
       "6 26Mar2014.Plate.18"
      ]
     },
     "metadata": {},
     "output_type": "display_data"
    }
   ],
   "source": [
    "all_chems_estrogen <- as_tibble(read.table(file = \"./invitrodb_queries/estrogen_up_queries_and_data/all_chems_estradiol_levels.txt\", sep=\"\\t\", header=TRUE))\n",
    "all_chems_estrogen_plates <- all_chems_estrogen %>% \n",
    "                                group_by(chnm) %>% \n",
    "                                filter(conc == max(conc)) %>%\n",
    "                                arrange(chnm, conc) %>% \n",
    "                                distinct(apid)\n",
    "head(all_chems_estrogen_plates)"
   ]
  },
  {
   "cell_type": "code",
   "execution_count": 32,
   "id": "9b58517e-0466-4916-9703-3d22f6a57733",
   "metadata": {},
   "outputs": [
    {
     "data": {
      "image/png": "[encoded data removed]",
      "text/plain": [
       "Plot with title \"Histogram of chem_quantiles\""
      ]
     },
     "metadata": {
      "image/png": {
       "height": 420,
       "width": 420
      }
     },
     "output_type": "display_data"
    }
   ],
   "source": [
    "chem_quantiles <- sapply(all_chems_estrogen_plates$apid, dmso_quantile, dmso_pred_distro, dmso_estrogen_summary)\n",
    "hist(chem_quantiles)"
   ]
  },
  {
   "cell_type": "code",
   "execution_count": 33,
   "id": "9fec593d-9a4f-4d35-ae71-105b5736ee64",
   "metadata": {},
   "outputs": [
    {
     "data": {
      "text/html": [
       "<strong>png:</strong> 2"
      ],
      "text/latex": [
       "\\textbf{png:} 2"
      ],
      "text/markdown": [
       "**png:** 2"
      ],
      "text/plain": [
       "png \n",
       "  2 "
      ]
     },
     "metadata": {},
     "output_type": "display_data"
    }
   ],
   "source": [
    "png(\"dmso_estrogen_chem_quantiles.png\", width=5000, height=5000, res=600)\n",
    "hist(chem_quantiles)\n",
    "dev.off()"
   ]
  },
  {
   "cell_type": "code",
   "execution_count": 34,
   "id": "2a3cda1f-c146-44a0-aaaa-3769ba1a59cb",
   "metadata": {},
   "outputs": [
    {
     "data": {
      "text/html": [
       "0.479087452471483"
      ],
      "text/latex": [
       "0.479087452471483"
      ],
      "text/markdown": [
       "0.479087452471483"
      ],
      "text/plain": [
       "[1] 0.4790875"
      ]
     },
     "metadata": {},
     "output_type": "display_data"
    },
    {
     "data": {
      "text/html": [
       "0.608365019011407"
      ],
      "text/latex": [
       "0.608365019011407"
      ],
      "text/markdown": [
       "0.608365019011407"
      ],
      "text/plain": [
       "[1] 0.608365"
      ]
     },
     "metadata": {},
     "output_type": "display_data"
    }
   ],
   "source": [
    "length(which(chem_quantiles <=0.25))/length(chem_quantiles)\n",
    "length(which(chem_quantiles < .50))/length(chem_quantiles)"
   ]
  },
  {
   "cell_type": "markdown",
   "id": "c603c9d8-1523-4f3a-ad04-7d1288a1db11",
   "metadata": {},
   "source": [
    "What we see from the histogram above is that approximately 48% of the chemicals that Cardona and Rudel (2021) identified have DMSO estrogen levels at or below the 25th percentile of the DMSO estrogen concentration distribution. "
   ]
  },
  {
   "cell_type": "code",
   "execution_count": 35,
   "id": "6ff2b260-fb9d-4b3b-9c9d-552a554d62d9",
   "metadata": {},
   "outputs": [
    {
     "data": {
      "text/html": [
       "0.514767932489452"
      ],
      "text/latex": [
       "0.514767932489452"
      ],
      "text/markdown": [
       "0.514767932489452"
      ],
      "text/plain": [
       "[1] 0.5147679"
      ]
     },
     "metadata": {},
     "output_type": "display_data"
    },
    {
     "data": {
      "text/html": [
       "0.649789029535865"
      ],
      "text/latex": [
       "0.649789029535865"
      ],
      "text/markdown": [
       "0.649789029535865"
      ],
      "text/plain": [
       "[1] 0.649789"
      ]
     },
     "metadata": {},
     "output_type": "display_data"
    }
   ],
   "source": [
    "all_chems_estrogen_plates$percentile <- chem_quantiles\n",
    "unique_chems <- unique(all_chems_estrogen_plates$chnm)\n",
    "percentile_25_chems <- unique(all_chems_estrogen_plates[which(all_chems_estrogen_plates$percentile <= 0.25), 1])\n",
    "length(pull(percentile_25_chems, chnm))/length(unique_chems)\n",
    "\n",
    "all_chems_estrogen_plates$percentile <- chem_quantiles\n",
    "unique_chems <- unique(all_chems_estrogen_plates$chnm)\n",
    "percentile_25_chems <- unique(all_chems_estrogen_plates[which(all_chems_estrogen_plates$percentile <= 0.50), 1])\n",
    "length(pull(percentile_25_chems, chnm))/length(unique_chems)"
   ]
  },
  {
   "cell_type": "markdown",
   "id": "96e7430a-40ee-4e47-8537-3bba74716b7c",
   "metadata": {},
   "source": [
    "The 48% statistic is based on plates. Some high concentration groups for each chemical identified by Cardona and Rudel (2021) are associated with more than one plate. So, if we just look at the unique chemicals themselves, and not the plates, what we see is that about 51% of the chemicals identified by Cardona and Rudel (2021) have at least one plate where the DMSO estrogen concentration is at or below the 25th percentile. About 65% of the chemicals identified by Cardona and Rudel (2021) have a DMSO estrogen concentration below the median.\n",
    "\n",
    "If there was better sampling, we would not expect to see the largest mass of the chemicals that change E2 levels greater than DMSO to be at or below the median. Instead, we would expect to see the DMSO levels more concentrated around the median, and far less of the mass at or below the 25th percentile. The distribution that we are seeing here is clearly a product of sampling bias.\n",
    "\n",
    "In the next code block I'm going to calculate the difference distribution density that is outside of the ROPE. If the critical probability is greater than 95%, then the difference distribution density is outside the ROPE."
   ]
  },
  {
   "cell_type": "code",
   "execution_count": 36,
   "id": "697e3e22-6821-4ee1-9941-e3de448a30a3",
   "metadata": {},
   "outputs": [],
   "source": [
    "critical_analysis <- sapply(all_chems_estrogen_max_mean$mean, diff_quant, dmso_pred_distro, dmso_sd_distro)\n",
    "all_chems_estrogen_max_mean_prob <- cbind(all_chems_estrogen_max_mean, critical_analysis)"
   ]
  },
  {
   "cell_type": "code",
   "execution_count": 37,
   "id": "9aa6644e-0d35-4172-910e-d6d1883f50d6",
   "metadata": {},
   "outputs": [
    {
     "data": {
      "text/html": [
       "<table class=\"dataframe\">\n",
       "<caption>A data.frame: 24 × 3</caption>\n",
       "<thead>\n",
       "\t<tr><th></th><th scope=col>chnm</th><th scope=col>mean</th><th scope=col>critical_analysis</th></tr>\n",
       "\t<tr><th></th><th scope=col>&lt;chr&gt;</th><th scope=col>&lt;dbl&gt;</th><th scope=col>&lt;dbl&gt;</th></tr>\n",
       "</thead>\n",
       "<tbody>\n",
       "\t<tr><th scope=row>11</th><td>17alpha-Estradiol                  </td><td>1042.0750</td><td>1.0000</td></tr>\n",
       "\t<tr><th scope=row>13</th><td>17beta-Estradiol                   </td><td> 869.6150</td><td>1.0000</td></tr>\n",
       "\t<tr><th scope=row>24</th><td>2,4-Dichlorophenol                 </td><td>   7.3900</td><td>1.0000</td></tr>\n",
       "\t<tr><th scope=row>31</th><td>3-Methyl-4-(methylthio)phenol      </td><td>   2.3600</td><td>0.9988</td></tr>\n",
       "\t<tr><th scope=row>32</th><td>3-Phenoxybenzenemethanol           </td><td>   1.9000</td><td>0.9889</td></tr>\n",
       "\t<tr><th scope=row>34</th><td>3-Phenylphenol                     </td><td>   1.8275</td><td>0.9824</td></tr>\n",
       "\t<tr><th scope=row>38</th><td>3,3'-Dimethylbenzidine             </td><td>   1.8650</td><td>0.9830</td></tr>\n",
       "\t<tr><th scope=row>50</th><td>4-Pentylphenol                     </td><td>   1.6400</td><td>0.9640</td></tr>\n",
       "\t<tr><th scope=row>53</th><td>5-Amino-2-methylphenol             </td><td>   1.5900</td><td>0.9565</td></tr>\n",
       "\t<tr><th scope=row>68</th><td>C.I. Solvent Yellow 14             </td><td>   1.7850</td><td>0.9815</td></tr>\n",
       "\t<tr><th scope=row>75</th><td>Chlorthal-dimethyl                 </td><td>   1.5800</td><td>0.9504</td></tr>\n",
       "\t<tr><th scope=row>83</th><td>Clove leaf oil                     </td><td>   1.8350</td><td>0.9832</td></tr>\n",
       "\t<tr><th scope=row>84</th><td>Colforsin                          </td><td>   4.1300</td><td>1.0000</td></tr>\n",
       "\t<tr><th scope=row>107</th><td>Equilin                            </td><td> 113.8750</td><td>1.0000</td></tr>\n",
       "\t<tr><th scope=row>108</th><td>Estriol                            </td><td>  17.2200</td><td>1.0000</td></tr>\n",
       "\t<tr><th scope=row>109</th><td>Estrone                            </td><td> 364.1800</td><td>1.0000</td></tr>\n",
       "\t<tr><th scope=row>117</th><td>GSK163929B                         </td><td>   2.0650</td><td>0.9959</td></tr>\n",
       "\t<tr><th scope=row>120</th><td>Indan-5-ol                         </td><td>   1.8775</td><td>0.9857</td></tr>\n",
       "\t<tr><th scope=row>126</th><td>Methiocarb                         </td><td>   2.0550</td><td>0.9940</td></tr>\n",
       "\t<tr><th scope=row>139</th><td>Oxyfluorfen                        </td><td>   2.1900</td><td>0.9975</td></tr>\n",
       "\t<tr><th scope=row>144</th><td>PharmaGSID_47263                   </td><td>   1.9700</td><td>0.9898</td></tr>\n",
       "\t<tr><th scope=row>163</th><td>Sodium 2-phenylphenate tetrahydrate</td><td>   1.8600</td><td>0.9875</td></tr>\n",
       "\t<tr><th scope=row>168</th><td>Testosterone propionate            </td><td>   7.1800</td><td>1.0000</td></tr>\n",
       "\t<tr><th scope=row>174</th><td>Zenarestat                         </td><td>   1.5600</td><td>0.9520</td></tr>\n",
       "</tbody>\n",
       "</table>\n"
      ],
      "text/latex": [
       "A data.frame: 24 × 3\n",
       "\\begin{tabular}{r|lll}\n",
       "  & chnm & mean & critical\\_analysis\\\\\n",
       "  & <chr> & <dbl> & <dbl>\\\\\n",
       "\\hline\n",
       "\t11 & 17alpha-Estradiol                   & 1042.0750 & 1.0000\\\\\n",
       "\t13 & 17beta-Estradiol                    &  869.6150 & 1.0000\\\\\n",
       "\t24 & 2,4-Dichlorophenol                  &    7.3900 & 1.0000\\\\\n",
       "\t31 & 3-Methyl-4-(methylthio)phenol       &    2.3600 & 0.9988\\\\\n",
       "\t32 & 3-Phenoxybenzenemethanol            &    1.9000 & 0.9889\\\\\n",
       "\t34 & 3-Phenylphenol                      &    1.8275 & 0.9824\\\\\n",
       "\t38 & 3,3'-Dimethylbenzidine              &    1.8650 & 0.9830\\\\\n",
       "\t50 & 4-Pentylphenol                      &    1.6400 & 0.9640\\\\\n",
       "\t53 & 5-Amino-2-methylphenol              &    1.5900 & 0.9565\\\\\n",
       "\t68 & C.I. Solvent Yellow 14              &    1.7850 & 0.9815\\\\\n",
       "\t75 & Chlorthal-dimethyl                  &    1.5800 & 0.9504\\\\\n",
       "\t83 & Clove leaf oil                      &    1.8350 & 0.9832\\\\\n",
       "\t84 & Colforsin                           &    4.1300 & 1.0000\\\\\n",
       "\t107 & Equilin                             &  113.8750 & 1.0000\\\\\n",
       "\t108 & Estriol                             &   17.2200 & 1.0000\\\\\n",
       "\t109 & Estrone                             &  364.1800 & 1.0000\\\\\n",
       "\t117 & GSK163929B                          &    2.0650 & 0.9959\\\\\n",
       "\t120 & Indan-5-ol                          &    1.8775 & 0.9857\\\\\n",
       "\t126 & Methiocarb                          &    2.0550 & 0.9940\\\\\n",
       "\t139 & Oxyfluorfen                         &    2.1900 & 0.9975\\\\\n",
       "\t144 & PharmaGSID\\_47263                    &    1.9700 & 0.9898\\\\\n",
       "\t163 & Sodium 2-phenylphenate tetrahydrate &    1.8600 & 0.9875\\\\\n",
       "\t168 & Testosterone propionate             &    7.1800 & 1.0000\\\\\n",
       "\t174 & Zenarestat                          &    1.5600 & 0.9520\\\\\n",
       "\\end{tabular}\n"
      ],
      "text/markdown": [
       "\n",
       "A data.frame: 24 × 3\n",
       "\n",
       "| <!--/--> | chnm &lt;chr&gt; | mean &lt;dbl&gt; | critical_analysis &lt;dbl&gt; |\n",
       "|---|---|---|---|\n",
       "| 11 | 17alpha-Estradiol                   | 1042.0750 | 1.0000 |\n",
       "| 13 | 17beta-Estradiol                    |  869.6150 | 1.0000 |\n",
       "| 24 | 2,4-Dichlorophenol                  |    7.3900 | 1.0000 |\n",
       "| 31 | 3-Methyl-4-(methylthio)phenol       |    2.3600 | 0.9988 |\n",
       "| 32 | 3-Phenoxybenzenemethanol            |    1.9000 | 0.9889 |\n",
       "| 34 | 3-Phenylphenol                      |    1.8275 | 0.9824 |\n",
       "| 38 | 3,3'-Dimethylbenzidine              |    1.8650 | 0.9830 |\n",
       "| 50 | 4-Pentylphenol                      |    1.6400 | 0.9640 |\n",
       "| 53 | 5-Amino-2-methylphenol              |    1.5900 | 0.9565 |\n",
       "| 68 | C.I. Solvent Yellow 14              |    1.7850 | 0.9815 |\n",
       "| 75 | Chlorthal-dimethyl                  |    1.5800 | 0.9504 |\n",
       "| 83 | Clove leaf oil                      |    1.8350 | 0.9832 |\n",
       "| 84 | Colforsin                           |    4.1300 | 1.0000 |\n",
       "| 107 | Equilin                             |  113.8750 | 1.0000 |\n",
       "| 108 | Estriol                             |   17.2200 | 1.0000 |\n",
       "| 109 | Estrone                             |  364.1800 | 1.0000 |\n",
       "| 117 | GSK163929B                          |    2.0650 | 0.9959 |\n",
       "| 120 | Indan-5-ol                          |    1.8775 | 0.9857 |\n",
       "| 126 | Methiocarb                          |    2.0550 | 0.9940 |\n",
       "| 139 | Oxyfluorfen                         |    2.1900 | 0.9975 |\n",
       "| 144 | PharmaGSID_47263                    |    1.9700 | 0.9898 |\n",
       "| 163 | Sodium 2-phenylphenate tetrahydrate |    1.8600 | 0.9875 |\n",
       "| 168 | Testosterone propionate             |    7.1800 | 1.0000 |\n",
       "| 174 | Zenarestat                          |    1.5600 | 0.9520 |\n",
       "\n"
      ],
      "text/plain": [
       "    chnm                                mean      critical_analysis\n",
       "11  17alpha-Estradiol                   1042.0750 1.0000           \n",
       "13  17beta-Estradiol                     869.6150 1.0000           \n",
       "24  2,4-Dichlorophenol                     7.3900 1.0000           \n",
       "31  3-Methyl-4-(methylthio)phenol          2.3600 0.9988           \n",
       "32  3-Phenoxybenzenemethanol               1.9000 0.9889           \n",
       "34  3-Phenylphenol                         1.8275 0.9824           \n",
       "38  3,3'-Dimethylbenzidine                 1.8650 0.9830           \n",
       "50  4-Pentylphenol                         1.6400 0.9640           \n",
       "53  5-Amino-2-methylphenol                 1.5900 0.9565           \n",
       "68  C.I. Solvent Yellow 14                 1.7850 0.9815           \n",
       "75  Chlorthal-dimethyl                     1.5800 0.9504           \n",
       "83  Clove leaf oil                         1.8350 0.9832           \n",
       "84  Colforsin                              4.1300 1.0000           \n",
       "107 Equilin                              113.8750 1.0000           \n",
       "108 Estriol                               17.2200 1.0000           \n",
       "109 Estrone                              364.1800 1.0000           \n",
       "117 GSK163929B                             2.0650 0.9959           \n",
       "120 Indan-5-ol                             1.8775 0.9857           \n",
       "126 Methiocarb                             2.0550 0.9940           \n",
       "139 Oxyfluorfen                            2.1900 0.9975           \n",
       "144 PharmaGSID_47263                       1.9700 0.9898           \n",
       "163 Sodium 2-phenylphenate tetrahydrate    1.8600 0.9875           \n",
       "168 Testosterone propionate                7.1800 1.0000           \n",
       "174 Zenarestat                             1.5600 0.9520           "
      ]
     },
     "metadata": {},
     "output_type": "display_data"
    }
   ],
   "source": [
    "all_chems_estrogen_max_mean_prob[which(all_chems_estrogen_max_mean_prob$critical_analysis > 0.95), ]"
   ]
  },
  {
   "cell_type": "markdown",
   "id": "e60a4cdc-cb44-4749-bd29-6f18383359c4",
   "metadata": {},
   "source": [
    "This Bayesian approach identified 24 chemicals that may potentially increase estrogen levels in the assay. However, many of these are endogenous hormones, so after removing those, we are left with 19 chemicals. Of these, 2 chemicals have QC-OMIT flags in the ICE database: 5-Amino-2-methylphenol and Sodium 2-phenylphenate tetrahydrate. So that leaves us at 17 chemicals that are eligible for additional screening. But recall, the ToxCast assays still suffer from sampling bias, these assays are statistically underpowered, so it is entirely plausible that these results are all still false positives. \n",
    "\n",
    "Why would I say that the assays may be suffering from sampling bias? Because typically ToxCast assays only have 2 replicates for each chemcial concentration. Having so few samples means that we cannot possibly get a good representation of the underlying population response. And in this case, the population response is for the cells in the culture. Is that inherently bad? No, not inherently bad, but it is limiting -- significantly limiting. It may be okay for a screening assay (keep in mind that we do not have a great idea of the sensitivity of the assay, so we cannot say for sure), but it certainly is not fit-for-purpose when it comes to risk assessment.\n",
    "\n",
    "It would be a significant stretch to say that we \"identified 16 chemicals that increase estrogen levels\". From a chemical screening standpoint, which is the purpose ToxCast is fit for, these 16 chemicals are good candidates for followup and additional analysis. But we need to understand that these 16 chemicals are just as likely to be false positives at this point.\n",
    "\n",
    "Regardless, this is far fewer than the number of chemicals Cardone and Rudel (2021) identified. "
   ]
  },
  {
   "cell_type": "code",
   "execution_count": 38,
   "id": "a578dab9-049a-446c-beba-a35f3a56e6f4",
   "metadata": {},
   "outputs": [
    {
     "data": {
      "text/html": [
       "<table class=\"dataframe\">\n",
       "<caption>A data.frame: 9 × 3</caption>\n",
       "<thead>\n",
       "\t<tr><th></th><th scope=col>chnm</th><th scope=col>mean</th><th scope=col>critical_analysis_1</th></tr>\n",
       "\t<tr><th></th><th scope=col>&lt;chr&gt;</th><th scope=col>&lt;dbl&gt;</th><th scope=col>&lt;dbl&gt;</th></tr>\n",
       "</thead>\n",
       "<tbody>\n",
       "\t<tr><th scope=row>11</th><td>17alpha-Estradiol            </td><td>1042.075</td><td>1.0000</td></tr>\n",
       "\t<tr><th scope=row>13</th><td>17beta-Estradiol             </td><td> 869.615</td><td>1.0000</td></tr>\n",
       "\t<tr><th scope=row>24</th><td>2,4-Dichlorophenol           </td><td>   7.390</td><td>1.0000</td></tr>\n",
       "\t<tr><th scope=row>31</th><td>3-Methyl-4-(methylthio)phenol</td><td>   2.360</td><td>0.9502</td></tr>\n",
       "\t<tr><th scope=row>84</th><td>Colforsin                    </td><td>   4.130</td><td>1.0000</td></tr>\n",
       "\t<tr><th scope=row>107</th><td>Equilin                      </td><td> 113.875</td><td>1.0000</td></tr>\n",
       "\t<tr><th scope=row>108</th><td>Estriol                      </td><td>  17.220</td><td>1.0000</td></tr>\n",
       "\t<tr><th scope=row>109</th><td>Estrone                      </td><td> 364.180</td><td>1.0000</td></tr>\n",
       "\t<tr><th scope=row>168</th><td>Testosterone propionate      </td><td>   7.180</td><td>1.0000</td></tr>\n",
       "</tbody>\n",
       "</table>\n"
      ],
      "text/latex": [
       "A data.frame: 9 × 3\n",
       "\\begin{tabular}{r|lll}\n",
       "  & chnm & mean & critical\\_analysis\\_1\\\\\n",
       "  & <chr> & <dbl> & <dbl>\\\\\n",
       "\\hline\n",
       "\t11 & 17alpha-Estradiol             & 1042.075 & 1.0000\\\\\n",
       "\t13 & 17beta-Estradiol              &  869.615 & 1.0000\\\\\n",
       "\t24 & 2,4-Dichlorophenol            &    7.390 & 1.0000\\\\\n",
       "\t31 & 3-Methyl-4-(methylthio)phenol &    2.360 & 0.9502\\\\\n",
       "\t84 & Colforsin                     &    4.130 & 1.0000\\\\\n",
       "\t107 & Equilin                       &  113.875 & 1.0000\\\\\n",
       "\t108 & Estriol                       &   17.220 & 1.0000\\\\\n",
       "\t109 & Estrone                       &  364.180 & 1.0000\\\\\n",
       "\t168 & Testosterone propionate       &    7.180 & 1.0000\\\\\n",
       "\\end{tabular}\n"
      ],
      "text/markdown": [
       "\n",
       "A data.frame: 9 × 3\n",
       "\n",
       "| <!--/--> | chnm &lt;chr&gt; | mean &lt;dbl&gt; | critical_analysis_1 &lt;dbl&gt; |\n",
       "|---|---|---|---|\n",
       "| 11 | 17alpha-Estradiol             | 1042.075 | 1.0000 |\n",
       "| 13 | 17beta-Estradiol              |  869.615 | 1.0000 |\n",
       "| 24 | 2,4-Dichlorophenol            |    7.390 | 1.0000 |\n",
       "| 31 | 3-Methyl-4-(methylthio)phenol |    2.360 | 0.9502 |\n",
       "| 84 | Colforsin                     |    4.130 | 1.0000 |\n",
       "| 107 | Equilin                       |  113.875 | 1.0000 |\n",
       "| 108 | Estriol                       |   17.220 | 1.0000 |\n",
       "| 109 | Estrone                       |  364.180 | 1.0000 |\n",
       "| 168 | Testosterone propionate       |    7.180 | 1.0000 |\n",
       "\n"
      ],
      "text/plain": [
       "    chnm                          mean     critical_analysis_1\n",
       "11  17alpha-Estradiol             1042.075 1.0000             \n",
       "13  17beta-Estradiol               869.615 1.0000             \n",
       "24  2,4-Dichlorophenol               7.390 1.0000             \n",
       "31  3-Methyl-4-(methylthio)phenol    2.360 0.9502             \n",
       "84  Colforsin                        4.130 1.0000             \n",
       "107 Equilin                        113.875 1.0000             \n",
       "108 Estriol                         17.220 1.0000             \n",
       "109 Estrone                        364.180 1.0000             \n",
       "168 Testosterone propionate          7.180 1.0000             "
      ]
     },
     "metadata": {},
     "output_type": "display_data"
    }
   ],
   "source": [
    "critical_analysis_1 <- sapply(all_chems_estrogen_max_mean$mean, diff_quant, dmso_pred_distro, dmso_sd_distro, threshold=1.0)\n",
    "all_chems_estrogen_max_mean_prob_1 <- cbind(all_chems_estrogen_max_mean, critical_analysis_1)\n",
    "all_chems_estrogen_max_mean_prob_1[which(all_chems_estrogen_max_mean_prob_1$critical_analysis > 0.95), ]"
   ]
  },
  {
   "cell_type": "markdown",
   "id": "b588d1a5-8298-49d2-8693-914f5ddaee94",
   "metadata": {},
   "source": [
    "If I try a threshold of 1.0, we can see that the number of chemicals drops precipitously to 8. Once we remove the estrogens, we are left with 3 chemicals. At the end of the day, what really matters is how many chemicals is someone willing to follow-up on properly? If they have the resources to go after 17 chemicals, and to do it properly, then the lower threshold at 0.2$\\mu$g/L makes sense. If they do not have the resources to do all 17 chemicals, then perhaps using a threshold of 1.0$\\mu$g/L is far more reasonable."
   ]
  },
  {
   "cell_type": "markdown",
   "id": "15b8343d-61ba-4f7f-a8ac-a9605092ffb8",
   "metadata": {},
   "source": [
    "## Challenge 4: Deeper Dive -- Progesterone\n",
    "\n",
    "I will take the same tact as I did for estrogen -- get the DMSO distribution, analyze the data for the chemicals identified by Cardona and Rudel (2021) and see what's going on. \n",
    "\n",
    "I'll start off with the DMSO distribution.\n",
    "\n",
    "### DMSO: Build the Dataset"
   ]
  },
  {
   "cell_type": "code",
   "execution_count": 39,
   "id": "9f87cbc4-d0d0-4010-8a7c-246ee4180cd8",
   "metadata": {},
   "outputs": [
    {
     "data": {
      "text/html": [],
      "text/latex": [],
      "text/markdown": [],
      "text/plain": [
       "integer(0)"
      ]
     },
     "metadata": {},
     "output_type": "display_data"
    },
    {
     "data": {
      "image/png": "[encoded data removed]",
      "text/plain": [
       "Plot with title \"Histogram of dmso_progesterone_summary$mean\""
      ]
     },
     "metadata": {
      "image/png": {
       "height": 420,
       "width": 420
      }
     },
     "output_type": "display_data"
    }
   ],
   "source": [
    "dmso_progesterone <- as_tibble(read.table(file = \"./invitrodb_queries/progesterone_up_queries_and_data/dmso_progesterone_levels.txt\", sep=\"\\t\", header=TRUE))\n",
    "dmso_progesterone_summary <- dmso_progesterone %>% group_by(apid) %>% summarize(mean=mean(rval), se=sd(rval)/sqrt(n()))\n",
    "dmso_progesterone_summary[which(is.na(dmso_progesterone_summary$se)), 3] <- mean(dmso_progesterone_summary$se, na.rm=TRUE)\n",
    "dmso_progesterone_summary[which(dmso_progesterone_summary$se == 0), 3] <- mean(dmso_progesterone_summary$se, na.rm=TRUE)\n",
    "which(is.na(dmso_progesterone_summary$se))\n",
    "hist(dmso_progesterone_summary$mean)"
   ]
  },
  {
   "cell_type": "code",
   "execution_count": 40,
   "id": "27afb041-28c3-4633-a45e-b3ae67e7c0f7",
   "metadata": {},
   "outputs": [
    {
     "data": {
      "image/png": "[encoded data removed]",
      "text/plain": [
       "Plot with title \"Histogram of dmso_progesterone$rval\""
      ]
     },
     "metadata": {
      "image/png": {
       "height": 420,
       "width": 420
      }
     },
     "output_type": "display_data"
    }
   ],
   "source": [
    "hist(dmso_progesterone$rval)"
   ]
  },
  {
   "cell_type": "code",
   "execution_count": 41,
   "id": "14d29507-94d7-416a-80a4-492dc19bba3c",
   "metadata": {},
   "outputs": [
    {
     "data": {
      "text/html": [
       "<strong>png:</strong> 2"
      ],
      "text/latex": [
       "\\textbf{png:} 2"
      ],
      "text/markdown": [
       "**png:** 2"
      ],
      "text/plain": [
       "png \n",
       "  2 "
      ]
     },
     "metadata": {},
     "output_type": "display_data"
    }
   ],
   "source": [
    "png(\"dmso_progesterone_rval_bimodal.png\", width=5000, height=5000, res=600)\n",
    "hist(dmso_progesterone$rval)\n",
    "dev.off()"
   ]
  },
  {
   "cell_type": "markdown",
   "id": "fbc506ff-442d-48f9-a283-c31c11ad5ea1",
   "metadata": {},
   "source": [
    "There is something definitely wrong with the DMSO data for progesterone. It appears to be a bimodal distribution, which is quite unexpected for an in vitro assay. The first histogram shows the distribution of the mean values. The second histogram shows the distribution of the raw values. This begs the question, \"what is causing this?\"\n",
    "\n",
    "My first hypothesis is that this is a batch effect that will show up as clustering by date the assay was run. So let's examine that first."
   ]
  },
  {
   "cell_type": "code",
   "execution_count": 42,
   "id": "c0dd5cac-dd76-44e8-a60f-9c584bdbbb07",
   "metadata": {},
   "outputs": [
    {
     "data": {
      "text/html": [
       "<table class=\"dataframe\">\n",
       "<caption>A matrix: 6 × 3 of type chr</caption>\n",
       "<thead>\n",
       "\t<tr><th></th><th scope=col>date</th><th scope=col>label</th><th scope=col>plate_number</th></tr>\n",
       "</thead>\n",
       "<tbody>\n",
       "\t<tr><th scope=row>c..09Apr2014....Plate....24..</th><td>09Apr2014</td><td>Plate</td><td>24</td></tr>\n",
       "\t<tr><th scope=row>c..03Sep2014....Plate....19..</th><td>03Sep2014</td><td>Plate</td><td>19</td></tr>\n",
       "\t<tr><th scope=row>c..09Apr2014....Plate....31..</th><td>09Apr2014</td><td>Plate</td><td>31</td></tr>\n",
       "\t<tr><th scope=row>c..20130320....Plate....1..</th><td>20130320 </td><td>Plate</td><td>1 </td></tr>\n",
       "\t<tr><th scope=row>c..09Apr2014....Plate....8..</th><td>09Apr2014</td><td>Plate</td><td>8 </td></tr>\n",
       "\t<tr><th scope=row>c..02Apr2014....Plate....1..</th><td>02Apr2014</td><td>Plate</td><td>1 </td></tr>\n",
       "</tbody>\n",
       "</table>\n"
      ],
      "text/latex": [
       "A matrix: 6 × 3 of type chr\n",
       "\\begin{tabular}{r|lll}\n",
       "  & date & label & plate\\_number\\\\\n",
       "\\hline\n",
       "\tc..09Apr2014....Plate....24.. & 09Apr2014 & Plate & 24\\\\\n",
       "\tc..03Sep2014....Plate....19.. & 03Sep2014 & Plate & 19\\\\\n",
       "\tc..09Apr2014....Plate....31.. & 09Apr2014 & Plate & 31\\\\\n",
       "\tc..20130320....Plate....1.. & 20130320  & Plate & 1 \\\\\n",
       "\tc..09Apr2014....Plate....8.. & 09Apr2014 & Plate & 8 \\\\\n",
       "\tc..02Apr2014....Plate....1.. & 02Apr2014 & Plate & 1 \\\\\n",
       "\\end{tabular}\n"
      ],
      "text/markdown": [
       "\n",
       "A matrix: 6 × 3 of type chr\n",
       "\n",
       "| <!--/--> | date | label | plate_number |\n",
       "|---|---|---|---|\n",
       "| c..09Apr2014....Plate....24.. | 09Apr2014 | Plate | 24 |\n",
       "| c..03Sep2014....Plate....19.. | 03Sep2014 | Plate | 19 |\n",
       "| c..09Apr2014....Plate....31.. | 09Apr2014 | Plate | 31 |\n",
       "| c..20130320....Plate....1.. | 20130320  | Plate | 1  |\n",
       "| c..09Apr2014....Plate....8.. | 09Apr2014 | Plate | 8  |\n",
       "| c..02Apr2014....Plate....1.. | 02Apr2014 | Plate | 1  |\n",
       "\n"
      ],
      "text/plain": [
       "                              date      label plate_number\n",
       "c..09Apr2014....Plate....24.. 09Apr2014 Plate 24          \n",
       "c..03Sep2014....Plate....19.. 03Sep2014 Plate 19          \n",
       "c..09Apr2014....Plate....31.. 09Apr2014 Plate 31          \n",
       "c..20130320....Plate....1..   20130320  Plate 1           \n",
       "c..09Apr2014....Plate....8..  09Apr2014 Plate 8           \n",
       "c..02Apr2014....Plate....1..  02Apr2014 Plate 1           "
      ]
     },
     "metadata": {},
     "output_type": "display_data"
    },
    {
     "data": {
      "text/html": [
       "<table class=\"dataframe\">\n",
       "<caption>A data.frame: 6 × 11</caption>\n",
       "<thead>\n",
       "\t<tr><th></th><th scope=col>spid</th><th scope=col>apid</th><th scope=col>rowi</th><th scope=col>coli</th><th scope=col>wllt</th><th scope=col>wllq</th><th scope=col>conc</th><th scope=col>rval</th><th scope=col>date</th><th scope=col>label</th><th scope=col>plate_number</th></tr>\n",
       "\t<tr><th></th><th scope=col>&lt;chr&gt;</th><th scope=col>&lt;chr&gt;</th><th scope=col>&lt;int&gt;</th><th scope=col>&lt;int&gt;</th><th scope=col>&lt;chr&gt;</th><th scope=col>&lt;int&gt;</th><th scope=col>&lt;int&gt;</th><th scope=col>&lt;dbl&gt;</th><th scope=col>&lt;chr&gt;</th><th scope=col>&lt;chr&gt;</th><th scope=col>&lt;chr&gt;</th></tr>\n",
       "</thead>\n",
       "<tbody>\n",
       "\t<tr><th scope=row>c..09Apr2014....Plate....24..</th><td>DMSO</td><td>09Apr2014.Plate.24</td><td>6</td><td>3</td><td>n</td><td>1</td><td>0</td><td>0.3200000</td><td>09Apr2014</td><td>Plate</td><td>24</td></tr>\n",
       "\t<tr><th scope=row>c..03Sep2014....Plate....19..</th><td>DMSO</td><td>03Sep2014.Plate.19</td><td>6</td><td>3</td><td>n</td><td>1</td><td>0</td><td>0.2500000</td><td>03Sep2014</td><td>Plate</td><td>19</td></tr>\n",
       "\t<tr><th scope=row>c..09Apr2014....Plate....31..</th><td>DMSO</td><td>09Apr2014.Plate.31</td><td>6</td><td>3</td><td>n</td><td>1</td><td>0</td><td>0.2900000</td><td>09Apr2014</td><td>Plate</td><td>31</td></tr>\n",
       "\t<tr><th scope=row>c..20130320....Plate....1..</th><td>DMSO</td><td>20130320.Plate.1  </td><td>2</td><td>3</td><td>n</td><td>1</td><td>0</td><td>0.1414214</td><td>20130320 </td><td>Plate</td><td>1 </td></tr>\n",
       "\t<tr><th scope=row>c..09Apr2014....Plate....8..</th><td>DMSO</td><td>09Apr2014.Plate.8 </td><td>6</td><td>3</td><td>n</td><td>1</td><td>0</td><td>0.2700000</td><td>09Apr2014</td><td>Plate</td><td>8 </td></tr>\n",
       "\t<tr><th scope=row>c..02Apr2014....Plate....1..</th><td>DMSO</td><td>02Apr2014.Plate.1 </td><td>6</td><td>2</td><td>n</td><td>1</td><td>0</td><td>0.3300000</td><td>02Apr2014</td><td>Plate</td><td>1 </td></tr>\n",
       "</tbody>\n",
       "</table>\n"
      ],
      "text/latex": [
       "A data.frame: 6 × 11\n",
       "\\begin{tabular}{r|lllllllllll}\n",
       "  & spid & apid & rowi & coli & wllt & wllq & conc & rval & date & label & plate\\_number\\\\\n",
       "  & <chr> & <chr> & <int> & <int> & <chr> & <int> & <int> & <dbl> & <chr> & <chr> & <chr>\\\\\n",
       "\\hline\n",
       "\tc..09Apr2014....Plate....24.. & DMSO & 09Apr2014.Plate.24 & 6 & 3 & n & 1 & 0 & 0.3200000 & 09Apr2014 & Plate & 24\\\\\n",
       "\tc..03Sep2014....Plate....19.. & DMSO & 03Sep2014.Plate.19 & 6 & 3 & n & 1 & 0 & 0.2500000 & 03Sep2014 & Plate & 19\\\\\n",
       "\tc..09Apr2014....Plate....31.. & DMSO & 09Apr2014.Plate.31 & 6 & 3 & n & 1 & 0 & 0.2900000 & 09Apr2014 & Plate & 31\\\\\n",
       "\tc..20130320....Plate....1.. & DMSO & 20130320.Plate.1   & 2 & 3 & n & 1 & 0 & 0.1414214 & 20130320  & Plate & 1 \\\\\n",
       "\tc..09Apr2014....Plate....8.. & DMSO & 09Apr2014.Plate.8  & 6 & 3 & n & 1 & 0 & 0.2700000 & 09Apr2014 & Plate & 8 \\\\\n",
       "\tc..02Apr2014....Plate....1.. & DMSO & 02Apr2014.Plate.1  & 6 & 2 & n & 1 & 0 & 0.3300000 & 02Apr2014 & Plate & 1 \\\\\n",
       "\\end{tabular}\n"
      ],
      "text/markdown": [
       "\n",
       "A data.frame: 6 × 11\n",
       "\n",
       "| <!--/--> | spid &lt;chr&gt; | apid &lt;chr&gt; | rowi &lt;int&gt; | coli &lt;int&gt; | wllt &lt;chr&gt; | wllq &lt;int&gt; | conc &lt;int&gt; | rval &lt;dbl&gt; | date &lt;chr&gt; | label &lt;chr&gt; | plate_number &lt;chr&gt; |\n",
       "|---|---|---|---|---|---|---|---|---|---|---|---|\n",
       "| c..09Apr2014....Plate....24.. | DMSO | 09Apr2014.Plate.24 | 6 | 3 | n | 1 | 0 | 0.3200000 | 09Apr2014 | Plate | 24 |\n",
       "| c..03Sep2014....Plate....19.. | DMSO | 03Sep2014.Plate.19 | 6 | 3 | n | 1 | 0 | 0.2500000 | 03Sep2014 | Plate | 19 |\n",
       "| c..09Apr2014....Plate....31.. | DMSO | 09Apr2014.Plate.31 | 6 | 3 | n | 1 | 0 | 0.2900000 | 09Apr2014 | Plate | 31 |\n",
       "| c..20130320....Plate....1.. | DMSO | 20130320.Plate.1   | 2 | 3 | n | 1 | 0 | 0.1414214 | 20130320  | Plate | 1  |\n",
       "| c..09Apr2014....Plate....8.. | DMSO | 09Apr2014.Plate.8  | 6 | 3 | n | 1 | 0 | 0.2700000 | 09Apr2014 | Plate | 8  |\n",
       "| c..02Apr2014....Plate....1.. | DMSO | 02Apr2014.Plate.1  | 6 | 2 | n | 1 | 0 | 0.3300000 | 02Apr2014 | Plate | 1  |\n",
       "\n"
      ],
      "text/plain": [
       "                              spid apid               rowi coli wllt wllq conc\n",
       "c..09Apr2014....Plate....24.. DMSO 09Apr2014.Plate.24 6    3    n    1    0   \n",
       "c..03Sep2014....Plate....19.. DMSO 03Sep2014.Plate.19 6    3    n    1    0   \n",
       "c..09Apr2014....Plate....31.. DMSO 09Apr2014.Plate.31 6    3    n    1    0   \n",
       "c..20130320....Plate....1..   DMSO 20130320.Plate.1   2    3    n    1    0   \n",
       "c..09Apr2014....Plate....8..  DMSO 09Apr2014.Plate.8  6    3    n    1    0   \n",
       "c..02Apr2014....Plate....1..  DMSO 02Apr2014.Plate.1  6    2    n    1    0   \n",
       "                              rval      date      label plate_number\n",
       "c..09Apr2014....Plate....24.. 0.3200000 09Apr2014 Plate 24          \n",
       "c..03Sep2014....Plate....19.. 0.2500000 03Sep2014 Plate 19          \n",
       "c..09Apr2014....Plate....31.. 0.2900000 09Apr2014 Plate 31          \n",
       "c..20130320....Plate....1..   0.1414214 20130320  Plate 1           \n",
       "c..09Apr2014....Plate....8..  0.2700000 09Apr2014 Plate 8           \n",
       "c..02Apr2014....Plate....1..  0.3300000 02Apr2014 Plate 1           "
      ]
     },
     "metadata": {},
     "output_type": "display_data"
    }
   ],
   "source": [
    "plate_info_dmso <- t(as.data.frame(str_split(dmso_progesterone$apid, \"\\\\.\")))\n",
    "colnames(plate_info_dmso) <- c(\"date\", \"label\", \"plate_number\")\n",
    "head(plate_info_dmso)\n",
    "\n",
    "dmso_progesterone_plate_info <- data.frame(dmso_progesterone, plate_info_dmso)\n",
    "head(dmso_progesterone_plate_info)\n",
    "\n",
    "# head(as.Date(dmso_progesterone_plate_info$date, \"%d%b%Y\"))\n",
    "\n"
   ]
  },
  {
   "cell_type": "code",
   "execution_count": 43,
   "id": "0c3437f9-3bb6-434d-b3b5-6072955d8e05",
   "metadata": {},
   "outputs": [
    {
     "data": {
      "text/html": [
       "<table class=\"dataframe\">\n",
       "<caption>A data.frame: 6 × 12</caption>\n",
       "<thead>\n",
       "\t<tr><th></th><th scope=col>spid</th><th scope=col>apid</th><th scope=col>rowi</th><th scope=col>coli</th><th scope=col>wllt</th><th scope=col>wllq</th><th scope=col>conc</th><th scope=col>rval</th><th scope=col>date</th><th scope=col>label</th><th scope=col>plate_number</th><th scope=col>run_dates</th></tr>\n",
       "\t<tr><th></th><th scope=col>&lt;chr&gt;</th><th scope=col>&lt;chr&gt;</th><th scope=col>&lt;int&gt;</th><th scope=col>&lt;int&gt;</th><th scope=col>&lt;chr&gt;</th><th scope=col>&lt;int&gt;</th><th scope=col>&lt;int&gt;</th><th scope=col>&lt;dbl&gt;</th><th scope=col>&lt;chr&gt;</th><th scope=col>&lt;chr&gt;</th><th scope=col>&lt;chr&gt;</th><th scope=col>&lt;dbl&gt;</th></tr>\n",
       "</thead>\n",
       "<tbody>\n",
       "\t<tr><th scope=row>c..09Apr2014....Plate....24..</th><td>DMSO</td><td>09Apr2014.Plate.24</td><td>6</td><td>3</td><td>n</td><td>1</td><td>0</td><td>0.3200000</td><td>09Apr2014</td><td>Plate</td><td>24</td><td>18361</td></tr>\n",
       "\t<tr><th scope=row>c..03Sep2014....Plate....19..</th><td>DMSO</td><td>03Sep2014.Plate.19</td><td>6</td><td>3</td><td>n</td><td>1</td><td>0</td><td>0.2500000</td><td>03Sep2014</td><td>Plate</td><td>19</td><td>18508</td></tr>\n",
       "\t<tr><th scope=row>c..09Apr2014....Plate....31..</th><td>DMSO</td><td>09Apr2014.Plate.31</td><td>6</td><td>3</td><td>n</td><td>1</td><td>0</td><td>0.2900000</td><td>09Apr2014</td><td>Plate</td><td>31</td><td>18361</td></tr>\n",
       "\t<tr><th scope=row>c..20130320....Plate....1..</th><td>DMSO</td><td>20130320.Plate.1  </td><td>2</td><td>3</td><td>n</td><td>1</td><td>0</td><td>0.1414214</td><td>20130320 </td><td>Plate</td><td>1 </td><td>15784</td></tr>\n",
       "\t<tr><th scope=row>c..09Apr2014....Plate....8..</th><td>DMSO</td><td>09Apr2014.Plate.8 </td><td>6</td><td>3</td><td>n</td><td>1</td><td>0</td><td>0.2700000</td><td>09Apr2014</td><td>Plate</td><td>8 </td><td>18361</td></tr>\n",
       "\t<tr><th scope=row>c..02Apr2014....Plate....1..</th><td>DMSO</td><td>02Apr2014.Plate.1 </td><td>6</td><td>2</td><td>n</td><td>1</td><td>0</td><td>0.3300000</td><td>02Apr2014</td><td>Plate</td><td>1 </td><td>18354</td></tr>\n",
       "</tbody>\n",
       "</table>\n"
      ],
      "text/latex": [
       "A data.frame: 6 × 12\n",
       "\\begin{tabular}{r|llllllllllll}\n",
       "  & spid & apid & rowi & coli & wllt & wllq & conc & rval & date & label & plate\\_number & run\\_dates\\\\\n",
       "  & <chr> & <chr> & <int> & <int> & <chr> & <int> & <int> & <dbl> & <chr> & <chr> & <chr> & <dbl>\\\\\n",
       "\\hline\n",
       "\tc..09Apr2014....Plate....24.. & DMSO & 09Apr2014.Plate.24 & 6 & 3 & n & 1 & 0 & 0.3200000 & 09Apr2014 & Plate & 24 & 18361\\\\\n",
       "\tc..03Sep2014....Plate....19.. & DMSO & 03Sep2014.Plate.19 & 6 & 3 & n & 1 & 0 & 0.2500000 & 03Sep2014 & Plate & 19 & 18508\\\\\n",
       "\tc..09Apr2014....Plate....31.. & DMSO & 09Apr2014.Plate.31 & 6 & 3 & n & 1 & 0 & 0.2900000 & 09Apr2014 & Plate & 31 & 18361\\\\\n",
       "\tc..20130320....Plate....1.. & DMSO & 20130320.Plate.1   & 2 & 3 & n & 1 & 0 & 0.1414214 & 20130320  & Plate & 1  & 15784\\\\\n",
       "\tc..09Apr2014....Plate....8.. & DMSO & 09Apr2014.Plate.8  & 6 & 3 & n & 1 & 0 & 0.2700000 & 09Apr2014 & Plate & 8  & 18361\\\\\n",
       "\tc..02Apr2014....Plate....1.. & DMSO & 02Apr2014.Plate.1  & 6 & 2 & n & 1 & 0 & 0.3300000 & 02Apr2014 & Plate & 1  & 18354\\\\\n",
       "\\end{tabular}\n"
      ],
      "text/markdown": [
       "\n",
       "A data.frame: 6 × 12\n",
       "\n",
       "| <!--/--> | spid &lt;chr&gt; | apid &lt;chr&gt; | rowi &lt;int&gt; | coli &lt;int&gt; | wllt &lt;chr&gt; | wllq &lt;int&gt; | conc &lt;int&gt; | rval &lt;dbl&gt; | date &lt;chr&gt; | label &lt;chr&gt; | plate_number &lt;chr&gt; | run_dates &lt;dbl&gt; |\n",
       "|---|---|---|---|---|---|---|---|---|---|---|---|---|\n",
       "| c..09Apr2014....Plate....24.. | DMSO | 09Apr2014.Plate.24 | 6 | 3 | n | 1 | 0 | 0.3200000 | 09Apr2014 | Plate | 24 | 18361 |\n",
       "| c..03Sep2014....Plate....19.. | DMSO | 03Sep2014.Plate.19 | 6 | 3 | n | 1 | 0 | 0.2500000 | 03Sep2014 | Plate | 19 | 18508 |\n",
       "| c..09Apr2014....Plate....31.. | DMSO | 09Apr2014.Plate.31 | 6 | 3 | n | 1 | 0 | 0.2900000 | 09Apr2014 | Plate | 31 | 18361 |\n",
       "| c..20130320....Plate....1.. | DMSO | 20130320.Plate.1   | 2 | 3 | n | 1 | 0 | 0.1414214 | 20130320  | Plate | 1  | 15784 |\n",
       "| c..09Apr2014....Plate....8.. | DMSO | 09Apr2014.Plate.8  | 6 | 3 | n | 1 | 0 | 0.2700000 | 09Apr2014 | Plate | 8  | 18361 |\n",
       "| c..02Apr2014....Plate....1.. | DMSO | 02Apr2014.Plate.1  | 6 | 2 | n | 1 | 0 | 0.3300000 | 02Apr2014 | Plate | 1  | 18354 |\n",
       "\n"
      ],
      "text/plain": [
       "                              spid apid               rowi coli wllt wllq conc\n",
       "c..09Apr2014....Plate....24.. DMSO 09Apr2014.Plate.24 6    3    n    1    0   \n",
       "c..03Sep2014....Plate....19.. DMSO 03Sep2014.Plate.19 6    3    n    1    0   \n",
       "c..09Apr2014....Plate....31.. DMSO 09Apr2014.Plate.31 6    3    n    1    0   \n",
       "c..20130320....Plate....1..   DMSO 20130320.Plate.1   2    3    n    1    0   \n",
       "c..09Apr2014....Plate....8..  DMSO 09Apr2014.Plate.8  6    3    n    1    0   \n",
       "c..02Apr2014....Plate....1..  DMSO 02Apr2014.Plate.1  6    2    n    1    0   \n",
       "                              rval      date      label plate_number run_dates\n",
       "c..09Apr2014....Plate....24.. 0.3200000 09Apr2014 Plate 24           18361    \n",
       "c..03Sep2014....Plate....19.. 0.2500000 03Sep2014 Plate 19           18508    \n",
       "c..09Apr2014....Plate....31.. 0.2900000 09Apr2014 Plate 31           18361    \n",
       "c..20130320....Plate....1..   0.1414214 20130320  Plate 1            15784    \n",
       "c..09Apr2014....Plate....8..  0.2700000 09Apr2014 Plate 8            18361    \n",
       "c..02Apr2014....Plate....1..  0.3300000 02Apr2014 Plate 1            18354    "
      ]
     },
     "metadata": {},
     "output_type": "display_data"
    }
   ],
   "source": [
    "date_fixer <- function(x){\n",
    "    date <- as.Date(x, \"%d%b%y\")\n",
    "#     print(paste0(\"original date: \", x))\n",
    "    if(is.na(date)){\n",
    "#         print(paste0(\"updated date: \", x))\n",
    "        y <- paste0(substr(x,5,6),\"/\",substr(x,7,8),\"/\", substr(x,1,4))\n",
    "#         print(paste0(\"y: \", y))\n",
    "        date <- as.Date(y, \"%m/%d/%Y\")\n",
    "#         print(paste0(\"updated date: \", date))\n",
    "        return(date)\n",
    "    }\n",
    "    else{\n",
    "#         print(paste0(\"updated date: \", date))\n",
    "        return(date)        \n",
    "    }\n",
    "    \n",
    "}\n",
    "\n",
    "progesterone_run_dates <- sapply(dmso_progesterone_plate_info$date, date_fixer)\n",
    "dmso_progesterone_plate_info$run_dates <- progesterone_run_dates\n",
    "head(dmso_progesterone_plate_info)\n",
    "\n",
    "# date_fixer(\"09Apr14\")\n",
    "# as.Date(\"02Apr14\", \"%d%b%y\")\n",
    "\n",
    "# date_fixer(\"20130320\")"
   ]
  },
  {
   "cell_type": "markdown",
   "id": "884a0c26-5b44-487e-8883-883aaf44ae4f",
   "metadata": {},
   "source": [
    "Keep in mind that R is storing the dates relative to January 1, 1970 -- so that needs to be set as the origin in the as.Date function. \n",
    "\n",
    "So now I'll do a simple correlation between run date and the raw value:"
   ]
  },
  {
   "cell_type": "code",
   "execution_count": 44,
   "id": "2e9799a4-9d67-4103-a341-526c6256a36c",
   "metadata": {},
   "outputs": [
    {
     "data": {
      "image/png": "[encoded data removed]",
      "text/plain": [
       "plot without title"
      ]
     },
     "metadata": {
      "image/png": {
       "height": 420,
       "width": 420
      }
     },
     "output_type": "display_data"
    }
   ],
   "source": [
    "plot(dmso_progesterone_plate_info$run_dates, dmso_progesterone_plate_info$rval)"
   ]
  },
  {
   "cell_type": "code",
   "execution_count": 45,
   "id": "c49948ad-e014-40ef-8d8e-04ca704a832d",
   "metadata": {},
   "outputs": [
    {
     "data": {
      "text/html": [
       "<strong>png:</strong> 2"
      ],
      "text/latex": [
       "\\textbf{png:} 2"
      ],
      "text/markdown": [
       "**png:** 2"
      ],
      "text/plain": [
       "png \n",
       "  2 "
      ]
     },
     "metadata": {},
     "output_type": "display_data"
    }
   ],
   "source": [
    "png(\"dmso_progesterone_date_skew.png\", width=5000, height=5000, res=600)\n",
    "plot(dmso_progesterone_plate_info$run_dates, dmso_progesterone_plate_info$rval)\n",
    "dev.off()"
   ]
  },
  {
   "cell_type": "markdown",
   "id": "6c89f80c-9755-4c48-8fb8-a785fe1cc44b",
   "metadata": {},
   "source": [
    "What we see here is that there is a very large plate or date effect. The problem is that we cannot tell which is the truth and which is biased -- should the DMSO values be where the majority of the data are sitting, or should the DMSO values be at the higher level? We cannot tell. This poses a major quality issue for this data, and calls into question any results we might see if we pursue this analysis further. \n",
    "\n",
    "I'm going to move forward with the analysis for completeness; however, the take-home is simple: ***this data is simply of too low of quality to be trusted, even for screening purposes.***\n",
    "\n",
    "### 2. DMSO: Build the Hierarchical Model\n",
    "\n",
    "This is going to be a relatively straightforward hierarchical model. It's based on the Eight Schools example that's common when learning Stan. Basically, instead of schools, I have plates. And what we're trying to figure out is that mean DMSO effect on estrogen levels. And we'll be able to see what the plate effect is, too.\n",
    "\n",
    "The Stan code is in dmso.stan.\n",
    "\n",
    "### 3. DMSO: Prepare the data\n",
    "\n",
    "Put the information together into a list (that's how Stan prefers things).\n"
   ]
  },
  {
   "cell_type": "code",
   "execution_count": 46,
   "id": "6c462231-4547-488b-8c13-885f944b98b7",
   "metadata": {},
   "outputs": [],
   "source": [
    "dmso_data <- list(J = nrow(dmso_progesterone_summary),\n",
    "                  y = dmso_progesterone_summary$mean,\n",
    "                  sigma = dmso_progesterone_summary$se)"
   ]
  },
  {
   "cell_type": "markdown",
   "id": "f849ed0f-b006-4ff0-b0fd-9713d73b50d5",
   "metadata": {},
   "source": [
    "### 4. DMSO: Run the model"
   ]
  },
  {
   "cell_type": "code",
   "execution_count": 47,
   "id": "f85a5df6-1bd2-4cd4-bb70-8799628577c1",
   "metadata": {},
   "outputs": [],
   "source": [
    "# dmso_fit <- stan(\n",
    "#                file = \"dmso_ncp.stan\",\n",
    "#                data = dmso_data,\n",
    "#                chains = 3,\n",
    "#                warmup = 10000,\n",
    "#                iter = 15000,\n",
    "#                control = list(max_treedepth = 15))\n",
    "\n",
    "# dmso_mod_ncp <- stan_model(\"dmso_ncp.stan\")\n",
    "dmso_mod_cp <- stan_model(\"dmso.stan\")\n",
    "dmso_fit <- sampling(\n",
    "                dmso_mod_cp,\n",
    "                data = dmso_data,\n",
    "                chains = 3,\n",
    "                warmup = 10000,\n",
    "                iter = 15000,\n",
    "                control = list(max_treedepth = 15))"
   ]
  },
  {
   "cell_type": "markdown",
   "id": "0c4ba4bd-625e-4aec-9f92-743ba7902864",
   "metadata": {},
   "source": [
    "I ran both the ncp and the cp (ncp is non-centered model and cp is the centered model; they're alternative parameterizations of the same model). The NCP model ended up giving a ton of ESS issues, so I decided to go with CP. What this means is that CP ended up yielding a better exploration of the posterior space."
   ]
  },
  {
   "cell_type": "code",
   "execution_count": 48,
   "id": "59296512-ad60-40ef-ade0-a6919b5dcbb8",
   "metadata": {},
   "outputs": [
    {
     "data": {
      "text/plain": [
       "Inference for Stan model: dmso.\n",
       "3 chains, each with iter=15000; warmup=10000; thin=1; \n",
       "post-warmup draws per chain=5000, total post-warmup draws=15000.\n",
       "\n",
       "            mean se_mean   sd  2.5%   25%   50%   75% 97.5% n_eff Rhat\n",
       "mu          0.50    0.00 0.02  0.45  0.48  0.50  0.51  0.54 30433    1\n",
       "tau         0.30    0.00 0.02  0.27  0.29  0.30  0.31  0.34 33952    1\n",
       "theta[1]    0.32    0.00 0.00  0.31  0.31  0.31  0.32  0.32 34070    1\n",
       "theta[2]    0.35    0.00 0.02  0.32  0.34  0.35  0.36  0.38 33034    1\n",
       "theta[3]    0.27    0.00 0.04  0.20  0.25  0.27  0.30  0.35 35500    1\n",
       "theta[4]    0.32    0.00 0.02  0.28  0.31  0.32  0.33  0.36 33968    1\n",
       "theta[5]    0.26    0.00 0.00  0.25  0.25  0.26  0.26  0.26 32486    1\n",
       "theta[6]    0.24    0.00 0.00  0.23  0.23  0.24  0.24  0.24 36107    1\n",
       "theta[7]    0.27    0.00 0.00  0.26  0.26  0.27  0.27  0.27 34233    1\n",
       "theta[8]    0.24    0.00 0.03  0.17  0.21  0.24  0.26  0.31 34841    1\n",
       "theta[9]    0.30    0.00 0.00  0.30  0.30  0.31  0.31  0.31 31954    1\n",
       "theta[10]   0.24    0.00 0.01  0.21  0.23  0.24  0.25  0.26 34847    1\n",
       "theta[11]   0.25    0.00 0.00  0.24  0.24  0.25  0.25  0.25 33909    1\n",
       "theta[12]   0.27    0.00 0.02  0.23  0.26  0.27  0.29  0.32 36533    1\n",
       "theta[13]   0.26    0.00 0.02  0.23  0.25  0.26  0.27  0.29 31937    1\n",
       "theta[14]   0.22    0.00 0.01  0.21  0.21  0.22  0.22  0.22 34759    1\n",
       "theta[15]   0.27    0.00 0.02  0.23  0.26  0.27  0.29  0.32 34878    1\n",
       "theta[16]   0.29    0.00 0.01  0.28  0.28  0.29  0.29  0.30 33823    1\n",
       "theta[17]   0.28    0.00 0.03  0.22  0.26  0.28  0.30  0.34 36950    1\n",
       "theta[18]   0.23    0.00 0.00  0.22  0.22  0.23  0.23  0.23 34540    1\n",
       "theta[19]   0.23    0.00 0.07  0.10  0.18  0.22  0.27  0.35 40003    1\n",
       "theta[20]   0.27    0.00 0.02  0.23  0.26  0.27  0.29  0.31 35449    1\n",
       "theta[21]   0.24    0.00 0.00  0.23  0.23  0.24  0.24  0.24 32009    1\n",
       "theta[22]   0.31    0.00 0.02  0.27  0.30  0.31  0.32  0.35 33515    1\n",
       "theta[23]   0.37    0.00 0.06  0.25  0.33  0.37  0.41  0.50 38205    1\n",
       "theta[24]   0.24    0.00 0.01  0.22  0.23  0.24  0.25  0.26 35127    1\n",
       "theta[25]   0.27    0.00 0.01  0.26  0.26  0.27  0.27  0.27 33897    1\n",
       "theta[26]   0.22    0.00 0.02  0.18  0.21  0.22  0.23  0.26 37757    1\n",
       "theta[27]   0.19    0.00 0.04  0.11  0.16  0.19  0.21  0.26 34325    1\n",
       "theta[28]   0.21    0.00 0.06  0.10  0.17  0.21  0.25  0.33 37689    1\n",
       "theta[29]   0.26    0.00 0.02  0.22  0.25  0.26  0.27  0.30 33890    1\n",
       "theta[30]   0.28    0.00 0.01  0.27  0.27  0.28  0.28  0.28 33133    1\n",
       "theta[31]   0.32    0.00 0.00  0.31  0.31  0.31  0.32  0.32 31932    1\n",
       "theta[32]   0.29    0.00 0.01  0.27  0.28  0.29  0.30  0.31 35126    1\n",
       "theta[33]   0.33    0.00 0.02  0.29  0.32  0.33  0.35  0.38 34843    1\n",
       "theta[34]   0.26    0.00 0.02  0.21  0.24  0.26  0.27  0.31 34242    1\n",
       "theta[35]   0.34    0.00 0.03  0.28  0.32  0.34  0.36  0.40 34791    1\n",
       "theta[36]   0.29    0.00 0.01  0.26  0.28  0.29  0.30  0.32 34115    1\n",
       "theta[37]   0.29    0.00 0.01  0.28  0.28  0.29  0.29  0.30 33244    1\n",
       "theta[38]   0.28    0.00 0.02  0.24  0.27  0.28  0.29  0.32 36713    1\n",
       "theta[39]   0.14    0.00 0.02  0.10  0.13  0.14  0.16  0.19 34670    1\n",
       "theta[40]   0.22    0.00 0.06  0.10  0.18  0.22  0.26  0.34 34636    1\n",
       "theta[41]   0.33    0.00 0.04  0.25  0.31  0.33  0.36  0.41 36262    1\n",
       "theta[42]   0.29    0.00 0.06  0.17  0.25  0.29  0.33  0.40 34120    1\n",
       "theta[43]   0.28    0.00 0.03  0.23  0.26  0.28  0.30  0.34 34529    1\n",
       "theta[44]   0.31    0.00 0.01  0.30  0.30  0.31  0.31  0.31 35585    1\n",
       "theta[45]   0.29    0.00 0.01  0.26  0.28  0.29  0.30  0.31 37790    1\n",
       "theta[46]   0.31    0.00 0.03  0.26  0.29  0.31  0.32  0.35 34349    1\n",
       "theta[47]   0.27    0.00 0.03  0.21  0.25  0.27  0.29  0.33 35394    1\n",
       "theta[48]   0.36    0.00 0.02  0.32  0.35  0.36  0.37  0.40 34552    1\n",
       "theta[49]   0.32    0.00 0.01  0.29  0.31  0.32  0.33  0.34 31931    1\n",
       "theta[50]   0.32    0.00 0.03  0.25  0.29  0.32  0.34  0.38 35466    1\n",
       "theta[51]   0.32    0.00 0.02  0.28  0.31  0.32  0.34  0.37 35530    1\n",
       "theta[52]   0.32    0.00 0.02  0.28  0.31  0.32  0.34  0.37 36182    1\n",
       "theta[53]   0.34    0.00 0.03  0.27  0.31  0.34  0.36  0.41 32807    1\n",
       "theta[54]   0.27    0.00 0.02  0.23  0.26  0.27  0.29  0.32 36517    1\n",
       "theta[55]   0.40    0.00 0.02  0.36  0.39  0.40  0.42  0.44 35630    1\n",
       "theta[56]   0.34    0.00 0.01  0.31  0.33  0.34  0.35  0.36 36384    1\n",
       "theta[57]   0.38    0.00 0.03  0.32  0.36  0.38  0.40  0.44 34480    1\n",
       "theta[58]   0.34    0.00 0.02  0.30  0.33  0.34  0.36  0.38 32344    1\n",
       "theta[59]   0.34    0.00 0.02  0.30  0.33  0.34  0.35  0.38 35235    1\n",
       "theta[60]   0.40    0.00 0.02  0.36  0.39  0.40  0.42  0.44 30942    1\n",
       "theta[61]   0.31    0.00 0.05  0.21  0.27  0.31  0.34  0.40 36682    1\n",
       "theta[62]   0.37    0.00 0.05  0.27  0.34  0.37  0.41  0.47 35561    1\n",
       "theta[63]   0.31    0.00 0.01  0.29  0.30  0.31  0.32  0.33 36532    1\n",
       "theta[64]   0.30    0.00 0.01  0.28  0.29  0.30  0.31  0.32 33222    1\n",
       "theta[65]   0.30    0.00 0.05  0.20  0.26  0.30  0.33  0.39 33562    1\n",
       "theta[66]   0.41    0.00 0.01  0.41  0.41  0.42  0.42  0.42 36274    1\n",
       "theta[67]   0.24    0.00 0.02  0.21  0.23  0.24  0.25  0.27 32338    1\n",
       "theta[68]   0.42    0.00 0.07  0.29  0.38  0.42  0.47  0.56 35596    1\n",
       "theta[69]   0.30    0.00 0.01  0.29  0.29  0.30  0.30  0.30 37606    1\n",
       "theta[70]   0.33    0.00 0.04  0.24  0.30  0.33  0.36  0.42 31443    1\n",
       "theta[71]   0.45    0.00 0.11  0.23  0.37  0.45  0.53  0.66 37594    1\n",
       "theta[72]   0.34    0.00 0.02  0.30  0.33  0.34  0.36  0.39 34180    1\n",
       "theta[73]   0.32    0.00 0.02  0.29  0.31  0.32  0.33  0.34 33647    1\n",
       "theta[74]   0.37    0.00 0.00  0.36  0.36  0.37  0.37  0.37 34050    1\n",
       "theta[75]   0.31    0.00 0.00  0.30  0.30  0.31  0.31  0.31 32256    1\n",
       "theta[76]   0.28    0.00 0.01  0.26  0.27  0.28  0.29  0.30 35501    1\n",
       "theta[77]   0.37    0.00 0.02  0.34  0.36  0.37  0.38  0.40 32444    1\n",
       "theta[78]   0.32    0.00 0.02  0.27  0.30  0.32  0.33  0.36 32087    1\n",
       "theta[79]   0.32    0.00 0.03  0.26  0.30  0.32  0.34  0.38 35591    1\n",
       "theta[80]   0.28    0.00 0.01  0.26  0.27  0.28  0.29  0.30 36814    1\n",
       "theta[81]   0.27    0.00 0.04  0.18  0.24  0.27  0.30  0.36 35030    1\n",
       "theta[82]   0.36    0.00 0.02  0.33  0.35  0.36  0.37  0.38 36996    1\n",
       "theta[83]   0.40    0.00 0.01  0.39  0.39  0.40  0.40  0.40 34628    1\n",
       "theta[84]   0.35    0.00 0.01  0.33  0.34  0.35  0.36  0.37 34430    1\n",
       "theta[85]   0.40    0.00 0.02  0.36  0.39  0.40  0.42  0.44 37283    1\n",
       "theta[86]   0.37    0.00 0.03  0.31  0.35  0.37  0.39  0.43 34617    1\n",
       "theta[87]   0.25    0.00 0.02  0.21  0.24  0.25  0.26  0.29 34038    1\n",
       "theta[88]   0.31    0.00 0.02  0.27  0.30  0.31  0.33  0.35 31774    1\n",
       "theta[89]   1.23    0.00 0.00  1.22  1.23  1.23  1.24  1.24 32286    1\n",
       "theta[90]   1.03    0.00 0.05  0.94  1.00  1.03  1.06  1.12 36144    1\n",
       "theta[91]   0.99    0.00 0.03  0.94  0.97  0.99  1.01  1.05 34706    1\n",
       "theta[92]   1.10    0.00 0.02  1.05  1.08  1.10  1.12  1.15 34822    1\n",
       "theta[93]   0.92    0.00 0.02  0.87  0.90  0.92  0.93  0.96 32526    1\n",
       "theta[94]   1.11    0.00 0.00  1.11  1.11  1.11  1.12  1.12 33276    1\n",
       "theta[95]   1.22    0.00 0.06  1.11  1.18  1.22  1.26  1.34 30213    1\n",
       "theta[96]   1.17    0.00 0.01  1.14  1.16  1.17  1.18  1.20 36070    1\n",
       "theta[97]   1.12    0.00 0.01  1.10  1.11  1.12  1.13  1.14 35128    1\n",
       "theta[98]   1.11    0.00 0.04  1.04  1.08  1.11  1.13  1.18 34468    1\n",
       "theta[99]   1.08    0.00 0.02  1.04  1.06  1.08  1.09  1.12 30236    1\n",
       "theta[100]  1.14    0.00 0.01  1.13  1.14  1.14  1.15  1.15 33252    1\n",
       "theta[101]  0.95    0.00 0.04  0.87  0.93  0.95  0.98  1.03 37425    1\n",
       "theta[102]  0.95    0.00 0.05  0.84  0.91  0.95  0.99  1.06 35352    1\n",
       "theta[103]  1.02    0.00 0.03  0.97  1.00  1.02  1.04  1.07 36101    1\n",
       "theta[104]  0.78    0.00 0.04  0.71  0.76  0.78  0.81  0.86 34327    1\n",
       "theta[105]  1.03    0.00 0.02  0.98  1.01  1.03  1.04  1.07 34140    1\n",
       "theta[106]  0.99    0.00 0.02  0.95  0.97  0.99  1.00  1.03 36456    1\n",
       "theta[107]  1.02    0.00 0.01  0.99  1.01  1.02  1.03  1.05 33066    1\n",
       "theta[108]  0.89    0.00 0.02  0.86  0.88  0.89  0.90  0.92 33094    1\n",
       "theta[109]  1.00    0.00 0.04  0.93  0.97  1.00  1.02  1.07 31522    1\n",
       "theta[110]  1.12    0.00 0.03  1.05  1.09  1.12  1.14  1.18 34758    1\n",
       "theta[111]  0.87    0.00 0.06  0.75  0.83  0.87  0.90  0.98 31785    1\n",
       "theta[112]  0.91    0.00 0.09  0.74  0.85  0.91  0.97  1.09 36895    1\n",
       "theta[113]  0.94    0.00 0.00  0.94  0.94  0.94  0.95  0.95 32977    1\n",
       "theta[114]  0.86    0.00 0.03  0.79  0.84  0.86  0.88  0.93 33327    1\n",
       "theta[115]  0.85    0.00 0.10  0.67  0.79  0.85  0.92  1.04 36471    1\n",
       "theta[116]  0.85    0.00 0.02  0.80  0.83  0.85  0.86  0.89 33522    1\n",
       "theta[117]  0.98    0.00 0.01  0.95  0.97  0.98  0.99  1.01 30942    1\n",
       "theta[118]  0.95    0.00 0.03  0.88  0.93  0.95  0.97  1.02 37043    1\n",
       "theta[119]  1.01    0.00 0.03  0.96  0.99  1.01  1.03  1.07 37254    1\n",
       "theta[120]  0.92    0.00 0.01  0.92  0.92  0.92  0.93  0.93 35318    1\n",
       "theta[121]  1.08    0.00 0.01  1.05  1.07  1.08  1.09  1.11 34122    1\n",
       "theta[122]  0.80    0.00 0.02  0.77  0.79  0.80  0.81  0.83 36346    1\n",
       "theta[123]  0.89    0.00 0.03  0.84  0.87  0.89  0.91  0.94 35784    1\n",
       "theta[124]  0.92    0.00 0.09  0.75  0.86  0.92  0.98  1.09 33665    1\n",
       "theta[125]  0.95    0.00 0.08  0.79  0.89  0.95  1.01  1.11 34345    1\n",
       "theta[126]  1.08    0.00 0.01  1.05  1.07  1.08  1.09  1.11 34313    1\n",
       "theta[127]  1.11    0.00 0.11  0.91  1.04  1.12  1.19  1.32 33070    1\n",
       "theta[128]  1.07    0.00 0.04  0.99  1.04  1.07  1.10  1.15 38332    1\n",
       "theta[129]  1.03    0.00 0.02  0.98  1.01  1.03  1.05  1.08 34462    1\n",
       "theta[130]  0.19    0.00 0.03  0.13  0.17  0.19  0.21  0.25 33753    1\n",
       "theta[131]  0.42    0.00 0.01  0.40  0.41  0.42  0.43  0.45 34147    1\n",
       "theta[132]  0.36    0.00 0.02  0.32  0.35  0.36  0.38  0.41 35930    1\n",
       "theta[133]  0.34    0.00 0.01  0.31  0.33  0.34  0.35  0.37 36366    1\n",
       "theta[134]  0.35    0.00 0.03  0.30  0.34  0.35  0.37  0.41 37849    1\n",
       "theta[135]  0.33    0.00 0.01  0.30  0.32  0.33  0.33  0.35 35033    1\n",
       "theta[136]  0.34    0.00 0.02  0.30  0.33  0.34  0.35  0.38 34696    1\n",
       "theta[137]  0.42    0.00 0.02  0.38  0.40  0.42  0.43  0.45 35794    1\n",
       "theta[138]  0.48    0.00 0.02  0.44  0.46  0.48  0.49  0.51 32513    1\n",
       "theta[139]  0.47    0.00 0.01  0.45  0.46  0.47  0.47  0.49 37224    1\n",
       "theta[140]  0.44    0.00 0.03  0.39  0.42  0.44  0.46  0.50 34192    1\n",
       "theta[141]  0.46    0.00 0.01  0.44  0.45  0.46  0.46  0.47 34296    1\n",
       "theta[142]  0.43    0.00 0.02  0.40  0.42  0.43  0.44  0.46 33089    1\n",
       "theta[143]  0.40    0.00 0.01  0.38  0.39  0.40  0.40  0.41 39911    1\n",
       "theta[144]  0.43    0.00 0.01  0.41  0.43  0.43  0.44  0.45 34070    1\n",
       "theta[145]  0.37    0.00 0.03  0.31  0.35  0.37  0.40  0.44 33587    1\n",
       "theta[146]  0.33    0.00 0.01  0.31  0.32  0.33  0.33  0.34 32256    1\n",
       "theta[147]  0.35    0.00 0.02  0.32  0.34  0.35  0.36  0.38 39225    1\n",
       "theta[148]  0.33    0.00 0.02  0.29  0.31  0.33  0.34  0.37 37571    1\n",
       "theta[149]  0.31    0.00 0.00  0.30  0.31  0.31  0.31  0.32 30062    1\n",
       "theta[150]  0.22    0.00 0.03  0.16  0.20  0.22  0.24  0.28 36574    1\n",
       "theta[151]  0.19    0.00 0.01  0.17  0.18  0.19  0.20  0.22 35568    1\n",
       "theta[152]  0.35    0.00 0.02  0.31  0.33  0.35  0.36  0.38 32509    1\n",
       "theta[153]  0.31    0.00 0.02  0.27  0.29  0.31  0.32  0.35 35716    1\n",
       "theta[154]  0.47    0.00 0.00  0.47  0.47  0.47  0.48  0.48 35607    1\n",
       "theta[155]  0.46    0.00 0.01  0.44  0.45  0.46  0.47  0.48 35215    1\n",
       "theta[156]  0.47    0.00 0.02  0.42  0.45  0.47  0.48  0.51 34096    1\n",
       "theta[157]  0.48    0.00 0.01  0.46  0.47  0.48  0.49  0.50 34323    1\n",
       "theta[158]  0.52    0.00 0.01  0.50  0.51  0.52  0.53  0.54 36471    1\n",
       "theta[159]  0.53    0.00 0.02  0.48  0.51  0.53  0.55  0.57 37699    1\n",
       "theta[160]  0.49    0.00 0.02  0.46  0.47  0.49  0.50  0.51 36849    1\n",
       "theta[161]  0.54    0.00 0.02  0.50  0.52  0.54  0.55  0.58 35034    1\n",
       "theta[162]  0.56    0.00 0.03  0.50  0.54  0.56  0.58  0.62 32087    1\n",
       "theta[163]  0.52    0.00 0.01  0.50  0.51  0.52  0.54  0.55 36893    1\n",
       "theta[164]  0.46    0.00 0.04  0.37  0.43  0.46  0.49  0.54 35147    1\n",
       "theta[165]  0.48    0.00 0.00  0.47  0.47  0.48  0.48  0.48 35747    1\n",
       "theta[166]  0.52    0.00 0.02  0.47  0.50  0.51  0.53  0.56 36109    1\n",
       "theta[167]  0.54    0.00 0.00  0.54  0.54  0.54  0.55  0.55 35768    1\n",
       "theta[168]  0.49    0.00 0.04  0.41  0.46  0.49  0.52  0.57 34875    1\n",
       "theta[169]  0.45    0.00 0.01  0.42  0.44  0.45  0.46  0.47 35106    1\n",
       "theta[170]  0.48    0.00 0.02  0.44  0.47  0.48  0.49  0.52 34808    1\n",
       "theta[171]  0.43    0.00 0.04  0.34  0.40  0.43  0.46  0.51 30924    1\n",
       "theta[172]  0.44    0.00 0.03  0.38  0.42  0.44  0.46  0.50 34535    1\n",
       "theta[173]  0.45    0.00 0.02  0.41  0.44  0.45  0.46  0.49 37034    1\n",
       "theta[174]  0.54    0.00 0.01  0.52  0.53  0.54  0.55  0.56 34672    1\n",
       "lp__       34.22    0.13 9.33 15.51 27.95 34.51 40.74 51.55  5047    1\n",
       "\n",
       "Samples were drawn using NUTS(diag_e) at Tue Oct 26 13:27:08 2021.\n",
       "For each parameter, n_eff is a crude measure of effective sample size,\n",
       "and Rhat is the potential scale reduction factor on split chains (at \n",
       "convergence, Rhat=1)."
      ]
     },
     "metadata": {},
     "output_type": "display_data"
    }
   ],
   "source": [
    "posterior_cp <- as.array(dmso_fit)\n",
    "np_cp <- nuts_params(dmso_fit)\n",
    "dmso_fit"
   ]
  },
  {
   "cell_type": "markdown",
   "id": "5422a3b0-f723-4b54-aca6-80cb8ad81f7b",
   "metadata": {},
   "source": [
    "Next, I'm going to run a diagnostic plot, just to see how things are going. Based on what I'm seeing above, I'm really comfortable with this parameterization of the hierarchical model. Basically, I have my overall treatment effect, and I have a good idea of what the different plate effects are. \n",
    "\n",
    "Keep in mind mu, $\\mu$, is the treatment mean, tau, $\\tau$, is the treatment standard deviation, and each of the thetas, $\\theta [i]$, are the individual plate effects."
   ]
  },
  {
   "cell_type": "code",
   "execution_count": 49,
   "id": "b6e2a232-ed9c-4d7b-a45c-85fb8be8c277",
   "metadata": {},
   "outputs": [
    {
     "data": {
      "image/png": "[encoded data removed]",
      "text/plain": [
       "plot without title"
      ]
     },
     "metadata": {
      "image/png": {
       "height": 420,
       "width": 420
      }
     },
     "output_type": "display_data"
    }
   ],
   "source": [
    "mcmc_pairs(posterior_cp, np = np_cp, pars = c(\"mu\",\"tau\",\"theta[1]\"),\n",
    "           off_diag_args = list(size = 0.75))"
   ]
  },
  {
   "cell_type": "markdown",
   "id": "1142e726-d8d6-4601-adcc-6f57c558bade",
   "metadata": {},
   "source": [
    "The diagnostic plots here are looking good. This is what I'd expect given there were no issues/warnings thrown by Stan.\n",
    "\n",
    "So, we have a treatment mean of 0.50 and a standard deviation of 0.30. Coincidentally, is similar to what we saw for DMSO in the estrogen runs.\n",
    "\n",
    "Out of curiosity, I'm wondering what the pooled mean and standard deviation would have been (simple average and standard deviation without doing the hierarchical modeling). Let's see:"
   ]
  },
  {
   "cell_type": "code",
   "execution_count": 50,
   "id": "5c1fb97c-59bc-44d2-b98d-58b08fecc322",
   "metadata": {},
   "outputs": [
    {
     "data": {
      "text/html": [
       "<table class=\"dataframe\">\n",
       "<caption>A tibble: 1 × 2</caption>\n",
       "<thead>\n",
       "\t<tr><th scope=col>mean</th><th scope=col>sd</th></tr>\n",
       "\t<tr><th scope=col>&lt;dbl&gt;</th><th scope=col>&lt;dbl&gt;</th></tr>\n",
       "</thead>\n",
       "<tbody>\n",
       "\t<tr><td>0.4803888</td><td>0.2895522</td></tr>\n",
       "</tbody>\n",
       "</table>\n"
      ],
      "text/latex": [
       "A tibble: 1 × 2\n",
       "\\begin{tabular}{ll}\n",
       " mean & sd\\\\\n",
       " <dbl> & <dbl>\\\\\n",
       "\\hline\n",
       "\t 0.4803888 & 0.2895522\\\\\n",
       "\\end{tabular}\n"
      ],
      "text/markdown": [
       "\n",
       "A tibble: 1 × 2\n",
       "\n",
       "| mean &lt;dbl&gt; | sd &lt;dbl&gt; |\n",
       "|---|---|\n",
       "| 0.4803888 | 0.2895522 |\n",
       "\n"
      ],
      "text/plain": [
       "  mean      sd       \n",
       "1 0.4803888 0.2895522"
      ]
     },
     "metadata": {},
     "output_type": "display_data"
    }
   ],
   "source": [
    "dmso_progesterone %>% summarize(mean=mean(rval), sd=sd(rval))"
   ]
  },
  {
   "cell_type": "markdown",
   "id": "1674124a-3221-4b1f-a1e1-7cd4fbd1f617",
   "metadata": {},
   "source": [
    "Kinda cool that really, at the end of the day, the mean from the hierarchical model is pretty close to the simple pooled mean and standard deviation of 0.42 and 0.38. This means that the plate effects aren't really all that much. It also means that the distribution is actually relatively flat.\n",
    "\n",
    "I'm going to use the hierarchical model mean and standard deviation going forward. And here's what the histogram looks like:"
   ]
  },
  {
   "cell_type": "code",
   "execution_count": 51,
   "id": "02bf149e-792f-48a5-8242-566105dbcf5d",
   "metadata": {},
   "outputs": [
    {
     "name": "stderr",
     "output_type": "stream",
     "text": [
      "`stat_bin()` using `bins = 30`. Pick better value with `binwidth`.\n",
      "\n",
      "`stat_bin()` using `bins = 30`. Pick better value with `binwidth`.\n",
      "\n"
     ]
    },
    {
     "data": {
      "image/png": "[encoded data removed]",
      "text/plain": [
       "plot without title"
      ]
     },
     "metadata": {
      "image/png": {
       "height": 420,
       "width": 420
      }
     },
     "output_type": "display_data"
    },
    {
     "data": {
      "text/html": [
       "<style>\n",
       ".dl-inline {width: auto; margin:0; padding: 0}\n",
       ".dl-inline>dt, .dl-inline>dd {float: none; width: auto; display: inline-block}\n",
       ".dl-inline>dt::after {content: \":\\0020\"; padding-right: .5ex}\n",
       ".dl-inline>dt:not(:first-of-type) {padding-left: .5ex}\n",
       "</style><dl class=dl-inline><dt>2.5%</dt><dd>0.453145243242948</dd><dt>50%</dt><dd>0.4974115457728</dd><dt>97.5%</dt><dd>0.542046294863263</dd></dl>\n"
      ],
      "text/latex": [
       "\\begin{description*}\n",
       "\\item[2.5\\textbackslash{}\\%] 0.453145243242948\n",
       "\\item[50\\textbackslash{}\\%] 0.4974115457728\n",
       "\\item[97.5\\textbackslash{}\\%] 0.542046294863263\n",
       "\\end{description*}\n"
      ],
      "text/markdown": [
       "2.5%\n",
       ":   0.45314524324294850%\n",
       ":   0.497411545772897.5%\n",
       ":   0.542046294863263\n",
       "\n"
      ],
      "text/plain": [
       "     2.5%       50%     97.5% \n",
       "0.4531452 0.4974115 0.5420463 "
      ]
     },
     "metadata": {},
     "output_type": "display_data"
    },
    {
     "data": {
      "image/png": "[encoded data removed]",
      "text/plain": [
       "plot without title"
      ]
     },
     "metadata": {
      "image/png": {
       "height": 420,
       "width": 420
      }
     },
     "output_type": "display_data"
    }
   ],
   "source": [
    "dmso_mean_distro <- extract(dmso_fit)$mu\n",
    "dmso_sd_distro <- extract(dmso_fit)$tau\n",
    "\n",
    "dmso_mean_sd_distro_df <- data.frame(mean = dmso_mean_distro, sd = dmso_sd_distro)\n",
    "\n",
    "ggplot(dmso_mean_sd_distro_df, aes(x=mean)) +\n",
    "    geom_histogram()\n",
    "\n",
    "ggplot(dmso_mean_sd_distro_df, aes(x=sd)) +\n",
    "    geom_histogram()\n",
    "\n",
    "quantile(dmso_mean_distro, c(0.025, 0.5, 0.975))"
   ]
  },
  {
   "cell_type": "markdown",
   "id": "ce9cd267-363a-4ec9-89cb-b4223bcc4f22",
   "metadata": {},
   "source": [
    "So we can see that the mean has a median of 0.50 and a Bayesian interval of [0.45, 0.54]. Thus, the mean and median are likely within that range.\n",
    "\n",
    "### 1. Build the dataset\n",
    "\n",
    "I now have the DMSO data ready to go. So now I just need to get the data for all of the rest of the chemicals. To do that I ran this query:\n",
    "\n",
    "```\n",
    "SELECT assay_component.assay_component_name, assay_component.technological_target_type_sub, chemical.chnm, chemical.casn, sample.stkc, sample.stkc_unit, mc0.apid, mc0.rowi, mc0.coli, mc0.wllt, mc0.wllq, mc0.conc, mc0.rval, srcf \n",
    "FROM mc0 \n",
    "JOIN sample ON mc0.spid = sample.spid \n",
    "JOIN chemical ON sample.chid = chemical.chid \n",
    "JOIN chemicals_silent_spring_identified ON chemicals_silent_spring_identified.casn = chemical.casn\n",
    "JOIN assay_component ON assay_component.acid = mc0.acid \n",
    "WHERE mc0.acid = 597 \n",
    "ORDER BY chnm, conc\n",
    "```\n",
    "\n",
    "I output that data into the ```all_chems_progesterone_levels.txt``` file.\n",
    "\n",
    "Given this data should be monotonic, my guess is that the highest concentration should be the one where the largest fold change is -- that means that highest concentration should be the one that Cardona and Rudel used for calculating the fold change.\n",
    "\n",
    "This next code block is going to read in the data and keep only the highest concentration for further analysis:"
   ]
  },
  {
   "cell_type": "code",
   "execution_count": 52,
   "id": "4145cfbf-6acb-40a2-823d-9a4c5c35ea14",
   "metadata": {},
   "outputs": [
    {
     "data": {
      "text/html": [
       "<table class=\"dataframe\">\n",
       "<caption>A grouped_df: 6 × 14</caption>\n",
       "<thead>\n",
       "\t<tr><th scope=col>assay_component_name</th><th scope=col>technological_target_type_sub</th><th scope=col>chnm</th><th scope=col>casn</th><th scope=col>stkc</th><th scope=col>stkc_unit</th><th scope=col>apid</th><th scope=col>rowi</th><th scope=col>coli</th><th scope=col>wllt</th><th scope=col>wllq</th><th scope=col>conc</th><th scope=col>rval</th><th scope=col>srcf</th></tr>\n",
       "\t<tr><th scope=col>&lt;chr&gt;</th><th scope=col>&lt;chr&gt;</th><th scope=col>&lt;chr&gt;</th><th scope=col>&lt;chr&gt;</th><th scope=col>&lt;dbl&gt;</th><th scope=col>&lt;chr&gt;</th><th scope=col>&lt;chr&gt;</th><th scope=col>&lt;int&gt;</th><th scope=col>&lt;int&gt;</th><th scope=col>&lt;chr&gt;</th><th scope=col>&lt;int&gt;</th><th scope=col>&lt;dbl&gt;</th><th scope=col>&lt;dbl&gt;</th><th scope=col>&lt;chr&gt;</th></tr>\n",
       "</thead>\n",
       "<tbody>\n",
       "\t<tr><td>CEETOX_H295R_PROG</td><td>Progesterone</td><td>1-(Bromomethyl)-3-phenoxybenzene</td><td>51632-16-7</td><td>100.0</td><td>mM</td><td>09Apr2014.Plate.26</td><td>2</td><td>10</td><td>t</td><td>1</td><td>100.0</td><td>0.21</td><td>2900-100644 TO3 DR 09Apr2014 Plate 26_Cyprotex.csv           </td></tr>\n",
       "\t<tr><td>CEETOX_H295R_PROG</td><td>Progesterone</td><td>1-(Bromomethyl)-3-phenoxybenzene</td><td>51632-16-7</td><td>100.0</td><td>mM</td><td>09Apr2014.Plate.26</td><td>2</td><td>11</td><td>t</td><td>1</td><td>100.0</td><td>0.24</td><td>2900-100644 TO3 DR 09Apr2014 Plate 26_Cyprotex.csv           </td></tr>\n",
       "\t<tr><td>CEETOX_H295R_PROG</td><td>Progesterone</td><td>1-Chloroanthraquinone           </td><td>82-44-0   </td><td> 10.7</td><td>mM</td><td>03Sep2014.Plate.1 </td><td>2</td><td> 7</td><td>t</td><td>1</td><td> 10.7</td><td>0.36</td><td>2900-TO3 PhIII E1K Set 2 86 DR 03Sep2014 Plate 1_Cyprotex.csv</td></tr>\n",
       "\t<tr><td>CEETOX_H295R_PROG</td><td>Progesterone</td><td>1-Chloroanthraquinone           </td><td>82-44-0   </td><td> 10.7</td><td>mM</td><td>10Jun2015.Plate.20</td><td>2</td><td> 8</td><td>t</td><td>1</td><td> 10.7</td><td>0.80</td><td>2900-TO3 165 DR 10Jun2015 Plate 20A.csv                      </td></tr>\n",
       "\t<tr><td>CEETOX_H295R_PROG</td><td>Progesterone</td><td>1-Chloroanthraquinone           </td><td>82-44-0   </td><td> 10.7</td><td>mM</td><td>03Sep2014.Plate.1 </td><td>2</td><td> 6</td><td>t</td><td>1</td><td> 10.7</td><td>0.35</td><td>2900-TO3 PhIII E1K Set 2 86 DR 03Sep2014 Plate 1_Cyprotex.csv</td></tr>\n",
       "\t<tr><td>CEETOX_H295R_PROG</td><td>Progesterone</td><td>1-Chloroanthraquinone           </td><td>82-44-0   </td><td> 10.7</td><td>mM</td><td>10Jun2015.Plate.20</td><td>2</td><td> 9</td><td>t</td><td>1</td><td> 10.7</td><td>0.92</td><td>2900-TO3 165 DR 10Jun2015 Plate 20A.csv                      </td></tr>\n",
       "</tbody>\n",
       "</table>\n"
      ],
      "text/latex": [
       "A grouped\\_df: 6 × 14\n",
       "\\begin{tabular}{llllllllllllll}\n",
       " assay\\_component\\_name & technological\\_target\\_type\\_sub & chnm & casn & stkc & stkc\\_unit & apid & rowi & coli & wllt & wllq & conc & rval & srcf\\\\\n",
       " <chr> & <chr> & <chr> & <chr> & <dbl> & <chr> & <chr> & <int> & <int> & <chr> & <int> & <dbl> & <dbl> & <chr>\\\\\n",
       "\\hline\n",
       "\t CEETOX\\_H295R\\_PROG & Progesterone & 1-(Bromomethyl)-3-phenoxybenzene & 51632-16-7 & 100.0 & mM & 09Apr2014.Plate.26 & 2 & 10 & t & 1 & 100.0 & 0.21 & 2900-100644 TO3 DR 09Apr2014 Plate 26\\_Cyprotex.csv           \\\\\n",
       "\t CEETOX\\_H295R\\_PROG & Progesterone & 1-(Bromomethyl)-3-phenoxybenzene & 51632-16-7 & 100.0 & mM & 09Apr2014.Plate.26 & 2 & 11 & t & 1 & 100.0 & 0.24 & 2900-100644 TO3 DR 09Apr2014 Plate 26\\_Cyprotex.csv           \\\\\n",
       "\t CEETOX\\_H295R\\_PROG & Progesterone & 1-Chloroanthraquinone            & 82-44-0    &  10.7 & mM & 03Sep2014.Plate.1  & 2 &  7 & t & 1 &  10.7 & 0.36 & 2900-TO3 PhIII E1K Set 2 86 DR 03Sep2014 Plate 1\\_Cyprotex.csv\\\\\n",
       "\t CEETOX\\_H295R\\_PROG & Progesterone & 1-Chloroanthraquinone            & 82-44-0    &  10.7 & mM & 10Jun2015.Plate.20 & 2 &  8 & t & 1 &  10.7 & 0.80 & 2900-TO3 165 DR 10Jun2015 Plate 20A.csv                      \\\\\n",
       "\t CEETOX\\_H295R\\_PROG & Progesterone & 1-Chloroanthraquinone            & 82-44-0    &  10.7 & mM & 03Sep2014.Plate.1  & 2 &  6 & t & 1 &  10.7 & 0.35 & 2900-TO3 PhIII E1K Set 2 86 DR 03Sep2014 Plate 1\\_Cyprotex.csv\\\\\n",
       "\t CEETOX\\_H295R\\_PROG & Progesterone & 1-Chloroanthraquinone            & 82-44-0    &  10.7 & mM & 10Jun2015.Plate.20 & 2 &  9 & t & 1 &  10.7 & 0.92 & 2900-TO3 165 DR 10Jun2015 Plate 20A.csv                      \\\\\n",
       "\\end{tabular}\n"
      ],
      "text/markdown": [
       "\n",
       "A grouped_df: 6 × 14\n",
       "\n",
       "| assay_component_name &lt;chr&gt; | technological_target_type_sub &lt;chr&gt; | chnm &lt;chr&gt; | casn &lt;chr&gt; | stkc &lt;dbl&gt; | stkc_unit &lt;chr&gt; | apid &lt;chr&gt; | rowi &lt;int&gt; | coli &lt;int&gt; | wllt &lt;chr&gt; | wllq &lt;int&gt; | conc &lt;dbl&gt; | rval &lt;dbl&gt; | srcf &lt;chr&gt; |\n",
       "|---|---|---|---|---|---|---|---|---|---|---|---|---|---|\n",
       "| CEETOX_H295R_PROG | Progesterone | 1-(Bromomethyl)-3-phenoxybenzene | 51632-16-7 | 100.0 | mM | 09Apr2014.Plate.26 | 2 | 10 | t | 1 | 100.0 | 0.21 | 2900-100644 TO3 DR 09Apr2014 Plate 26_Cyprotex.csv            |\n",
       "| CEETOX_H295R_PROG | Progesterone | 1-(Bromomethyl)-3-phenoxybenzene | 51632-16-7 | 100.0 | mM | 09Apr2014.Plate.26 | 2 | 11 | t | 1 | 100.0 | 0.24 | 2900-100644 TO3 DR 09Apr2014 Plate 26_Cyprotex.csv            |\n",
       "| CEETOX_H295R_PROG | Progesterone | 1-Chloroanthraquinone            | 82-44-0    |  10.7 | mM | 03Sep2014.Plate.1  | 2 |  7 | t | 1 |  10.7 | 0.36 | 2900-TO3 PhIII E1K Set 2 86 DR 03Sep2014 Plate 1_Cyprotex.csv |\n",
       "| CEETOX_H295R_PROG | Progesterone | 1-Chloroanthraquinone            | 82-44-0    |  10.7 | mM | 10Jun2015.Plate.20 | 2 |  8 | t | 1 |  10.7 | 0.80 | 2900-TO3 165 DR 10Jun2015 Plate 20A.csv                       |\n",
       "| CEETOX_H295R_PROG | Progesterone | 1-Chloroanthraquinone            | 82-44-0    |  10.7 | mM | 03Sep2014.Plate.1  | 2 |  6 | t | 1 |  10.7 | 0.35 | 2900-TO3 PhIII E1K Set 2 86 DR 03Sep2014 Plate 1_Cyprotex.csv |\n",
       "| CEETOX_H295R_PROG | Progesterone | 1-Chloroanthraquinone            | 82-44-0    |  10.7 | mM | 10Jun2015.Plate.20 | 2 |  9 | t | 1 |  10.7 | 0.92 | 2900-TO3 165 DR 10Jun2015 Plate 20A.csv                       |\n",
       "\n"
      ],
      "text/plain": [
       "  assay_component_name technological_target_type_sub\n",
       "1 CEETOX_H295R_PROG    Progesterone                 \n",
       "2 CEETOX_H295R_PROG    Progesterone                 \n",
       "3 CEETOX_H295R_PROG    Progesterone                 \n",
       "4 CEETOX_H295R_PROG    Progesterone                 \n",
       "5 CEETOX_H295R_PROG    Progesterone                 \n",
       "6 CEETOX_H295R_PROG    Progesterone                 \n",
       "  chnm                             casn       stkc  stkc_unit\n",
       "1 1-(Bromomethyl)-3-phenoxybenzene 51632-16-7 100.0 mM       \n",
       "2 1-(Bromomethyl)-3-phenoxybenzene 51632-16-7 100.0 mM       \n",
       "3 1-Chloroanthraquinone            82-44-0     10.7 mM       \n",
       "4 1-Chloroanthraquinone            82-44-0     10.7 mM       \n",
       "5 1-Chloroanthraquinone            82-44-0     10.7 mM       \n",
       "6 1-Chloroanthraquinone            82-44-0     10.7 mM       \n",
       "  apid               rowi coli wllt wllq conc  rval\n",
       "1 09Apr2014.Plate.26 2    10   t    1    100.0 0.21\n",
       "2 09Apr2014.Plate.26 2    11   t    1    100.0 0.24\n",
       "3 03Sep2014.Plate.1  2     7   t    1     10.7 0.36\n",
       "4 10Jun2015.Plate.20 2     8   t    1     10.7 0.80\n",
       "5 03Sep2014.Plate.1  2     6   t    1     10.7 0.35\n",
       "6 10Jun2015.Plate.20 2     9   t    1     10.7 0.92\n",
       "  srcf                                                         \n",
       "1 2900-100644 TO3 DR 09Apr2014 Plate 26_Cyprotex.csv           \n",
       "2 2900-100644 TO3 DR 09Apr2014 Plate 26_Cyprotex.csv           \n",
       "3 2900-TO3 PhIII E1K Set 2 86 DR 03Sep2014 Plate 1_Cyprotex.csv\n",
       "4 2900-TO3 165 DR 10Jun2015 Plate 20A.csv                      \n",
       "5 2900-TO3 PhIII E1K Set 2 86 DR 03Sep2014 Plate 1_Cyprotex.csv\n",
       "6 2900-TO3 165 DR 10Jun2015 Plate 20A.csv                      "
      ]
     },
     "metadata": {},
     "output_type": "display_data"
    }
   ],
   "source": [
    "all_chems_progesterone <- as_tibble(read.table(file = \"./invitrodb_queries/progesterone_up_queries_and_data/all_chems_progesterone_levels.txt\", sep=\"\\t\", header=TRUE, quote=\"\\\"\"))\n",
    "all_chems_progesterone_summary <- all_chems_progesterone %>% \n",
    "                                group_by(chnm) %>% \n",
    "                                filter(conc == max(conc)) %>%\n",
    "                                arrange(chnm, conc)\n",
    "head(all_chems_progesterone_summary)"
   ]
  },
  {
   "cell_type": "markdown",
   "id": "3ae4d8eb-357a-4dd7-8ccf-4ec6dc273787",
   "metadata": {},
   "source": [
    "The analysis I'm going to do is rather straightforward, so I don't need to build a hierarchical model. That also means I don't need to run a hierarhical model.\n",
    "\n",
    "So my next step is to build the function that will perform the analysis. For each group I will use the mean of the DMSO response for the plate, found in ```dmso_progesterone_summary```, and then calculate where that value sits on the DMSO distribution I modeled earlier. I will also calculate if the difference between the chemical and DMSO is outside the region of practical equivalence (ROPE). For these purposes, I will define the ROPE such that we only care about differences where the chemical is greater than DMSO, and the ROPE boundary is at a difference of 1$\\mu$M, or 314.46$\\mu$g; I will also look at 0.2$\\mu$g/L.\n",
    "\n",
    "That 3144.6$\\mu$g is based on the following:\n",
    "\n",
    "```(1e-6g)(1mol/314.46g)(1e6umol) = 0.00318umol per 1 ug```\n",
    "\n",
    "For 10$\\mu$mol, it would take ```(1ug/0.00318umol) = (x/1umol)```\n",
    "\n",
    "```1ug x 1umol = x * 0.00318umol```\n",
    "\n",
    "```x = 1ug x 314.46```\n",
    "\n",
    "```x = 314.46ug```\n",
    "\n",
    "To be very clear, at 0.50$\\mu$g/L of progesterone in DMSO, even a 4x change would be 2.00$\\mu$g/L. That would be a difference of:\n",
    "\n",
    "```(2.00ug * 0.00318umol/ug) - (0.50ug * 0.00318umol/ug)```\n",
    "\n",
    "```0.00636 - 0.001905 = 0.004455 ```\n",
    "\n",
    "0.004455$\\mu$M.\n",
    "\n",
    "That is barely a spit in the ocean of a difference biologically speaking. It is 4.45nM difference. In other words, the fold changes that were observed in Cardona and Rudel (2021) are not biologically relevant at all. \n",
    "\n",
    "In the absence of good alternatives, I will settle on using a difference of 0.2$\\mu$g/L and 1.0$\\mu$g/L as the boundary level. What this means is that the 95% highest density interval for the difference must be greater than 0.2$\\mu$g/L in one case, and 1.0$\\mu$g/L in another case, to be considered different.\n",
    "\n",
    "Next, I'm going to calculate the analysis results across all of the chemicals. This will include the DMSO values, the percentage locations of the DMSO values on the DMSO distribution, and the percentage of the difference greater than 0.2$\\mu$g/L."
   ]
  },
  {
   "cell_type": "code",
   "execution_count": 53,
   "id": "cc28b53d-afa9-4bd2-9834-bf1cf50e696c",
   "metadata": {},
   "outputs": [
    {
     "data": {
      "text/html": [
       "<table class=\"dataframe\">\n",
       "<caption>A tibble: 6 × 2</caption>\n",
       "<thead>\n",
       "\t<tr><th scope=col>chnm</th><th scope=col>mean</th></tr>\n",
       "\t<tr><th scope=col>&lt;chr&gt;</th><th scope=col>&lt;dbl&gt;</th></tr>\n",
       "</thead>\n",
       "<tbody>\n",
       "\t<tr><td>1-(Bromomethyl)-3-phenoxybenzene                                                 </td><td>0.2250</td></tr>\n",
       "\t<tr><td>1-Chloroanthraquinone                                                            </td><td>0.6075</td></tr>\n",
       "\t<tr><td>1-Methyl-3-phenyl-5-(3-(trifluoromethyl)phenyl)-4-pyridone                       </td><td>0.6200</td></tr>\n",
       "\t<tr><td>1,2-Phenylenediamine                                                             </td><td>0.4100</td></tr>\n",
       "\t<tr><td>1,3-Dichloro-6,7,8,9,10,12-hexahydroazepino[2,1-b]quinazoline hydrochloride (1:1)</td><td>0.3950</td></tr>\n",
       "\t<tr><td>1,4-Benzenediamine                                                               </td><td>0.4900</td></tr>\n",
       "</tbody>\n",
       "</table>\n"
      ],
      "text/latex": [
       "A tibble: 6 × 2\n",
       "\\begin{tabular}{ll}\n",
       " chnm & mean\\\\\n",
       " <chr> & <dbl>\\\\\n",
       "\\hline\n",
       "\t 1-(Bromomethyl)-3-phenoxybenzene                                                  & 0.2250\\\\\n",
       "\t 1-Chloroanthraquinone                                                             & 0.6075\\\\\n",
       "\t 1-Methyl-3-phenyl-5-(3-(trifluoromethyl)phenyl)-4-pyridone                        & 0.6200\\\\\n",
       "\t 1,2-Phenylenediamine                                                              & 0.4100\\\\\n",
       "\t 1,3-Dichloro-6,7,8,9,10,12-hexahydroazepino{[}2,1-b{]}quinazoline hydrochloride (1:1) & 0.3950\\\\\n",
       "\t 1,4-Benzenediamine                                                                & 0.4900\\\\\n",
       "\\end{tabular}\n"
      ],
      "text/markdown": [
       "\n",
       "A tibble: 6 × 2\n",
       "\n",
       "| chnm &lt;chr&gt; | mean &lt;dbl&gt; |\n",
       "|---|---|\n",
       "| 1-(Bromomethyl)-3-phenoxybenzene                                                  | 0.2250 |\n",
       "| 1-Chloroanthraquinone                                                             | 0.6075 |\n",
       "| 1-Methyl-3-phenyl-5-(3-(trifluoromethyl)phenyl)-4-pyridone                        | 0.6200 |\n",
       "| 1,2-Phenylenediamine                                                              | 0.4100 |\n",
       "| 1,3-Dichloro-6,7,8,9,10,12-hexahydroazepino[2,1-b]quinazoline hydrochloride (1:1) | 0.3950 |\n",
       "| 1,4-Benzenediamine                                                                | 0.4900 |\n",
       "\n"
      ],
      "text/plain": [
       "  chnm                                                                             \n",
       "1 1-(Bromomethyl)-3-phenoxybenzene                                                 \n",
       "2 1-Chloroanthraquinone                                                            \n",
       "3 1-Methyl-3-phenyl-5-(3-(trifluoromethyl)phenyl)-4-pyridone                       \n",
       "4 1,2-Phenylenediamine                                                             \n",
       "5 1,3-Dichloro-6,7,8,9,10,12-hexahydroazepino[2,1-b]quinazoline hydrochloride (1:1)\n",
       "6 1,4-Benzenediamine                                                               \n",
       "  mean  \n",
       "1 0.2250\n",
       "2 0.6075\n",
       "3 0.6200\n",
       "4 0.4100\n",
       "5 0.3950\n",
       "6 0.4900"
      ]
     },
     "metadata": {},
     "output_type": "display_data"
    }
   ],
   "source": [
    "all_chems_progesterone_trim <- all_chems_progesterone_summary[, c(3, 12, 13)]\n",
    "\n",
    "all_chems_progesterone_max_mean <- all_chems_progesterone_trim %>% \n",
    "                                group_by(chnm) %>% \n",
    "                                filter(conc == max(conc)) %>%\n",
    "                                arrange(chnm, conc) %>%\n",
    "                                summarize(mean = mean(rval))\n",
    "head(all_chems_progesterone_max_mean)"
   ]
  },
  {
   "cell_type": "code",
   "execution_count": 54,
   "id": "25c5ed2d-09e2-4f9a-881b-8e299608553f",
   "metadata": {},
   "outputs": [
    {
     "data": {
      "text/html": [
       "<table class=\"dataframe\">\n",
       "<caption>A grouped_df: 6 × 2</caption>\n",
       "<thead>\n",
       "\t<tr><th scope=col>chnm</th><th scope=col>apid</th></tr>\n",
       "\t<tr><th scope=col>&lt;chr&gt;</th><th scope=col>&lt;chr&gt;</th></tr>\n",
       "</thead>\n",
       "<tbody>\n",
       "\t<tr><td>1-(Bromomethyl)-3-phenoxybenzene                                                 </td><td>09Apr2014.Plate.26</td></tr>\n",
       "\t<tr><td>1-Chloroanthraquinone                                                            </td><td>03Sep2014.Plate.1 </td></tr>\n",
       "\t<tr><td>1-Chloroanthraquinone                                                            </td><td>10Jun2015.Plate.20</td></tr>\n",
       "\t<tr><td>1-Methyl-3-phenyl-5-(3-(trifluoromethyl)phenyl)-4-pyridone                       </td><td>10Jun2015.Plate.11</td></tr>\n",
       "\t<tr><td>1,2-Phenylenediamine                                                             </td><td>02Apr2014.Plate.10</td></tr>\n",
       "\t<tr><td>1,3-Dichloro-6,7,8,9,10,12-hexahydroazepino[2,1-b]quinazoline hydrochloride (1:1)</td><td>26Mar2014.Plate.18</td></tr>\n",
       "</tbody>\n",
       "</table>\n"
      ],
      "text/latex": [
       "A grouped\\_df: 6 × 2\n",
       "\\begin{tabular}{ll}\n",
       " chnm & apid\\\\\n",
       " <chr> & <chr>\\\\\n",
       "\\hline\n",
       "\t 1-(Bromomethyl)-3-phenoxybenzene                                                  & 09Apr2014.Plate.26\\\\\n",
       "\t 1-Chloroanthraquinone                                                             & 03Sep2014.Plate.1 \\\\\n",
       "\t 1-Chloroanthraquinone                                                             & 10Jun2015.Plate.20\\\\\n",
       "\t 1-Methyl-3-phenyl-5-(3-(trifluoromethyl)phenyl)-4-pyridone                        & 10Jun2015.Plate.11\\\\\n",
       "\t 1,2-Phenylenediamine                                                              & 02Apr2014.Plate.10\\\\\n",
       "\t 1,3-Dichloro-6,7,8,9,10,12-hexahydroazepino{[}2,1-b{]}quinazoline hydrochloride (1:1) & 26Mar2014.Plate.18\\\\\n",
       "\\end{tabular}\n"
      ],
      "text/markdown": [
       "\n",
       "A grouped_df: 6 × 2\n",
       "\n",
       "| chnm &lt;chr&gt; | apid &lt;chr&gt; |\n",
       "|---|---|\n",
       "| 1-(Bromomethyl)-3-phenoxybenzene                                                  | 09Apr2014.Plate.26 |\n",
       "| 1-Chloroanthraquinone                                                             | 03Sep2014.Plate.1  |\n",
       "| 1-Chloroanthraquinone                                                             | 10Jun2015.Plate.20 |\n",
       "| 1-Methyl-3-phenyl-5-(3-(trifluoromethyl)phenyl)-4-pyridone                        | 10Jun2015.Plate.11 |\n",
       "| 1,2-Phenylenediamine                                                              | 02Apr2014.Plate.10 |\n",
       "| 1,3-Dichloro-6,7,8,9,10,12-hexahydroazepino[2,1-b]quinazoline hydrochloride (1:1) | 26Mar2014.Plate.18 |\n",
       "\n"
      ],
      "text/plain": [
       "  chnm                                                                             \n",
       "1 1-(Bromomethyl)-3-phenoxybenzene                                                 \n",
       "2 1-Chloroanthraquinone                                                            \n",
       "3 1-Chloroanthraquinone                                                            \n",
       "4 1-Methyl-3-phenyl-5-(3-(trifluoromethyl)phenyl)-4-pyridone                       \n",
       "5 1,2-Phenylenediamine                                                             \n",
       "6 1,3-Dichloro-6,7,8,9,10,12-hexahydroazepino[2,1-b]quinazoline hydrochloride (1:1)\n",
       "  apid              \n",
       "1 09Apr2014.Plate.26\n",
       "2 03Sep2014.Plate.1 \n",
       "3 10Jun2015.Plate.20\n",
       "4 10Jun2015.Plate.11\n",
       "5 02Apr2014.Plate.10\n",
       "6 26Mar2014.Plate.18"
      ]
     },
     "metadata": {},
     "output_type": "display_data"
    }
   ],
   "source": [
    "all_chems_progesterone <- as_tibble(read.table(file = \"./invitrodb_queries/progesterone_up_queries_and_data/all_chems_progesterone_levels.txt\", sep=\"\\t\", header=TRUE))\n",
    "all_chems_progesterone_plates <- all_chems_progesterone %>% \n",
    "                                group_by(chnm) %>% \n",
    "                                filter(conc == max(conc)) %>%\n",
    "                                arrange(chnm, conc) %>% \n",
    "                                distinct(apid)\n",
    "head(all_chems_progesterone_plates)"
   ]
  },
  {
   "cell_type": "code",
   "execution_count": 55,
   "id": "26608096-015f-481b-bcb5-450f57f36bd6",
   "metadata": {},
   "outputs": [
    {
     "data": {
      "image/png": "[encoded data removed]",
      "text/plain": [
       "Plot with title \"Histogram of dmso_pred_distro\""
      ]
     },
     "metadata": {
      "image/png": {
       "height": 420,
       "width": 420
      }
     },
     "output_type": "display_data"
    }
   ],
   "source": [
    "dmso_pred_distro <- vector(mode=\"double\", length = 10000)\n",
    "for(i in 1:10000){\n",
    "    repeat{\n",
    "        dmso_pred_distro[i] <- rnorm(1, dmso_mean_distro[i], dmso_sd_distro[i])\n",
    "        if(length(which(dmso_pred_distro < 0)) == 0){break}\n",
    "    }\n",
    "}\n",
    "hist(dmso_pred_distro)"
   ]
  },
  {
   "cell_type": "code",
   "execution_count": 56,
   "id": "7a1d9e65-96cf-4190-a46b-bd03ece9eb80",
   "metadata": {},
   "outputs": [
    {
     "data": {
      "text/html": [
       "<strong>png:</strong> 2"
      ],
      "text/latex": [
       "\\textbf{png:} 2"
      ],
      "text/markdown": [
       "**png:** 2"
      ],
      "text/plain": [
       "png \n",
       "  2 "
      ]
     },
     "metadata": {},
     "output_type": "display_data"
    }
   ],
   "source": [
    "png(\"dmso_pred_distro_progesterone.png\", width=5000, height=5000, res=600)\n",
    "hist(dmso_pred_distro)\n",
    "dev.off()"
   ]
  },
  {
   "cell_type": "code",
   "execution_count": 57,
   "id": "1fc339b4-4d0a-46de-952f-1c1bc0fbce98",
   "metadata": {},
   "outputs": [
    {
     "data": {
      "image/png": "[encoded data removed]",
      "text/plain": [
       "Plot with title \"Histogram of chem_quantiles\""
      ]
     },
     "metadata": {
      "image/png": {
       "height": 420,
       "width": 420
      }
     },
     "output_type": "display_data"
    }
   ],
   "source": [
    "chem_quantiles <- sapply(all_chems_progesterone_plates$apid, dmso_quantile, dmso_pred_distro, dmso_progesterone_summary)\n",
    "hist(chem_quantiles)"
   ]
  },
  {
   "cell_type": "code",
   "execution_count": 58,
   "id": "11f0ca13-c124-46c2-8c7d-9067be2388fb",
   "metadata": {},
   "outputs": [
    {
     "data": {
      "text/html": [
       "0.444866920152091"
      ],
      "text/latex": [
       "0.444866920152091"
      ],
      "text/markdown": [
       "0.444866920152091"
      ],
      "text/plain": [
       "[1] 0.4448669"
      ]
     },
     "metadata": {},
     "output_type": "display_data"
    },
    {
     "data": {
      "text/html": [
       "0.760456273764259"
      ],
      "text/latex": [
       "0.760456273764259"
      ],
      "text/markdown": [
       "0.760456273764259"
      ],
      "text/plain": [
       "[1] 0.7604563"
      ]
     },
     "metadata": {},
     "output_type": "display_data"
    }
   ],
   "source": [
    "length(which(chem_quantiles <=0.25))/length(chem_quantiles)\n",
    "length(which(chem_quantiles < .50))/length(chem_quantiles)"
   ]
  },
  {
   "cell_type": "markdown",
   "id": "eb9bb35f-c809-4e17-b39c-c18815f77434",
   "metadata": {},
   "source": [
    "What we see from the histogram above is that approximately 44% of the chemicals that Cardona and Rudel (2021) identified have DMSO progesterone levels at or below the 25th percentile of the DMSO estrogen concentration distribution. "
   ]
  },
  {
   "cell_type": "code",
   "execution_count": 59,
   "id": "8826bdee-5bb1-4527-8fa9-5ab4cf853609",
   "metadata": {},
   "outputs": [
    {
     "data": {
      "text/html": [
       "0.493670886075949"
      ],
      "text/latex": [
       "0.493670886075949"
      ],
      "text/markdown": [
       "0.493670886075949"
      ],
      "text/plain": [
       "[1] 0.4936709"
      ]
     },
     "metadata": {},
     "output_type": "display_data"
    },
    {
     "data": {
      "text/html": [
       "0.822784810126582"
      ],
      "text/latex": [
       "0.822784810126582"
      ],
      "text/markdown": [
       "0.822784810126582"
      ],
      "text/plain": [
       "[1] 0.8227848"
      ]
     },
     "metadata": {},
     "output_type": "display_data"
    }
   ],
   "source": [
    "all_chems_progesterone_plates$percentile <- chem_quantiles\n",
    "unique_chems <- unique(all_chems_progesterone_plates$chnm)\n",
    "percentile_25_chems <- unique(all_chems_progesterone_plates[which(all_chems_progesterone_plates$percentile <= 0.25), 1])\n",
    "length(pull(percentile_25_chems, chnm))/length(unique_chems)\n",
    "\n",
    "all_chems_progesterone_plates$percentile <- chem_quantiles\n",
    "unique_chems <- unique(all_chems_progesterone_plates$chnm)\n",
    "percentile_25_chems <- unique(all_chems_progesterone_plates[which(all_chems_progesterone_plates$percentile <= 0.50), 1])\n",
    "length(pull(percentile_25_chems, chnm))/length(unique_chems)"
   ]
  },
  {
   "cell_type": "markdown",
   "id": "a97496ff-e04f-427f-89f0-a6e339be7e83",
   "metadata": {},
   "source": [
    "The 44% statistic is based on plates. Some high concentration groups for each chemical identified by Cardona and Rudel (2021) are associated with more than one plate. So, if we just look at the unique chemicals themselves, and not the plates, what we see is that about 49% of the chemicals identified by Cardona and Rudel (2021) have at least one plate where the DMSO estrogen concentration is at or below the 25th percentile. About 82% of the chemicals identified by Cardona and Rudel (2021) have a DMSO estrogen concentration below the median.\n",
    "\n",
    "If there was better sampling, we would not expect to see the largest mass of the chemicals that change P4 levels greater than DMSO to be at or below the median. Instead, we would expect to see the DMSO levels more concentrated around the median, and far less of the mass at or below the 25th percentile. The distribution that we are seeing here is clearly a product of sampling bias.\n",
    "\n",
    "In the next code block I'm going to calculate the difference distribution density that is outside of the ROPE. If the critical probability is greater than 95%, then the difference distribution density is outside the ROPE."
   ]
  },
  {
   "cell_type": "code",
   "execution_count": 60,
   "id": "81a3abd1-c78d-403a-b795-2a0674d0ce39",
   "metadata": {},
   "outputs": [],
   "source": [
    "critical_analysis <- sapply(all_chems_progesterone_max_mean$mean, diff_quant, dmso_pred_distro, dmso_sd_distro)\n",
    "all_chems_progesterone_max_mean_prob <- cbind(all_chems_progesterone_max_mean, critical_analysis)"
   ]
  },
  {
   "cell_type": "code",
   "execution_count": 61,
   "id": "758ddee5-f93f-4cd3-aad8-b472c2179bbc",
   "metadata": {},
   "outputs": [
    {
     "data": {
      "text/html": [
       "<table class=\"dataframe\">\n",
       "<caption>A data.frame: 33 × 3</caption>\n",
       "<thead>\n",
       "\t<tr><th></th><th scope=col>chnm</th><th scope=col>mean</th><th scope=col>critical_analysis</th></tr>\n",
       "\t<tr><th></th><th scope=col>&lt;chr&gt;</th><th scope=col>&lt;dbl&gt;</th><th scope=col>&lt;dbl&gt;</th></tr>\n",
       "</thead>\n",
       "<tbody>\n",
       "\t<tr><th scope=row>8</th><td>1,5-Naphthalenediamine       </td><td> 2.5900</td><td>1.0000</td></tr>\n",
       "\t<tr><th scope=row>9</th><td>1,â€‹2-â€‹Benzenediol        </td><td> 1.8600</td><td>0.9960</td></tr>\n",
       "\t<tr><th scope=row>15</th><td>2-Aminoanthraquinone         </td><td> 2.6900</td><td>1.0000</td></tr>\n",
       "\t<tr><th scope=row>16</th><td>2-Ethoxy-5-(1-propenyl)phenol</td><td> 1.9050</td><td>0.9971</td></tr>\n",
       "\t<tr><th scope=row>19</th><td>2-Naphthylamine              </td><td> 6.7600</td><td>1.0000</td></tr>\n",
       "\t<tr><th scope=row>34</th><td>3-Phenylphenol               </td><td> 3.4125</td><td>1.0000</td></tr>\n",
       "\t<tr><th scope=row>36</th><td>3,3'-Dimethoxybenzidine      </td><td> 2.4200</td><td>0.9999</td></tr>\n",
       "\t<tr><th scope=row>38</th><td>3,3'-Dimethylbenzidine       </td><td> 3.6500</td><td>1.0000</td></tr>\n",
       "\t<tr><th scope=row>46</th><td>4-Aminoazobenzene            </td><td> 2.4750</td><td>1.0000</td></tr>\n",
       "\t<tr><th scope=row>48</th><td>4-Chloro-2-methylphenol      </td><td> 1.7850</td><td>0.9928</td></tr>\n",
       "\t<tr><th scope=row>49</th><td>4-Iodophenol                 </td><td> 2.6325</td><td>1.0000</td></tr>\n",
       "\t<tr><th scope=row>51</th><td>4,4'-Diaminobiphenyl methane </td><td> 6.0400</td><td>1.0000</td></tr>\n",
       "\t<tr><th scope=row>53</th><td>5-Amino-2-methylphenol       </td><td> 2.5200</td><td>1.0000</td></tr>\n",
       "\t<tr><th scope=row>54</th><td>6-Methoxy-2-benzothiazolamine</td><td> 6.2725</td><td>1.0000</td></tr>\n",
       "\t<tr><th scope=row>61</th><td>Azinphos-ethyl               </td><td> 5.5025</td><td>1.0000</td></tr>\n",
       "\t<tr><th scope=row>65</th><td>Benzidine                    </td><td> 1.4750</td><td>0.9648</td></tr>\n",
       "\t<tr><th scope=row>67</th><td>C.I. Disperse Yellow 3       </td><td> 6.0100</td><td>1.0000</td></tr>\n",
       "\t<tr><th scope=row>68</th><td>C.I. Solvent Yellow 14       </td><td> 1.7650</td><td>0.9923</td></tr>\n",
       "\t<tr><th scope=row>77</th><td>CI-1044                      </td><td> 4.3925</td><td>1.0000</td></tr>\n",
       "\t<tr><th scope=row>81</th><td>Clodinafop-propargyl         </td><td> 1.7250</td><td>0.9914</td></tr>\n",
       "\t<tr><th scope=row>85</th><td>Coumaphos                    </td><td> 3.8150</td><td>1.0000</td></tr>\n",
       "\t<tr><th scope=row>88</th><td>CP-456773                    </td><td> 2.3950</td><td>0.9996</td></tr>\n",
       "\t<tr><th scope=row>92</th><td>Cybutryne                    </td><td> 1.5300</td><td>0.9727</td></tr>\n",
       "\t<tr><th scope=row>98</th><td>Diazinon                     </td><td>18.7650</td><td>1.0000</td></tr>\n",
       "\t<tr><th scope=row>106</th><td>EPN                          </td><td> 1.8900</td><td>0.9973</td></tr>\n",
       "\t<tr><th scope=row>110</th><td>Ethion                       </td><td> 2.0350</td><td>0.9990</td></tr>\n",
       "\t<tr><th scope=row>113</th><td>Fenitrothion                 </td><td> 2.5850</td><td>1.0000</td></tr>\n",
       "\t<tr><th scope=row>124</th><td>Malathion                    </td><td> 1.6100</td><td>0.9803</td></tr>\n",
       "\t<tr><th scope=row>126</th><td>Methiocarb                   </td><td> 2.1625</td><td>0.9996</td></tr>\n",
       "\t<tr><th scope=row>127</th><td>Methyl 3-methylorsellinate   </td><td> 8.8800</td><td>1.0000</td></tr>\n",
       "\t<tr><th scope=row>128</th><td>Methyl parathion             </td><td> 1.5450</td><td>0.9736</td></tr>\n",
       "\t<tr><th scope=row>138</th><td>o-Aminoazotoluene            </td><td> 1.7350</td><td>0.9909</td></tr>\n",
       "\t<tr><th scope=row>142</th><td>Parathion                    </td><td> 1.4800</td><td>0.9634</td></tr>\n",
       "</tbody>\n",
       "</table>\n"
      ],
      "text/latex": [
       "A data.frame: 33 × 3\n",
       "\\begin{tabular}{r|lll}\n",
       "  & chnm & mean & critical\\_analysis\\\\\n",
       "  & <chr> & <dbl> & <dbl>\\\\\n",
       "\\hline\n",
       "\t8 & 1,5-Naphthalenediamine        &  2.5900 & 1.0000\\\\\n",
       "\t9 & 1,â€‹2-â€‹Benzenediol         &  1.8600 & 0.9960\\\\\n",
       "\t15 & 2-Aminoanthraquinone          &  2.6900 & 1.0000\\\\\n",
       "\t16 & 2-Ethoxy-5-(1-propenyl)phenol &  1.9050 & 0.9971\\\\\n",
       "\t19 & 2-Naphthylamine               &  6.7600 & 1.0000\\\\\n",
       "\t34 & 3-Phenylphenol                &  3.4125 & 1.0000\\\\\n",
       "\t36 & 3,3'-Dimethoxybenzidine       &  2.4200 & 0.9999\\\\\n",
       "\t38 & 3,3'-Dimethylbenzidine        &  3.6500 & 1.0000\\\\\n",
       "\t46 & 4-Aminoazobenzene             &  2.4750 & 1.0000\\\\\n",
       "\t48 & 4-Chloro-2-methylphenol       &  1.7850 & 0.9928\\\\\n",
       "\t49 & 4-Iodophenol                  &  2.6325 & 1.0000\\\\\n",
       "\t51 & 4,4'-Diaminobiphenyl methane  &  6.0400 & 1.0000\\\\\n",
       "\t53 & 5-Amino-2-methylphenol        &  2.5200 & 1.0000\\\\\n",
       "\t54 & 6-Methoxy-2-benzothiazolamine &  6.2725 & 1.0000\\\\\n",
       "\t61 & Azinphos-ethyl                &  5.5025 & 1.0000\\\\\n",
       "\t65 & Benzidine                     &  1.4750 & 0.9648\\\\\n",
       "\t67 & C.I. Disperse Yellow 3        &  6.0100 & 1.0000\\\\\n",
       "\t68 & C.I. Solvent Yellow 14        &  1.7650 & 0.9923\\\\\n",
       "\t77 & CI-1044                       &  4.3925 & 1.0000\\\\\n",
       "\t81 & Clodinafop-propargyl          &  1.7250 & 0.9914\\\\\n",
       "\t85 & Coumaphos                     &  3.8150 & 1.0000\\\\\n",
       "\t88 & CP-456773                     &  2.3950 & 0.9996\\\\\n",
       "\t92 & Cybutryne                     &  1.5300 & 0.9727\\\\\n",
       "\t98 & Diazinon                      & 18.7650 & 1.0000\\\\\n",
       "\t106 & EPN                           &  1.8900 & 0.9973\\\\\n",
       "\t110 & Ethion                        &  2.0350 & 0.9990\\\\\n",
       "\t113 & Fenitrothion                  &  2.5850 & 1.0000\\\\\n",
       "\t124 & Malathion                     &  1.6100 & 0.9803\\\\\n",
       "\t126 & Methiocarb                    &  2.1625 & 0.9996\\\\\n",
       "\t127 & Methyl 3-methylorsellinate    &  8.8800 & 1.0000\\\\\n",
       "\t128 & Methyl parathion              &  1.5450 & 0.9736\\\\\n",
       "\t138 & o-Aminoazotoluene             &  1.7350 & 0.9909\\\\\n",
       "\t142 & Parathion                     &  1.4800 & 0.9634\\\\\n",
       "\\end{tabular}\n"
      ],
      "text/markdown": [
       "\n",
       "A data.frame: 33 × 3\n",
       "\n",
       "| <!--/--> | chnm &lt;chr&gt; | mean &lt;dbl&gt; | critical_analysis &lt;dbl&gt; |\n",
       "|---|---|---|---|\n",
       "| 8 | 1,5-Naphthalenediamine        |  2.5900 | 1.0000 |\n",
       "| 9 | 1,â€‹2-â€‹Benzenediol         |  1.8600 | 0.9960 |\n",
       "| 15 | 2-Aminoanthraquinone          |  2.6900 | 1.0000 |\n",
       "| 16 | 2-Ethoxy-5-(1-propenyl)phenol |  1.9050 | 0.9971 |\n",
       "| 19 | 2-Naphthylamine               |  6.7600 | 1.0000 |\n",
       "| 34 | 3-Phenylphenol                |  3.4125 | 1.0000 |\n",
       "| 36 | 3,3'-Dimethoxybenzidine       |  2.4200 | 0.9999 |\n",
       "| 38 | 3,3'-Dimethylbenzidine        |  3.6500 | 1.0000 |\n",
       "| 46 | 4-Aminoazobenzene             |  2.4750 | 1.0000 |\n",
       "| 48 | 4-Chloro-2-methylphenol       |  1.7850 | 0.9928 |\n",
       "| 49 | 4-Iodophenol                  |  2.6325 | 1.0000 |\n",
       "| 51 | 4,4'-Diaminobiphenyl methane  |  6.0400 | 1.0000 |\n",
       "| 53 | 5-Amino-2-methylphenol        |  2.5200 | 1.0000 |\n",
       "| 54 | 6-Methoxy-2-benzothiazolamine |  6.2725 | 1.0000 |\n",
       "| 61 | Azinphos-ethyl                |  5.5025 | 1.0000 |\n",
       "| 65 | Benzidine                     |  1.4750 | 0.9648 |\n",
       "| 67 | C.I. Disperse Yellow 3        |  6.0100 | 1.0000 |\n",
       "| 68 | C.I. Solvent Yellow 14        |  1.7650 | 0.9923 |\n",
       "| 77 | CI-1044                       |  4.3925 | 1.0000 |\n",
       "| 81 | Clodinafop-propargyl          |  1.7250 | 0.9914 |\n",
       "| 85 | Coumaphos                     |  3.8150 | 1.0000 |\n",
       "| 88 | CP-456773                     |  2.3950 | 0.9996 |\n",
       "| 92 | Cybutryne                     |  1.5300 | 0.9727 |\n",
       "| 98 | Diazinon                      | 18.7650 | 1.0000 |\n",
       "| 106 | EPN                           |  1.8900 | 0.9973 |\n",
       "| 110 | Ethion                        |  2.0350 | 0.9990 |\n",
       "| 113 | Fenitrothion                  |  2.5850 | 1.0000 |\n",
       "| 124 | Malathion                     |  1.6100 | 0.9803 |\n",
       "| 126 | Methiocarb                    |  2.1625 | 0.9996 |\n",
       "| 127 | Methyl 3-methylorsellinate    |  8.8800 | 1.0000 |\n",
       "| 128 | Methyl parathion              |  1.5450 | 0.9736 |\n",
       "| 138 | o-Aminoazotoluene             |  1.7350 | 0.9909 |\n",
       "| 142 | Parathion                     |  1.4800 | 0.9634 |\n",
       "\n"
      ],
      "text/plain": [
       "    chnm                          mean    critical_analysis\n",
       "8   1,5-Naphthalenediamine         2.5900 1.0000           \n",
       "9   1,â\\200‹2-â\\200‹Benzenediol          1.8600 0.9960           \n",
       "15  2-Aminoanthraquinone           2.6900 1.0000           \n",
       "16  2-Ethoxy-5-(1-propenyl)phenol  1.9050 0.9971           \n",
       "19  2-Naphthylamine                6.7600 1.0000           \n",
       "34  3-Phenylphenol                 3.4125 1.0000           \n",
       "36  3,3'-Dimethoxybenzidine        2.4200 0.9999           \n",
       "38  3,3'-Dimethylbenzidine         3.6500 1.0000           \n",
       "46  4-Aminoazobenzene              2.4750 1.0000           \n",
       "48  4-Chloro-2-methylphenol        1.7850 0.9928           \n",
       "49  4-Iodophenol                   2.6325 1.0000           \n",
       "51  4,4'-Diaminobiphenyl methane   6.0400 1.0000           \n",
       "53  5-Amino-2-methylphenol         2.5200 1.0000           \n",
       "54  6-Methoxy-2-benzothiazolamine  6.2725 1.0000           \n",
       "61  Azinphos-ethyl                 5.5025 1.0000           \n",
       "65  Benzidine                      1.4750 0.9648           \n",
       "67  C.I. Disperse Yellow 3         6.0100 1.0000           \n",
       "68  C.I. Solvent Yellow 14         1.7650 0.9923           \n",
       "77  CI-1044                        4.3925 1.0000           \n",
       "81  Clodinafop-propargyl           1.7250 0.9914           \n",
       "85  Coumaphos                      3.8150 1.0000           \n",
       "88  CP-456773                      2.3950 0.9996           \n",
       "92  Cybutryne                      1.5300 0.9727           \n",
       "98  Diazinon                      18.7650 1.0000           \n",
       "106 EPN                            1.8900 0.9973           \n",
       "110 Ethion                         2.0350 0.9990           \n",
       "113 Fenitrothion                   2.5850 1.0000           \n",
       "124 Malathion                      1.6100 0.9803           \n",
       "126 Methiocarb                     2.1625 0.9996           \n",
       "127 Methyl 3-methylorsellinate     8.8800 1.0000           \n",
       "128 Methyl parathion               1.5450 0.9736           \n",
       "138 o-Aminoazotoluene              1.7350 0.9909           \n",
       "142 Parathion                      1.4800 0.9634           "
      ]
     },
     "metadata": {},
     "output_type": "display_data"
    }
   ],
   "source": [
    "all_chems_progesterone_max_mean_prob[which(all_chems_progesterone_max_mean_prob$critical_analysis > 0.95), ]"
   ]
  },
  {
   "cell_type": "markdown",
   "id": "32be61b8-ed30-4157-9c52-2f0ca8d3df1f",
   "metadata": {},
   "source": [
    "Take-home message: we cannot trust the end results of any analysis of the progesterone data given what we know at this time. Specifically, we know that there is a plate/day effect. We know that this plate/day effect is substantial. We do not know what ground truth should be for the DMSO data -- thus, we cannot say that one group of DMSO plate data is better than another group. As a result, we cannot trust the vehicle information. That means that we cannot use this data to identify chemicals that may be good candidates for following up on their ability to increase progesterone levels in vitro.\n",
    "\n",
    "This demonstrates again that exploratory analysis is key and critical to identifying potential quality issues prior to analysis, and definitely prior to drawing any types of conclusions on flawed data."
   ]
  },
  {
   "cell_type": "code",
   "execution_count": null,
   "id": "4981e3db-b473-470c-a2a7-8202a5bfef04",
   "metadata": {},
   "outputs": [],
   "source": []
  }
 ],
 "metadata": {
  "kernelspec": {
   "display_name": "R",
   "language": "R",
   "name": "ir"
  },
  "language_info": {
   "codemirror_mode": "r",
   "file_extension": ".r",
   "mimetype": "text/x-r-source",
   "name": "R",
   "pygments_lexer": "r",
   "version": "4.1.1"
  }
 },
 "nbformat": 4,
 "nbformat_minor": 5
}
